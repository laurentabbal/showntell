{
 "cells": [
  {
   "cell_type": "markdown",
   "metadata": {},
   "source": [
    "# Jupyter Notebooks - Chemistry Demos\n",
    "\n",
    "A range of packages exist for rendering molecules in 2D and 3D and embedding the result in an Jupyter notebook code cell output."
   ]
  },
  {
   "cell_type": "markdown",
   "metadata": {},
   "source": [
    "## `pybel`\n",
    "\n",
    "The `pybel` package wraps [OpenBabel](http://openbabel.org/docs/current/index.html), an application that supports the reading and writing of chemical information.\n",
    "\n",
    "`pybel` can be used to render a compound described using [SMILES](http://opensmiles.org/spec/open-smiles.html)."
   ]
  },
  {
   "cell_type": "code",
   "execution_count": 1,
   "metadata": {},
   "outputs": [],
   "source": [
    "import pybel"
   ]
  },
  {
   "cell_type": "markdown",
   "metadata": {
    "variables": {
     "m=\"CC(C)C(=O)C(C)C\"; print(m)": "CC(C)C(=O)C(C)C",
     "mol = pybel.readstring( \"smi\",m ); mol": "<img src=\"data:image/svg+xml;base64,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\"/>"
    }
   },
   "source": [
    "For example, we can generate a SMILES string such as {{m=\"CC(C)C(=O)C(C)C\"; print(m)}} and then display the associated molecular diagram: {{mol = pybel.readstring( \"smi\",m ); mol}}\n",
    "\n",
    "*Double click this markdown cell to see how to define the string and render the diagram.*"
   ]
  },
  {
   "cell_type": "markdown",
   "metadata": {},
   "source": [
    "We can also save the string as a `.sdf` file, with 3D co-ordinates included."
   ]
  },
  {
   "cell_type": "code",
   "execution_count": 2,
   "metadata": {},
   "outputs": [
    {
     "data": {
      "image/svg+xml": [
       "<svg xmlns=\"http://www.w3.org/2000/svg\" font-family=\"sans-serif\" height=\"100\" stroke=\"rgb(0,0,0)\" stroke-linecap=\"round\" stroke-width=\"2\" viewBox=\"0 0 285.477 220\" width=\"100\" x=\"0\" y=\"0\">\n",
       "<line stroke=\"rgb(0,0,0)\" stroke-width=\"2.0\" x1=\"109.3\" x2=\"109.3\" y1=\"100.0\" y2=\"73.0\" />\n",
       "<line stroke=\"rgb(0,0,0)\" stroke-width=\"2.0\" x1=\"205.5\" x2=\"232.5\" y1=\"140.0\" y2=\"140.0\" />\n",
       "<line stroke=\"rgb(0,0,0)\" stroke-width=\"2.0\" x1=\"186.0\" x2=\"190.3\" y1=\"95.3\" y2=\"82.0\" />\n",
       "<line stroke=\"rgb(0,0,0)\" stroke-width=\"2.0\" x1=\"74.6\" x2=\"51.3\" y1=\"160.0\" y2=\"173.5\" />\n",
       "<line stroke=\"rgb(0,0,0)\" stroke-width=\"2.0\" x1=\"120.5\" x2=\"132.7\" y1=\"53.5\" y2=\"46.5\" />\n",
       "<line stroke=\"rgb(0,0,0)\" stroke-width=\"2.0\" x1=\"98.0\" x2=\"85.9\" y1=\"53.5\" y2=\"46.5\" />\n",
       "<line stroke=\"rgb(0,0,0)\" stroke-width=\"2.0\" x1=\"143.9\" x2=\"143.9\" y1=\"160.0\" y2=\"120.0\" />\n",
       "<line stroke=\"rgb(0,0,0)\" stroke-width=\"2.0\" x1=\"151.1\" x2=\"151.1\" y1=\"154.0\" y2=\"126.0\" />\n",
       "<line stroke=\"rgb(0,0,0)\" stroke-width=\"2.0\" x1=\"143.9\" x2=\"169.6\" y1=\"120.0\" y2=\"111.7\" />\n",
       "<line stroke=\"rgb(0,0,0)\" stroke-width=\"2.0\" x1=\"189.6\" x2=\"205.5\" y1=\"118.2\" y2=\"140.0\" />\n",
       "<line stroke=\"rgb(0,0,0)\" stroke-width=\"2.0\" x1=\"205.5\" x2=\"189.7\" y1=\"140.0\" y2=\"161.7\" />\n",
       "<line stroke=\"rgb(0,0,0)\" stroke-width=\"2.0\" x1=\"196.1\" x2=\"185.1\" y1=\"140.6\" y2=\"155.8\" />\n",
       "<line stroke=\"rgb(0,0,0)\" stroke-width=\"2.0\" x1=\"169.6\" x2=\"143.9\" y1=\"168.3\" y2=\"160.0\" />\n",
       "<line stroke=\"rgb(0,0,0)\" stroke-width=\"2.0\" x1=\"74.6\" x2=\"74.6\" y1=\"160.0\" y2=\"133.0\" />\n",
       "<line stroke=\"rgb(0,0,0)\" stroke-width=\"2.0\" x1=\"86.1\" x2=\"109.3\" y1=\"113.4\" y2=\"100.0\" />\n",
       "<line stroke=\"rgb(0,0,0)\" stroke-width=\"2.0\" x1=\"91.4\" x2=\"107.7\" y1=\"118.6\" y2=\"109.2\" />\n",
       "<line stroke=\"rgb(0,0,0)\" stroke-width=\"2.0\" x1=\"109.3\" x2=\"143.9\" y1=\"100.0\" y2=\"120.0\" />\n",
       "<line stroke=\"rgb(0,0,0)\" stroke-width=\"2.0\" x1=\"143.9\" x2=\"120.5\" y1=\"160.0\" y2=\"173.5\" />\n",
       "<line stroke=\"rgb(0,0,0)\" stroke-width=\"2.0\" x1=\"97.9\" x2=\"74.6\" y1=\"173.4\" y2=\"160.0\" />\n",
       "<line stroke=\"rgb(0,0,0)\" stroke-width=\"2.0\" x1=\"99.7\" x2=\"83.4\" y1=\"166.2\" y2=\"156.8\" />\n",
       "<text fill=\"rgb(12,12,255)\" font-size=\"16\" stroke=\"rgb(12,12,255)\" stroke-width=\"1\" x=\"175.965309\" y=\"180.360680\">N</text>\n",
       "<text fill=\"rgb(12,12,255)\" font-size=\"16\" stroke=\"rgb(12,12,255)\" stroke-width=\"1\" x=\"175.965309\" y=\"115.639320\">N</text>\n",
       "<text fill=\"rgb(12,12,255)\" font-size=\"16\" stroke=\"rgb(12,12,255)\" stroke-width=\"1\" x=\"68.641016\" y=\"128.000000\">N</text>\n",
       "<text fill=\"rgb(12,12,255)\" font-size=\"16\" stroke=\"rgb(12,12,255)\" stroke-width=\"1\" x=\"103.282032\" y=\"188.000000\">N</text>\n",
       "<text fill=\"rgb(12,12,255)\" font-size=\"16\" stroke=\"rgb(12,12,255)\" stroke-width=\"1\" x=\"103.282032\" y=\"68.000000\">N</text>\n",
       "<text fill=\"rgb(191,191,191)\" font-size=\"16\" stroke=\"rgb(191,191,191)\" stroke-width=\"1\" x=\"239.476719\" y=\"148.000000\">H</text>\n",
       "<text fill=\"rgb(191,191,191)\" font-size=\"16\" stroke=\"rgb(191,191,191)\" stroke-width=\"1\" x=\"188.325989\" y=\"77.597060\">H</text>\n",
       "<text fill=\"rgb(191,191,191)\" font-size=\"16\" stroke=\"rgb(191,191,191)\" stroke-width=\"1\" x=\"34.000000\" y=\"188.000000\">H</text>\n",
       "<text fill=\"rgb(191,191,191)\" font-size=\"16\" stroke=\"rgb(191,191,191)\" stroke-width=\"1\" x=\"137.923048\" y=\"48.000000\">H</text>\n",
       "<text fill=\"rgb(191,191,191)\" font-size=\"16\" stroke=\"rgb(191,191,191)\" stroke-width=\"1\" x=\"68.641016\" y=\"48.000000\">H</text>\n",
       "</svg>\n"
      ],
      "text/plain": [
       "<pybel.Molecule at 0x7f4cf0d46c88>"
      ]
     },
     "execution_count": 2,
     "metadata": {},
     "output_type": "execute_result"
    }
   ],
   "source": [
    "mol = pybel.readstring( \"smi\",\"C1=NC2=C(N1)C(=NC=N2)N\" )\n",
    "\n",
    "#Add hydrogens\n",
    "mol.addh()\n",
    "\n",
    "#Generate 3D co-ordinates\n",
    "mol.make3D()\n",
    "mol.write(\"sdf\",'adenine.sdf')\n",
    "mol"
   ]
  },
  {
   "cell_type": "markdown",
   "metadata": {},
   "source": [
    "### `moldesign`\n",
    "\n",
    "The `moldesign` [Molecular Design Toolkit](https://autodesk.github.io/molecular-design-toolkit/index.html) package provides a wide range of tools for working with and visualising chemical data."
   ]
  },
  {
   "cell_type": "code",
   "execution_count": 3,
   "metadata": {
    "scrolled": true
   },
   "outputs": [
    {
     "name": "stderr",
     "output_type": "stream",
     "text": [
      "WARNING: notebook visualizations may not function correctly because:\n",
      "- MDT expected nbmolviz version \"0.7.0\" but version \"0.7.0rc9\" is installed\n",
      "\n",
      "You may be able to correct these issues by running this command on the command line:\n",
      "    $ python -m nbmolviz activate\n",
      "\n",
      "or by running the following python commands:\n",
      "    >>> import nbmolviz.install\n",
      "    >>> nbmolviz.install.autoinstall()\n",
      "Afterwards, reload the notebook in your web browser.\n"
     ]
    }
   ],
   "source": [
    "import moldesign as mdt\n",
    "from moldesign import units as u"
   ]
  },
  {
   "cell_type": "markdown",
   "metadata": {},
   "source": [
    "`moldesign` can read in and render compunds saved as `.sdf` files:"
   ]
  },
  {
   "cell_type": "code",
   "execution_count": 4,
   "metadata": {},
   "outputs": [
    {
     "name": "stdout",
     "output_type": "stream",
     "text": [
      "WARNING: assigned name Z to unnamed chain object @ 0xffffffe0\n"
     ]
    },
    {
     "data": {
      "application/vnd.jupyter.widget-view+json": {
       "model_id": "442def6cade6482eb7681894de29b5bd",
       "version_major": 2,
       "version_minor": 0
      },
      "text/plain": [
       "A Jupyter Widget"
      ]
     },
     "metadata": {},
     "output_type": "display_data"
    }
   ],
   "source": [
    "mol=mdt.read(\"adenine.sdf\")\n",
    "mol.draw()"
   ]
  },
  {
   "cell_type": "markdown",
   "metadata": {
    "variables": {
     "x= mdt.from_smiles(\"CC(C)C(=O)C(C)C\") ; x": "<h3 id=\"molecule-cc-c-c-o-c-c-c-22-atoms-\">Molecule: &quot;CC(C)C(=O)C(C)C&quot; (22 atoms)</h3>\n<p><strong>Mass</strong>: 114.10446507091767 atomic_mass_unit</p>\n<p><strong>Formula</strong>: C<sub>7</sub>H<sub>14</sub>O<sub>1</sub></p>\n<p><strong>Charge</strong>: 0 elementary_charge</p>\n"
    }
   },
   "source": [
    "We can also create objects directly from a SMILES string and report back some basic information about the corresponding compound:\n",
    "\n",
    "For example: {{x= mdt.from_smiles(\"CC(C)C(=O)C(C)C\") ; x}}\n",
    "\n",
    "\n",
    "*Double click the cell to see how this report was generated.*"
   ]
  },
  {
   "cell_type": "markdown",
   "metadata": {},
   "source": [
    "We can also visualise the same compound:"
   ]
  },
  {
   "cell_type": "code",
   "execution_count": 5,
   "metadata": {
    "hide_input": true,
    "scrolled": false
   },
   "outputs": [
    {
     "data": {
      "application/vnd.jupyter.widget-view+json": {
       "model_id": "4b179224af5d4daea0982f195ca391d6",
       "version_major": 2,
       "version_minor": 0
      },
      "text/plain": [
       "A Jupyter Widget"
      ]
     },
     "metadata": {},
     "output_type": "display_data"
    }
   ],
   "source": [
    "x.draw()"
   ]
  },
  {
   "cell_type": "markdown",
   "metadata": {},
   "source": [
    "Models can be retrieved from the RCSB Protein Data Bank (PDB) by referring to the appropriate model ID.\n",
    "\n",
    "For example, we can retrieve a model from PDB and then render it:"
   ]
  },
  {
   "cell_type": "code",
   "execution_count": 6,
   "metadata": {},
   "outputs": [
    {
     "data": {
      "application/vnd.jupyter.widget-view+json": {
       "model_id": "16402da6a53540b4b7d8b2b61bdb699e",
       "version_major": 2,
       "version_minor": 0
      },
      "text/plain": [
       "A Jupyter Widget"
      ]
     },
     "metadata": {},
     "output_type": "display_data"
    }
   ],
   "source": [
    "protease = mdt.from_pdb('3AID')\n",
    "protease.draw()"
   ]
  },
  {
   "cell_type": "markdown",
   "metadata": {},
   "source": [
    "More examples via https://iwatobipen.wordpress.com/2017/07/30/quantum-chemistry-calculation-with-python/"
   ]
  },
  {
   "cell_type": "markdown",
   "metadata": {},
   "source": [
    "## `pubchempy`\n",
    "\n",
    "The [`pubchempy` package](https://github.com/mcs07/PubChemPy) [[docs](http://pubchempy.readthedocs.io/en/latest/)] provides an interface to [PubChem](https://pubchem.ncbi.nlm.nih.gov/) that allows users to lookup compound structures by name."
   ]
  },
  {
   "cell_type": "code",
   "execution_count": 33,
   "metadata": {},
   "outputs": [
    {
     "data": {
      "text/plain": [
       "'CCO'"
      ]
     },
     "execution_count": 33,
     "metadata": {},
     "output_type": "execute_result"
    }
   ],
   "source": [
    "import pubchempy as pcp\n",
    "ethanol = pcp.get_compounds('ethanol', 'name')[0]\n",
    "ethanol.canonical_smiles"
   ]
  },
  {
   "cell_type": "code",
   "execution_count": 32,
   "metadata": {},
   "outputs": [
    {
     "data": {
      "text/plain": [
       "'ethanol'"
      ]
     },
     "execution_count": 32,
     "metadata": {},
     "output_type": "execute_result"
    }
   ],
   "source": [
    "#Look up by SMILES string\n",
    "compound = pcp.get_compounds('CCO', 'smiles')[0]\n",
    "compound.iupac_name"
   ]
  },
  {
   "cell_type": "markdown",
   "metadata": {},
   "source": [
    "By chaining together various packages, we can look up things by name and then render them."
   ]
  },
  {
   "cell_type": "code",
   "execution_count": 35,
   "metadata": {},
   "outputs": [
    {
     "data": {
      "image/svg+xml": [
       "<svg xmlns=\"http://www.w3.org/2000/svg\" font-family=\"sans-serif\" height=\"100\" stroke=\"rgb(0,0,0)\" stroke-linecap=\"round\" stroke-width=\"2\" viewBox=\"0 0 218.564 140\" width=\"100\" x=\"0\" y=\"0\">\n",
       "<line stroke=\"rgb(0,0,0)\" stroke-width=\"2.0\" x1=\"178.6\" x2=\"178.6\" y1=\"87.0\" y2=\"60.0\" />\n",
       "<line stroke=\"rgb(0,0,0)\" stroke-width=\"2.0\" x1=\"178.6\" x2=\"143.9\" y1=\"60.0\" y2=\"40.0\" />\n",
       "<line stroke=\"rgb(0,0,0)\" stroke-width=\"2.0\" x1=\"143.9\" x2=\"109.3\" y1=\"40.0\" y2=\"60.0\" />\n",
       "<line stroke=\"rgb(0,0,0)\" stroke-width=\"2.0\" x1=\"109.3\" x2=\"74.6\" y1=\"60.0\" y2=\"40.0\" />\n",
       "<line stroke=\"rgb(0,0,0)\" stroke-width=\"2.0\" x1=\"74.6\" x2=\"51.3\" y1=\"40.0\" y2=\"53.5\" />\n",
       "<text fill=\"rgb(102,102,102)\" font-size=\"16\" stroke=\"rgb(102,102,102)\" stroke-width=\"1\" x=\"174.564065\" y=\"108.000000\">CH</text>\n",
       "<text fill=\"rgb(102,102,102)\" font-size=\"13\" stroke=\"rgb(102,102,102)\" stroke-width=\"1\" x=\"198.564065\" y=\"111.680000\">3</text>\n",
       "<text fill=\"rgb(255,12,12)\" font-size=\"16\" stroke=\"rgb(255,12,12)\" stroke-width=\"1\" x=\"22.000000\" y=\"68.000000\">HO</text>\n",
       "</svg>\n"
      ],
      "text/plain": [
       "<pybel.Molecule at 0x7f4c865fad30>"
      ]
     },
     "execution_count": 35,
     "metadata": {},
     "output_type": "execute_result"
    }
   ],
   "source": [
    "pentanol = pcp.get_compounds('pentanol', 'name')[0]\n",
    "p = pybel.readstring( \"smi\", pentanol.canonical_smiles )\n",
    "p"
   ]
  },
  {
   "cell_type": "code",
   "execution_count": 40,
   "metadata": {},
   "outputs": [
    {
     "data": {
      "image/svg+xml": [
       "<svg xmlns=\"http://www.w3.org/2000/svg\" font-family=\"sans-serif\" height=\"100\" stroke=\"rgb(0,0,0)\" stroke-linecap=\"round\" stroke-width=\"2\" viewBox=\"0 0 234.641 229.282\" width=\"100\" x=\"0\" y=\"0\">\n",
       "<line stroke=\"rgb(0,0,0)\" stroke-width=\"2.0\" x1=\"154.6\" x2=\"134.6\" y1=\"114.6\" y2=\"149.3\" />\n",
       "<line stroke=\"rgb(0,0,0)\" stroke-width=\"2.0\" x1=\"134.6\" x2=\"94.6\" y1=\"149.3\" y2=\"149.3\" />\n",
       "<line stroke=\"rgb(0,0,0)\" stroke-width=\"2.0\" x1=\"94.6\" x2=\"74.6\" y1=\"149.3\" y2=\"114.6\" />\n",
       "<line stroke=\"rgb(0,0,0)\" stroke-width=\"2.0\" x1=\"74.6\" x2=\"94.6\" y1=\"114.6\" y2=\"80.0\" />\n",
       "<line stroke=\"rgb(0,0,0)\" stroke-width=\"2.0\" x1=\"94.6\" x2=\"121.6\" y1=\"80.0\" y2=\"80.0\" />\n",
       "<line stroke=\"rgb(0,0,0)\" stroke-width=\"2.0\" x1=\"154.6\" x2=\"154.6\" y1=\"114.6\" y2=\"87.6\" />\n",
       "<line stroke=\"rgb(0,0,0)\" stroke-width=\"2.0\" x1=\"154.6\" x2=\"131.3\" y1=\"114.6\" y2=\"101.1\" />\n",
       "<line stroke=\"rgb(0,0,0)\" stroke-width=\"2.0\" x1=\"154.6\" x2=\"181.6\" y1=\"114.6\" y2=\"114.6\" />\n",
       "<line stroke=\"rgb(0,0,0)\" stroke-width=\"2.0\" x1=\"134.6\" x2=\"134.6\" y1=\"149.3\" y2=\"176.3\" />\n",
       "<line stroke=\"rgb(0,0,0)\" stroke-width=\"2.0\" x1=\"134.6\" x2=\"158.0\" y1=\"149.3\" y2=\"162.8\" />\n",
       "<line stroke=\"rgb(0,0,0)\" stroke-width=\"2.0\" x1=\"94.6\" x2=\"71.3\" y1=\"149.3\" y2=\"162.8\" />\n",
       "<line stroke=\"rgb(0,0,0)\" stroke-width=\"2.0\" x1=\"94.6\" x2=\"94.6\" y1=\"149.3\" y2=\"176.3\" />\n",
       "<line stroke=\"rgb(0,0,0)\" stroke-width=\"2.0\" x1=\"74.6\" x2=\"51.3\" y1=\"114.6\" y2=\"101.1\" />\n",
       "<line stroke=\"rgb(0,0,0)\" stroke-width=\"2.0\" x1=\"74.6\" x2=\"51.3\" y1=\"114.6\" y2=\"128.1\" />\n",
       "<line stroke=\"rgb(0,0,0)\" stroke-width=\"2.0\" x1=\"94.6\" x2=\"94.6\" y1=\"80.0\" y2=\"53.0\" />\n",
       "<line stroke=\"rgb(0,0,0)\" stroke-width=\"2.0\" x1=\"94.6\" x2=\"71.3\" y1=\"80.0\" y2=\"66.5\" />\n",
       "<line stroke=\"rgb(0,0,0)\" stroke-width=\"2.0\" x1=\"141.1\" x2=\"148.1\" y1=\"68.7\" y2=\"56.6\" />\n",
       "<text fill=\"rgb(191,191,191)\" font-size=\"16\" stroke=\"rgb(191,191,191)\" stroke-width=\"1\" x=\"128.641016\" y=\"197.282032\">H</text>\n",
       "<text fill=\"rgb(191,191,191)\" font-size=\"16\" stroke=\"rgb(191,191,191)\" stroke-width=\"1\" x=\"148.641016\" y=\"53.358984\">H</text>\n",
       "<text fill=\"rgb(191,191,191)\" font-size=\"16\" stroke=\"rgb(191,191,191)\" stroke-width=\"1\" x=\"54.000000\" y=\"68.000000\">H</text>\n",
       "<text fill=\"rgb(191,191,191)\" font-size=\"16\" stroke=\"rgb(191,191,191)\" stroke-width=\"1\" x=\"88.641016\" y=\"48.000000\">H</text>\n",
       "<text fill=\"rgb(191,191,191)\" font-size=\"16\" stroke=\"rgb(191,191,191)\" stroke-width=\"1\" x=\"34.000000\" y=\"142.641016\">H</text>\n",
       "<text fill=\"rgb(191,191,191)\" font-size=\"16\" stroke=\"rgb(191,191,191)\" stroke-width=\"1\" x=\"34.000000\" y=\"102.641016\">H</text>\n",
       "<text fill=\"rgb(191,191,191)\" font-size=\"16\" stroke=\"rgb(191,191,191)\" stroke-width=\"1\" x=\"88.641016\" y=\"197.282032\">H</text>\n",
       "<text fill=\"rgb(191,191,191)\" font-size=\"16\" stroke=\"rgb(191,191,191)\" stroke-width=\"1\" x=\"54.000000\" y=\"177.282032\">H</text>\n",
       "<text fill=\"rgb(191,191,191)\" font-size=\"16\" stroke=\"rgb(191,191,191)\" stroke-width=\"1\" x=\"163.282032\" y=\"177.282032\">H</text>\n",
       "<text fill=\"rgb(191,191,191)\" font-size=\"16\" stroke=\"rgb(191,191,191)\" stroke-width=\"1\" x=\"188.641016\" y=\"122.641016\">H</text>\n",
       "<text fill=\"rgb(191,191,191)\" font-size=\"16\" stroke=\"rgb(191,191,191)\" stroke-width=\"1\" x=\"114.000000\" y=\"102.641016\">H</text>\n",
       "<text fill=\"rgb(191,191,191)\" font-size=\"16\" stroke=\"rgb(191,191,191)\" stroke-width=\"1\" x=\"148.641016\" y=\"82.641016\">H</text>\n",
       "<text fill=\"rgb(255,12,12)\" font-size=\"16\" stroke=\"rgb(255,12,12)\" stroke-width=\"1\" x=\"128.641016\" y=\"88.000000\">O</text>\n",
       "</svg>\n"
      ],
      "text/plain": [
       "<pybel.Molecule at 0x7f4c9c1c8908>"
      ]
     },
     "execution_count": 40,
     "metadata": {},
     "output_type": "execute_result"
    }
   ],
   "source": [
    "p.addh()\n",
    "p"
   ]
  },
  {
   "cell_type": "code",
   "execution_count": 36,
   "metadata": {},
   "outputs": [
    {
     "data": {
      "application/vnd.jupyter.widget-view+json": {
       "model_id": "bc2b07eefe904389ae90c523a2cee5f7",
       "version_major": 2,
       "version_minor": 0
      },
      "text/plain": [
       "A Jupyter Widget"
      ]
     },
     "metadata": {},
     "output_type": "display_data"
    }
   ],
   "source": [
    "mdt.from_smiles(pentanol.canonical_smiles).draw()"
   ]
  },
  {
   "cell_type": "markdown",
   "metadata": {},
   "source": [
    "## `pypdb`\n",
    "\n",
    "`pydb` is a Python API for the [RCSB Protein Data Bank (PDB)](https://www.rcsb.org/pdb/home/home.do)."
   ]
  },
  {
   "cell_type": "code",
   "execution_count": 7,
   "metadata": {},
   "outputs": [
    {
     "name": "stdout",
     "output_type": "stream",
     "text": [
      "['4FQF', '4FR8']\n"
     ]
    }
   ],
   "source": [
    "#https://github.com/williamgilpin/pypdb/blob/master/demos/demos.ipynb\n",
    "from pypdb import *\n",
    "\n",
    "search_dict = make_query('nitroglycerin')\n",
    "found_pdbs = do_search(search_dict)\n",
    "print(found_pdbs)"
   ]
  },
  {
   "cell_type": "markdown",
   "metadata": {},
   "source": [
    "## `rdkit`\n",
    "\n",
    "The [`rdkit` python package](https://github.com/rdkit/rdkit) provides an API to the [RDKit Open-Source Cheminformatics Linux Package](http://www.rdkit.org/).\n",
    "\n",
    "We can create objects from SMILES strings and save them as image files in a variety of formats."
   ]
  },
  {
   "cell_type": "code",
   "execution_count": 8,
   "metadata": {},
   "outputs": [],
   "source": [
    "from rdkit import Chem\n",
    "from rdkit.Chem import Draw\n",
    "\n",
    "mol_str = 'COc1ccc2c(c1)[nH]c(n2)[S@@](=O)Cc1ncc(c(c1C)OC)C'\n",
    "\n",
    "m = Chem.MolFromSmiles( mol_str )\n",
    "Draw.MolToFile(m,'cdk2_mol1.o.png')\n",
    "Draw.MolToFile(m,'cdk2_mol1.o.svg')"
   ]
  },
  {
   "cell_type": "markdown",
   "metadata": {},
   "source": [
    "For example, the `.png` file:\n",
    "\n",
    "![](cdk2_mol1.o.png)\n",
    "\n",
    "And the `.svg` file:\n",
    "\n",
    "![](cdk2_mol1.o.svg)"
   ]
  },
  {
   "cell_type": "code",
   "execution_count": 9,
   "metadata": {
    "hide_input": false
   },
   "outputs": [
    {
     "data": {
      "text/plain": [
       "<rdkit.Chem.rdchem.Mol at 0x7f4cbd478490>"
      ]
     },
     "execution_count": 9,
     "metadata": {},
     "output_type": "execute_result"
    }
   ],
   "source": [
    "# displaying an SVG structure (in a Jupyter notebook) directly from the string\n",
    "# The kekulize error is a known error\n",
    "mol = Chem.MolFromSmiles( mol_str )\n",
    "mol"
   ]
  },
  {
   "cell_type": "code",
   "execution_count": 10,
   "metadata": {
    "hide_input": true
   },
   "outputs": [
    {
     "data": {
      "text/plain": [
       "'InChI=1S/C17H19N3O3S/c1-10-8-18-15(11(2)16(10)23-4)9-24(21)17-19-13-6-5-12(22-3)7-14(13)20-17/h5-8H,9H2,1-4H3,(H,19,20)/t24-/m0/s1'"
      ]
     },
     "execution_count": 10,
     "metadata": {},
     "output_type": "execute_result"
    }
   ],
   "source": [
    "Chem.MolToInchi(mol)"
   ]
  },
  {
   "cell_type": "markdown",
   "metadata": {},
   "source": [
    "## `nglview`\n",
    "\n",
    "[`nglview`](https://github.com/arose/nglview) is a package that supports the 3D visualisation of molecular structures and trajectories."
   ]
  },
  {
   "cell_type": "code",
   "execution_count": 11,
   "metadata": {},
   "outputs": [
    {
     "data": {
      "application/vnd.jupyter.widget-view+json": {
       "model_id": "81fb24047ca74445ab798c02d6c2d08b",
       "version_major": 2,
       "version_minor": 0
      },
      "text/plain": [
       "A Jupyter Widget"
      ]
     },
     "metadata": {},
     "output_type": "display_data"
    }
   ],
   "source": [
    "import nglview as nv\n",
    "\n",
    "# load \"3pqr\" from RCSB PDB and display viewer widget\n",
    "nv.show_pdbid(\"3pqr\")  "
   ]
  },
  {
   "cell_type": "code",
   "execution_count": null,
   "metadata": {},
   "outputs": [],
   "source": []
  }
 ],
 "metadata": {
  "hide_input": false,
  "kernelspec": {
   "display_name": "Python 3",
   "language": "python",
   "name": "python3"
  },
  "language_info": {
   "codemirror_mode": {
    "name": "ipython",
    "version": 3
   },
   "file_extension": ".py",
   "mimetype": "text/x-python",
   "name": "python",
   "nbconvert_exporter": "python",
   "pygments_lexer": "ipython3",
   "version": "3.6.3"
  }
 },
 "nbformat": 4,
 "nbformat_minor": 2
}

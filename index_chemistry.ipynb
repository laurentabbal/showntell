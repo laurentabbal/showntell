{
 "cells": [
  {
   "cell_type": "markdown",
   "metadata": {},
   "source": [
    "# Jupyter Notebooks - Chemistry Demos\n",
    "\n",
    "A range of packages exist for rendering molecules in 2D and 3D and embedding the result in an Jupyter notebook code cell output."
   ]
  },
  {
   "cell_type": "markdown",
   "metadata": {},
   "source": [
    "## `pybel`\n",
    "\n",
    "The `pybel` package wraps [OpenBabel](http://openbabel.org/docs/current/index.html), an application that supports the reading and writing of chemical information.\n",
    "\n",
    "`pybel` can be used to render a compound described using [SMILES](http://opensmiles.org/spec/open-smiles.html)."
   ]
  },
  {
   "cell_type": "code",
   "execution_count": 1,
   "metadata": {
    "collapsed": true
   },
   "outputs": [],
   "source": [
    "import pybel"
   ]
  },
  {
   "cell_type": "markdown",
   "metadata": {
    "variables": {
     "m=\"CC(C)C(=O)C(C)C\"; print(m)": "CC(C)C(=O)C(C)C",
     "mol = pybel.readstring( \"smi\",m ); mol": "<img src=\"data:image/svg+xml;base64,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\"/>"
    }
   },
   "source": [
    "For example, we can generate a SMILES string such as {{m=\"CC(C)C(=O)C(C)C\"; print(m)}} and then display the associated molecular diagram: {{mol = pybel.readstring( \"smi\",m ); mol}}\n",
    "\n",
    "*Double click this markdown cell to see how to define the string and render the diagram.*"
   ]
  },
  {
   "cell_type": "markdown",
   "metadata": {},
   "source": [
    "We can also save the string as a `.sdf` file, with 3D co-ordinates included."
   ]
  },
  {
   "cell_type": "code",
   "execution_count": 3,
   "metadata": {},
   "outputs": [
    {
     "data": {
      "image/svg+xml": [
       "<svg xmlns=\"http://www.w3.org/2000/svg\" font-family=\"sans-serif\" height=\"100\" stroke=\"rgb(0,0,0)\" stroke-linecap=\"round\" stroke-width=\"2\" viewBox=\"0 0 285.477 220\" width=\"100\" x=\"0\" y=\"0\">\n",
       "<line stroke=\"rgb(0,0,0)\" stroke-width=\"2.0\" x1=\"109.3\" x2=\"109.3\" y1=\"100.0\" y2=\"73.0\" />\n",
       "<line stroke=\"rgb(0,0,0)\" stroke-width=\"2.0\" x1=\"205.5\" x2=\"232.5\" y1=\"140.0\" y2=\"140.0\" />\n",
       "<line stroke=\"rgb(0,0,0)\" stroke-width=\"2.0\" x1=\"186.0\" x2=\"190.3\" y1=\"95.3\" y2=\"82.0\" />\n",
       "<line stroke=\"rgb(0,0,0)\" stroke-width=\"2.0\" x1=\"74.6\" x2=\"51.3\" y1=\"160.0\" y2=\"173.5\" />\n",
       "<line stroke=\"rgb(0,0,0)\" stroke-width=\"2.0\" x1=\"120.5\" x2=\"132.7\" y1=\"53.5\" y2=\"46.5\" />\n",
       "<line stroke=\"rgb(0,0,0)\" stroke-width=\"2.0\" x1=\"98.0\" x2=\"85.9\" y1=\"53.5\" y2=\"46.5\" />\n",
       "<line stroke=\"rgb(0,0,0)\" stroke-width=\"2.0\" x1=\"143.9\" x2=\"143.9\" y1=\"160.0\" y2=\"120.0\" />\n",
       "<line stroke=\"rgb(0,0,0)\" stroke-width=\"2.0\" x1=\"151.1\" x2=\"151.1\" y1=\"154.0\" y2=\"126.0\" />\n",
       "<line stroke=\"rgb(0,0,0)\" stroke-width=\"2.0\" x1=\"143.9\" x2=\"169.6\" y1=\"120.0\" y2=\"111.7\" />\n",
       "<line stroke=\"rgb(0,0,0)\" stroke-width=\"2.0\" x1=\"189.6\" x2=\"205.5\" y1=\"118.2\" y2=\"140.0\" />\n",
       "<line stroke=\"rgb(0,0,0)\" stroke-width=\"2.0\" x1=\"205.5\" x2=\"189.7\" y1=\"140.0\" y2=\"161.7\" />\n",
       "<line stroke=\"rgb(0,0,0)\" stroke-width=\"2.0\" x1=\"196.1\" x2=\"185.1\" y1=\"140.6\" y2=\"155.8\" />\n",
       "<line stroke=\"rgb(0,0,0)\" stroke-width=\"2.0\" x1=\"169.6\" x2=\"143.9\" y1=\"168.3\" y2=\"160.0\" />\n",
       "<line stroke=\"rgb(0,0,0)\" stroke-width=\"2.0\" x1=\"74.6\" x2=\"74.6\" y1=\"160.0\" y2=\"133.0\" />\n",
       "<line stroke=\"rgb(0,0,0)\" stroke-width=\"2.0\" x1=\"86.1\" x2=\"109.3\" y1=\"113.4\" y2=\"100.0\" />\n",
       "<line stroke=\"rgb(0,0,0)\" stroke-width=\"2.0\" x1=\"91.4\" x2=\"107.7\" y1=\"118.6\" y2=\"109.2\" />\n",
       "<line stroke=\"rgb(0,0,0)\" stroke-width=\"2.0\" x1=\"109.3\" x2=\"143.9\" y1=\"100.0\" y2=\"120.0\" />\n",
       "<line stroke=\"rgb(0,0,0)\" stroke-width=\"2.0\" x1=\"143.9\" x2=\"120.5\" y1=\"160.0\" y2=\"173.5\" />\n",
       "<line stroke=\"rgb(0,0,0)\" stroke-width=\"2.0\" x1=\"97.9\" x2=\"74.6\" y1=\"173.4\" y2=\"160.0\" />\n",
       "<line stroke=\"rgb(0,0,0)\" stroke-width=\"2.0\" x1=\"99.7\" x2=\"83.4\" y1=\"166.2\" y2=\"156.8\" />\n",
       "<text fill=\"rgb(12,12,255)\" font-size=\"16\" stroke=\"rgb(12,12,255)\" stroke-width=\"1\" x=\"175.965309\" y=\"180.360680\">N</text>\n",
       "<text fill=\"rgb(12,12,255)\" font-size=\"16\" stroke=\"rgb(12,12,255)\" stroke-width=\"1\" x=\"175.965309\" y=\"115.639320\">N</text>\n",
       "<text fill=\"rgb(12,12,255)\" font-size=\"16\" stroke=\"rgb(12,12,255)\" stroke-width=\"1\" x=\"68.641016\" y=\"128.000000\">N</text>\n",
       "<text fill=\"rgb(12,12,255)\" font-size=\"16\" stroke=\"rgb(12,12,255)\" stroke-width=\"1\" x=\"103.282032\" y=\"188.000000\">N</text>\n",
       "<text fill=\"rgb(12,12,255)\" font-size=\"16\" stroke=\"rgb(12,12,255)\" stroke-width=\"1\" x=\"103.282032\" y=\"68.000000\">N</text>\n",
       "<text fill=\"rgb(191,191,191)\" font-size=\"16\" stroke=\"rgb(191,191,191)\" stroke-width=\"1\" x=\"239.476719\" y=\"148.000000\">H</text>\n",
       "<text fill=\"rgb(191,191,191)\" font-size=\"16\" stroke=\"rgb(191,191,191)\" stroke-width=\"1\" x=\"188.325989\" y=\"77.597060\">H</text>\n",
       "<text fill=\"rgb(191,191,191)\" font-size=\"16\" stroke=\"rgb(191,191,191)\" stroke-width=\"1\" x=\"34.000000\" y=\"188.000000\">H</text>\n",
       "<text fill=\"rgb(191,191,191)\" font-size=\"16\" stroke=\"rgb(191,191,191)\" stroke-width=\"1\" x=\"137.923048\" y=\"48.000000\">H</text>\n",
       "<text fill=\"rgb(191,191,191)\" font-size=\"16\" stroke=\"rgb(191,191,191)\" stroke-width=\"1\" x=\"68.641016\" y=\"48.000000\">H</text>\n",
       "</svg>\n"
      ],
      "text/plain": [
       "<pybel.Molecule at 0x7fefac198240>"
      ]
     },
     "execution_count": 3,
     "metadata": {},
     "output_type": "execute_result"
    }
   ],
   "source": [
    "mol = pybel.readstring( \"smi\",\"C1=NC2=C(N1)C(=NC=N2)N\" )\n",
    "\n",
    "#Add hydrogens\n",
    "mol.addh()\n",
    "\n",
    "#Generate 3D co-ordinates\n",
    "mol.make3D()\n",
    "mol.write(\"sdf\",'adenine.sdf',overwrite=True)\n",
    "mol"
   ]
  },
  {
   "cell_type": "markdown",
   "metadata": {},
   "source": [
    "### `moldesign`\n",
    "\n",
    "The `moldesign` [Molecular Design Toolkit](https://autodesk.github.io/molecular-design-toolkit/index.html) package provides a wide range of tools for working with and visualising chemical data."
   ]
  },
  {
   "cell_type": "code",
   "execution_count": 29,
   "metadata": {
    "scrolled": true
   },
   "outputs": [],
   "source": [
    "import moldesign as mdt\n",
    "from moldesign import units as u"
   ]
  },
  {
   "cell_type": "markdown",
   "metadata": {},
   "source": [
    "`moldesign` can read in and render compunds saved as `.sdf` files:"
   ]
  },
  {
   "cell_type": "code",
   "execution_count": 5,
   "metadata": {},
   "outputs": [
    {
     "name": "stdout",
     "output_type": "stream",
     "text": [
      "WARNING: assigned name Z to unnamed chain object @ 0xffffffe0\n"
     ]
    },
    {
     "data": {
      "application/vnd.jupyter.widget-view+json": {
       "model_id": "878c369a61f84144bb6b0c7c41e7cc91",
       "version_major": 2,
       "version_minor": 0
      },
      "text/plain": [
       "A Jupyter Widget"
      ]
     },
     "metadata": {},
     "output_type": "display_data"
    }
   ],
   "source": [
    "mol=mdt.read(\"adenine.sdf\")\n",
    "mol.draw()"
   ]
  },
  {
   "cell_type": "markdown",
   "metadata": {
    "variables": {
     "x= mdt.from_smiles(\"CC(C)C(=O)C(C)C\") ; x": "<h3 id=\"molecule-cc-c-c-o-c-c-c-22-atoms-\">Molecule: &quot;CC(C)C(=O)C(C)C&quot; (22 atoms)</h3>\n<p><strong>Mass</strong>: 114.10446507091767 atomic_mass_unit</p>\n<p><strong>Formula</strong>: C<sub>7</sub>H<sub>14</sub>O<sub>1</sub></p>\n<p><strong>Charge</strong>: 0 elementary_charge</p>\n"
    }
   },
   "source": [
    "We can also create objects directly from a SMILES string and report back some basic information about the corresponding compound:\n",
    "\n",
    "For example: {{x= mdt.from_smiles(\"CC(C)C(=O)C(C)C\") ; x}}\n",
    "\n",
    "\n",
    "*Double click the cell to see how this report was generated.*"
   ]
  },
  {
   "cell_type": "markdown",
   "metadata": {},
   "source": [
    "We can also visualise the same compound:"
   ]
  },
  {
   "cell_type": "code",
   "execution_count": 6,
   "metadata": {
    "hide_input": true,
    "scrolled": false
   },
   "outputs": [
    {
     "data": {
      "application/vnd.jupyter.widget-view+json": {
       "model_id": "12a4d603e54b48d687ac6182a6027e87",
       "version_major": 2,
       "version_minor": 0
      },
      "text/plain": [
       "A Jupyter Widget"
      ]
     },
     "metadata": {},
     "output_type": "display_data"
    }
   ],
   "source": [
    "x.draw()"
   ]
  },
  {
   "cell_type": "markdown",
   "metadata": {},
   "source": [
    "Models can be retrieved from the RCSB Protein Data Bank (PDB) by referring to the appropriate model ID.\n",
    "\n",
    "For example, we can retrieve a model from PDB and then render it:"
   ]
  },
  {
   "cell_type": "code",
   "execution_count": 7,
   "metadata": {},
   "outputs": [
    {
     "data": {
      "application/vnd.jupyter.widget-view+json": {
       "model_id": "f23374e18dda4573a8127f2afd1ccbf3",
       "version_major": 2,
       "version_minor": 0
      },
      "text/plain": [
       "A Jupyter Widget"
      ]
     },
     "metadata": {},
     "output_type": "display_data"
    }
   ],
   "source": [
    "protease = mdt.from_pdb('3AID')\n",
    "protease.draw()"
   ]
  },
  {
   "cell_type": "markdown",
   "metadata": {},
   "source": [
    "More examples via https://iwatobipen.wordpress.com/2017/07/30/quantum-chemistry-calculation-with-python/"
   ]
  },
  {
   "cell_type": "markdown",
   "metadata": {},
   "source": [
    "## `pubchempy`\n",
    "\n",
    "The [`pubchempy` package](https://github.com/mcs07/PubChemPy) [[docs](http://pubchempy.readthedocs.io/en/latest/)] provides an interface to [PubChem](https://pubchem.ncbi.nlm.nih.gov/) that allows users to lookup compound structures by name."
   ]
  },
  {
   "cell_type": "code",
   "execution_count": 8,
   "metadata": {},
   "outputs": [
    {
     "data": {
      "text/plain": [
       "'CCO'"
      ]
     },
     "execution_count": 8,
     "metadata": {},
     "output_type": "execute_result"
    }
   ],
   "source": [
    "import pubchempy as pcp\n",
    "ethanol = pcp.get_compounds('ethanol', 'name')[0]\n",
    "ethanol.canonical_smiles"
   ]
  },
  {
   "cell_type": "code",
   "execution_count": 9,
   "metadata": {},
   "outputs": [
    {
     "data": {
      "text/plain": [
       "'ethanol'"
      ]
     },
     "execution_count": 9,
     "metadata": {},
     "output_type": "execute_result"
    }
   ],
   "source": [
    "#Look up by SMILES string\n",
    "compound = pcp.get_compounds('CCO', 'smiles')[0]\n",
    "compound.iupac_name"
   ]
  },
  {
   "cell_type": "markdown",
   "metadata": {},
   "source": [
    "By chaining together various packages, we can look up things by name and then render them."
   ]
  },
  {
   "cell_type": "code",
   "execution_count": 10,
   "metadata": {},
   "outputs": [
    {
     "data": {
      "image/svg+xml": [
       "<svg xmlns=\"http://www.w3.org/2000/svg\" font-family=\"sans-serif\" height=\"100\" stroke=\"rgb(0,0,0)\" stroke-linecap=\"round\" stroke-width=\"2\" viewBox=\"0 0 218.564 140\" width=\"100\" x=\"0\" y=\"0\">\n",
       "<line stroke=\"rgb(0,0,0)\" stroke-width=\"2.0\" x1=\"178.6\" x2=\"178.6\" y1=\"87.0\" y2=\"60.0\" />\n",
       "<line stroke=\"rgb(0,0,0)\" stroke-width=\"2.0\" x1=\"178.6\" x2=\"143.9\" y1=\"60.0\" y2=\"40.0\" />\n",
       "<line stroke=\"rgb(0,0,0)\" stroke-width=\"2.0\" x1=\"143.9\" x2=\"109.3\" y1=\"40.0\" y2=\"60.0\" />\n",
       "<line stroke=\"rgb(0,0,0)\" stroke-width=\"2.0\" x1=\"109.3\" x2=\"74.6\" y1=\"60.0\" y2=\"40.0\" />\n",
       "<line stroke=\"rgb(0,0,0)\" stroke-width=\"2.0\" x1=\"74.6\" x2=\"51.3\" y1=\"40.0\" y2=\"53.5\" />\n",
       "<text fill=\"rgb(102,102,102)\" font-size=\"16\" stroke=\"rgb(102,102,102)\" stroke-width=\"1\" x=\"174.564065\" y=\"108.000000\">CH</text>\n",
       "<text fill=\"rgb(102,102,102)\" font-size=\"13\" stroke=\"rgb(102,102,102)\" stroke-width=\"1\" x=\"198.564065\" y=\"111.680000\">3</text>\n",
       "<text fill=\"rgb(255,12,12)\" font-size=\"16\" stroke=\"rgb(255,12,12)\" stroke-width=\"1\" x=\"22.000000\" y=\"68.000000\">HO</text>\n",
       "</svg>\n"
      ],
      "text/plain": [
       "<pybel.Molecule at 0x7fef801e2be0>"
      ]
     },
     "execution_count": 10,
     "metadata": {},
     "output_type": "execute_result"
    }
   ],
   "source": [
    "pentanol = pcp.get_compounds('pentanol', 'name')[0]\n",
    "p = pybel.readstring( \"smi\", pentanol.canonical_smiles )\n",
    "p"
   ]
  },
  {
   "cell_type": "code",
   "execution_count": 11,
   "metadata": {},
   "outputs": [
    {
     "data": {
      "image/svg+xml": [
       "<svg xmlns=\"http://www.w3.org/2000/svg\" font-family=\"sans-serif\" height=\"100\" stroke=\"rgb(0,0,0)\" stroke-linecap=\"round\" stroke-width=\"2\" viewBox=\"0 0 234.641 229.282\" width=\"100\" x=\"0\" y=\"0\">\n",
       "<line stroke=\"rgb(0,0,0)\" stroke-width=\"2.0\" x1=\"154.6\" x2=\"134.6\" y1=\"114.6\" y2=\"149.3\" />\n",
       "<line stroke=\"rgb(0,0,0)\" stroke-width=\"2.0\" x1=\"134.6\" x2=\"94.6\" y1=\"149.3\" y2=\"149.3\" />\n",
       "<line stroke=\"rgb(0,0,0)\" stroke-width=\"2.0\" x1=\"94.6\" x2=\"74.6\" y1=\"149.3\" y2=\"114.6\" />\n",
       "<line stroke=\"rgb(0,0,0)\" stroke-width=\"2.0\" x1=\"74.6\" x2=\"94.6\" y1=\"114.6\" y2=\"80.0\" />\n",
       "<line stroke=\"rgb(0,0,0)\" stroke-width=\"2.0\" x1=\"94.6\" x2=\"121.6\" y1=\"80.0\" y2=\"80.0\" />\n",
       "<line stroke=\"rgb(0,0,0)\" stroke-width=\"2.0\" x1=\"154.6\" x2=\"154.6\" y1=\"114.6\" y2=\"87.6\" />\n",
       "<line stroke=\"rgb(0,0,0)\" stroke-width=\"2.0\" x1=\"154.6\" x2=\"131.3\" y1=\"114.6\" y2=\"101.1\" />\n",
       "<line stroke=\"rgb(0,0,0)\" stroke-width=\"2.0\" x1=\"154.6\" x2=\"181.6\" y1=\"114.6\" y2=\"114.6\" />\n",
       "<line stroke=\"rgb(0,0,0)\" stroke-width=\"2.0\" x1=\"134.6\" x2=\"134.6\" y1=\"149.3\" y2=\"176.3\" />\n",
       "<line stroke=\"rgb(0,0,0)\" stroke-width=\"2.0\" x1=\"134.6\" x2=\"158.0\" y1=\"149.3\" y2=\"162.8\" />\n",
       "<line stroke=\"rgb(0,0,0)\" stroke-width=\"2.0\" x1=\"94.6\" x2=\"71.3\" y1=\"149.3\" y2=\"162.8\" />\n",
       "<line stroke=\"rgb(0,0,0)\" stroke-width=\"2.0\" x1=\"94.6\" x2=\"94.6\" y1=\"149.3\" y2=\"176.3\" />\n",
       "<line stroke=\"rgb(0,0,0)\" stroke-width=\"2.0\" x1=\"74.6\" x2=\"51.3\" y1=\"114.6\" y2=\"101.1\" />\n",
       "<line stroke=\"rgb(0,0,0)\" stroke-width=\"2.0\" x1=\"74.6\" x2=\"51.3\" y1=\"114.6\" y2=\"128.1\" />\n",
       "<line stroke=\"rgb(0,0,0)\" stroke-width=\"2.0\" x1=\"94.6\" x2=\"94.6\" y1=\"80.0\" y2=\"53.0\" />\n",
       "<line stroke=\"rgb(0,0,0)\" stroke-width=\"2.0\" x1=\"94.6\" x2=\"71.3\" y1=\"80.0\" y2=\"66.5\" />\n",
       "<line stroke=\"rgb(0,0,0)\" stroke-width=\"2.0\" x1=\"141.1\" x2=\"148.1\" y1=\"68.7\" y2=\"56.6\" />\n",
       "<text fill=\"rgb(191,191,191)\" font-size=\"16\" stroke=\"rgb(191,191,191)\" stroke-width=\"1\" x=\"128.641016\" y=\"197.282032\">H</text>\n",
       "<text fill=\"rgb(191,191,191)\" font-size=\"16\" stroke=\"rgb(191,191,191)\" stroke-width=\"1\" x=\"148.641016\" y=\"53.358984\">H</text>\n",
       "<text fill=\"rgb(191,191,191)\" font-size=\"16\" stroke=\"rgb(191,191,191)\" stroke-width=\"1\" x=\"54.000000\" y=\"68.000000\">H</text>\n",
       "<text fill=\"rgb(191,191,191)\" font-size=\"16\" stroke=\"rgb(191,191,191)\" stroke-width=\"1\" x=\"88.641016\" y=\"48.000000\">H</text>\n",
       "<text fill=\"rgb(191,191,191)\" font-size=\"16\" stroke=\"rgb(191,191,191)\" stroke-width=\"1\" x=\"34.000000\" y=\"142.641016\">H</text>\n",
       "<text fill=\"rgb(191,191,191)\" font-size=\"16\" stroke=\"rgb(191,191,191)\" stroke-width=\"1\" x=\"34.000000\" y=\"102.641016\">H</text>\n",
       "<text fill=\"rgb(191,191,191)\" font-size=\"16\" stroke=\"rgb(191,191,191)\" stroke-width=\"1\" x=\"88.641016\" y=\"197.282032\">H</text>\n",
       "<text fill=\"rgb(191,191,191)\" font-size=\"16\" stroke=\"rgb(191,191,191)\" stroke-width=\"1\" x=\"54.000000\" y=\"177.282032\">H</text>\n",
       "<text fill=\"rgb(191,191,191)\" font-size=\"16\" stroke=\"rgb(191,191,191)\" stroke-width=\"1\" x=\"163.282032\" y=\"177.282032\">H</text>\n",
       "<text fill=\"rgb(191,191,191)\" font-size=\"16\" stroke=\"rgb(191,191,191)\" stroke-width=\"1\" x=\"188.641016\" y=\"122.641016\">H</text>\n",
       "<text fill=\"rgb(191,191,191)\" font-size=\"16\" stroke=\"rgb(191,191,191)\" stroke-width=\"1\" x=\"114.000000\" y=\"102.641016\">H</text>\n",
       "<text fill=\"rgb(191,191,191)\" font-size=\"16\" stroke=\"rgb(191,191,191)\" stroke-width=\"1\" x=\"148.641016\" y=\"82.641016\">H</text>\n",
       "<text fill=\"rgb(255,12,12)\" font-size=\"16\" stroke=\"rgb(255,12,12)\" stroke-width=\"1\" x=\"128.641016\" y=\"88.000000\">O</text>\n",
       "</svg>\n"
      ],
      "text/plain": [
       "<pybel.Molecule at 0x7fef801e2be0>"
      ]
     },
     "execution_count": 11,
     "metadata": {},
     "output_type": "execute_result"
    }
   ],
   "source": [
    "p.addh()\n",
    "p"
   ]
  },
  {
   "cell_type": "code",
   "execution_count": 12,
   "metadata": {},
   "outputs": [
    {
     "data": {
      "application/vnd.jupyter.widget-view+json": {
       "model_id": "7088eac40d794d78b3e60bc61e5c044a",
       "version_major": 2,
       "version_minor": 0
      },
      "text/plain": [
       "A Jupyter Widget"
      ]
     },
     "metadata": {},
     "output_type": "display_data"
    }
   ],
   "source": [
    "mdt.from_smiles(pentanol.canonical_smiles).draw()"
   ]
  },
  {
   "cell_type": "markdown",
   "metadata": {},
   "source": [
    "We can also look up drugs by name."
   ]
  },
  {
   "cell_type": "code",
   "execution_count": 13,
   "metadata": {},
   "outputs": [
    {
     "data": {
      "text/plain": [
       "[Compound(2244)]"
      ]
     },
     "execution_count": 13,
     "metadata": {},
     "output_type": "execute_result"
    }
   ],
   "source": [
    "pcp.get_compounds('aspirin', namespace='name')"
   ]
  },
  {
   "cell_type": "markdown",
   "metadata": {},
   "source": [
    "Or by INCHI string:"
   ]
  },
  {
   "cell_type": "code",
   "execution_count": 14,
   "metadata": {},
   "outputs": [
    {
     "data": {
      "text/plain": [
       "[Compound(2244)]"
      ]
     },
     "execution_count": 14,
     "metadata": {},
     "output_type": "execute_result"
    }
   ],
   "source": [
    "pcp.get_compounds('InChI=1S/C9H8O4/c1-6(10)13-8-5-3-2-4-7(8)9(11)12/h2-5H,1H3,(H,11,12)', namespace='inchi')"
   ]
  },
  {
   "cell_type": "markdown",
   "metadata": {},
   "source": [
    "##  `chembl_webresource_client`\n",
    "\n",
    "The [`chembl_webresource_client`](https://github.com/chembl/chembl_webresource_client) is \"the only official Python client library developed and supported by ChEMBL group\"."
   ]
  },
  {
   "cell_type": "code",
   "execution_count": 15,
   "metadata": {},
   "outputs": [
    {
     "name": "stdout",
     "output_type": "stream",
     "text": [
      "ASPIRIN\n",
      "ASPIRIN EUGENOL ESTER\n",
      "LYSINE ACETYLSALICYLATE\n"
     ]
    }
   ],
   "source": [
    "from chembl_webresource_client.new_client import new_client\n",
    "molecule = new_client.molecule\n",
    "res = molecule.search('aspirin')\n",
    "\n",
    "for r in res:\n",
    "    pref_name = r['pref_name']\n",
    "    if pref_name is not None:\n",
    "        print(pref_name)"
   ]
  },
  {
   "cell_type": "code",
   "execution_count": 16,
   "metadata": {},
   "outputs": [
    {
     "data": {
      "text/plain": [
       "[{'molecule_synonym': '8-Hour Bayer',\n",
       "  'syn_type': 'TRADE_NAME',\n",
       "  'synonyms': '8-hour bayer'},\n",
       " {'molecule_synonym': 'Acetylsalicylic Acid',\n",
       "  'syn_type': 'ATC',\n",
       "  'synonyms': 'ACETYLSALICYLIC ACID'},\n",
       " {'molecule_synonym': 'Acetylsalicylic Acid',\n",
       "  'syn_type': 'OTHER',\n",
       "  'synonyms': 'ACETYLSALICYLIC ACID'},\n",
       " {'molecule_synonym': 'Aspirin', 'syn_type': 'BAN', 'synonyms': 'ASPIRIN'},\n",
       " {'molecule_synonym': 'Aspirin', 'syn_type': 'FDA', 'synonyms': 'ASPIRIN'},\n",
       " {'molecule_synonym': 'Aspirin', 'syn_type': 'JAN', 'synonyms': 'ASPIRIN'},\n",
       " {'molecule_synonym': 'Aspirin',\n",
       "  'syn_type': 'TRADE_NAME',\n",
       "  'synonyms': 'ASPIRIN'},\n",
       " {'molecule_synonym': 'Aspirin', 'syn_type': 'USP', 'synonyms': 'ASPIRIN'},\n",
       " {'molecule_synonym': 'Acetosalic Acid',\n",
       "  'syn_type': 'TRADE_NAME',\n",
       "  'synonyms': 'Acetosalic Acid'},\n",
       " {'molecule_synonym': 'Acetylsalicylic Acid',\n",
       "  'syn_type': 'INN',\n",
       "  'synonyms': 'Acetylsalicylic Acid'},\n",
       " {'molecule_synonym': 'Acetylsalicylic Acid',\n",
       "  'syn_type': 'TRADE_NAME',\n",
       "  'synonyms': 'Acetylsalicylic Acid'},\n",
       " {'molecule_synonym': 'Aspirin', 'syn_type': 'USAN', 'synonyms': 'Aspirin'},\n",
       " {'molecule_synonym': 'Bayer Extra Strength',\n",
       "  'syn_type': 'TRADE_NAME',\n",
       "  'synonyms': 'Bayer extra strength aspirin for migraine pain'},\n",
       " {'molecule_synonym': 'Ecotrin',\n",
       "  'syn_type': 'TRADE_NAME',\n",
       "  'synonyms': 'Ecotrin'},\n",
       " {'molecule_synonym': 'Equi-Prin',\n",
       "  'syn_type': 'TRADE_NAME',\n",
       "  'synonyms': 'Equi-Prin'},\n",
       " {'molecule_synonym': 'Measurin',\n",
       "  'syn_type': 'TRADE_NAME',\n",
       "  'synonyms': 'Measurin'},\n",
       " {'molecule_synonym': 'Salicylic Acid Acetate',\n",
       "  'syn_type': 'TRADE_NAME',\n",
       "  'synonyms': 'Salicylic Acid Acetate'}]"
      ]
     },
     "execution_count": 16,
     "metadata": {},
     "output_type": "execute_result"
    }
   ],
   "source": [
    "aspirin = [r for r in res if r['pref_name']=='ASPIRIN'][0]\n",
    "aspirin['molecule_synonyms']"
   ]
  },
  {
   "cell_type": "code",
   "execution_count": 17,
   "metadata": {},
   "outputs": [
    {
     "data": {
      "text/plain": [
       "{'canonical_smiles': 'CC(=O)Oc1ccccc1C(=O)O',\n",
       " 'standard_inchi': 'InChI=1S/C9H8O4/c1-6(10)13-8-5-3-2-4-7(8)9(11)12/h2-5H,1H3,(H,11,12)',\n",
       " 'standard_inchi_key': 'BSYNRYMUTXBXSQ-UHFFFAOYSA-N'}"
      ]
     },
     "execution_count": 17,
     "metadata": {},
     "output_type": "execute_result"
    }
   ],
   "source": [
    "aspirin['molecule_structures']"
   ]
  },
  {
   "cell_type": "markdown",
   "metadata": {},
   "source": [
    "## `pypdb`\n",
    "\n",
    "`pydb` is a Python API for the [RCSB Protein Data Bank (PDB)](https://www.rcsb.org/pdb/home/home.do)."
   ]
  },
  {
   "cell_type": "code",
   "execution_count": 18,
   "metadata": {},
   "outputs": [
    {
     "name": "stdout",
     "output_type": "stream",
     "text": [
      "['4FQF', '4FR8']\n"
     ]
    }
   ],
   "source": [
    "#https://github.com/williamgilpin/pypdb/blob/master/demos/demos.ipynb\n",
    "from pypdb import *\n",
    "\n",
    "search_dict = make_query('nitroglycerin')\n",
    "found_pdbs = do_search(search_dict)\n",
    "print(found_pdbs)"
   ]
  },
  {
   "cell_type": "markdown",
   "metadata": {},
   "source": [
    "## `rdkit`\n",
    "\n",
    "The [`rdkit` python package](https://github.com/rdkit/rdkit) provides an API to the [RDKit Open-Source Cheminformatics Linux Package](http://www.rdkit.org/).\n",
    "\n",
    "We can create objects from SMILES strings and save them as image files in a variety of formats."
   ]
  },
  {
   "cell_type": "code",
   "execution_count": 19,
   "metadata": {
    "collapsed": true
   },
   "outputs": [],
   "source": [
    "from rdkit import Chem\n",
    "from rdkit.Chem import Draw\n",
    "%matplotlib inline\n",
    "\n",
    "mol_str = 'COc1ccc2c(c1)[nH]c(n2)[S@@](=O)Cc1ncc(c(c1C)OC)C'\n",
    "\n",
    "m = Chem.MolFromSmiles( mol_str )\n",
    "Draw.MolToFile(m,'cdk2_mol1.o.png')\n",
    "Draw.MolToFile(m,'cdk2_mol1.o.svg')"
   ]
  },
  {
   "cell_type": "markdown",
   "metadata": {},
   "source": [
    "For example, the `.png` file:\n",
    "\n",
    "![](cdk2_mol1.o.png)\n",
    "\n",
    "And the `.svg` file:\n",
    "\n",
    "![](cdk2_mol1.o.svg)"
   ]
  },
  {
   "cell_type": "code",
   "execution_count": 22,
   "metadata": {
    "hide_input": false
   },
   "outputs": [
    {
     "data": {
      "image/svg+xml": [
       "<svg baseProfile=\"full\" height=\"150px\" version=\"1.1\" width=\"450px\" xml:space=\"preserve\" xmlns:rdkit=\"http://www.rdkit.org/xml\" xmlns:svg=\"http://www.w3.org/2000/svg\" xmlns:xlink=\"http://www.w3.org/1999/xlink\">\n",
       "<rect height=\"150\" style=\"opacity:1.0;fill:#FFFFFF;stroke:none\" width=\"450\" x=\"0\" y=\"0\"> </rect>\n",
       "<path d=\"M 20.4545,95.2183 34.3097,103.176\" style=\"fill:none;fill-rule:evenodd;stroke:#000000;stroke-width:2px;stroke-linecap:butt;stroke-linejoin:miter;stroke-opacity:1\"/>\n",
       "<path d=\"M 34.3097,103.176 48.1649,111.134\" style=\"fill:none;fill-rule:evenodd;stroke:#FF0000;stroke-width:2px;stroke-linecap:butt;stroke-linejoin:miter;stroke-opacity:1\"/>\n",
       "<path d=\"M 60.2901,111.098 74.1015,103.082\" style=\"fill:none;fill-rule:evenodd;stroke:#FF0000;stroke-width:2px;stroke-linecap:butt;stroke-linejoin:miter;stroke-opacity:1\"/>\n",
       "<path d=\"M 74.1015,103.082 87.9128,95.0666\" style=\"fill:none;fill-rule:evenodd;stroke:#000000;stroke-width:2px;stroke-linecap:butt;stroke-linejoin:miter;stroke-opacity:1\"/>\n",
       "<path d=\"M 87.9128,95.0666 87.8253,56.1195\" style=\"fill:none;fill-rule:evenodd;stroke:#000000;stroke-width:2px;stroke-linecap:butt;stroke-linejoin:miter;stroke-opacity:1\"/>\n",
       "<path d=\"M 95.6891,89.207 95.6278,61.9441\" style=\"fill:none;fill-rule:evenodd;stroke:#000000;stroke-width:2px;stroke-linecap:butt;stroke-linejoin:miter;stroke-opacity:1\"/>\n",
       "<path d=\"M 87.9128,95.0666 121.686,114.464\" style=\"fill:none;fill-rule:evenodd;stroke:#000000;stroke-width:2px;stroke-linecap:butt;stroke-linejoin:miter;stroke-opacity:1\"/>\n",
       "<path d=\"M 87.8253,56.1195 121.511,36.5701\" style=\"fill:none;fill-rule:evenodd;stroke:#000000;stroke-width:2px;stroke-linecap:butt;stroke-linejoin:miter;stroke-opacity:1\"/>\n",
       "<path d=\"M 121.511,36.5701 155.284,55.9678\" style=\"fill:none;fill-rule:evenodd;stroke:#000000;stroke-width:2px;stroke-linecap:butt;stroke-linejoin:miter;stroke-opacity:1\"/>\n",
       "<path d=\"M 122.697,46.2344 146.338,59.8128\" style=\"fill:none;fill-rule:evenodd;stroke:#000000;stroke-width:2px;stroke-linecap:butt;stroke-linejoin:miter;stroke-opacity:1\"/>\n",
       "<path d=\"M 155.284,55.9678 155.371,94.9149\" style=\"fill:none;fill-rule:evenodd;stroke:#000000;stroke-width:2px;stroke-linecap:butt;stroke-linejoin:miter;stroke-opacity:1\"/>\n",
       "<path d=\"M 155.284,55.9678 170.977,50.8296\" style=\"fill:none;fill-rule:evenodd;stroke:#000000;stroke-width:2px;stroke-linecap:butt;stroke-linejoin:miter;stroke-opacity:1\"/>\n",
       "<path d=\"M 170.977,50.8296 186.671,45.6913\" style=\"fill:none;fill-rule:evenodd;stroke:#0000FF;stroke-width:2px;stroke-linecap:butt;stroke-linejoin:miter;stroke-opacity:1\"/>\n",
       "<path d=\"M 155.371,94.9149 121.686,114.464\" style=\"fill:none;fill-rule:evenodd;stroke:#000000;stroke-width:2px;stroke-linecap:butt;stroke-linejoin:miter;stroke-opacity:1\"/>\n",
       "<path d=\"M 146.408,91.1102 122.829,104.795\" style=\"fill:none;fill-rule:evenodd;stroke:#000000;stroke-width:2px;stroke-linecap:butt;stroke-linejoin:miter;stroke-opacity:1\"/>\n",
       "<path d=\"M 155.371,94.9149 168.279,99.0768\" style=\"fill:none;fill-rule:evenodd;stroke:#000000;stroke-width:2px;stroke-linecap:butt;stroke-linejoin:miter;stroke-opacity:1\"/>\n",
       "<path d=\"M 168.279,99.0768 181.187,103.239\" style=\"fill:none;fill-rule:evenodd;stroke:#0000FF;stroke-width:2px;stroke-linecap:butt;stroke-linejoin:miter;stroke-opacity:1\"/>\n",
       "<path d=\"M 197.133,100.376 206.197,87.8411\" style=\"fill:none;fill-rule:evenodd;stroke:#0000FF;stroke-width:2px;stroke-linecap:butt;stroke-linejoin:miter;stroke-opacity:1\"/>\n",
       "<path d=\"M 206.197,87.8411 215.261,75.3066\" style=\"fill:none;fill-rule:evenodd;stroke:#000000;stroke-width:2px;stroke-linecap:butt;stroke-linejoin:miter;stroke-opacity:1\"/>\n",
       "<path d=\"M 215.261,75.3066 206.148,62.8235\" style=\"fill:none;fill-rule:evenodd;stroke:#000000;stroke-width:2px;stroke-linecap:butt;stroke-linejoin:miter;stroke-opacity:1\"/>\n",
       "<path d=\"M 206.148,62.8235 197.036,50.3404\" style=\"fill:none;fill-rule:evenodd;stroke:#0000FF;stroke-width:2px;stroke-linecap:butt;stroke-linejoin:miter;stroke-opacity:1\"/>\n",
       "<path d=\"M 206.236,76.1543 199.857,67.4162\" style=\"fill:none;fill-rule:evenodd;stroke:#000000;stroke-width:2px;stroke-linecap:butt;stroke-linejoin:miter;stroke-opacity:1\"/>\n",
       "<path d=\"M 199.857,67.4162 193.478,58.678\" style=\"fill:none;fill-rule:evenodd;stroke:#0000FF;stroke-width:2px;stroke-linecap:butt;stroke-linejoin:miter;stroke-opacity:1\"/>\n",
       "<path d=\"M 215.261,75.3066 232.135,75.2686\" style=\"fill:none;fill-rule:evenodd;stroke:#000000;stroke-width:2px;stroke-linecap:butt;stroke-linejoin:miter;stroke-opacity:1\"/>\n",
       "<path d=\"M 232.135,75.2686 249.01,75.2307\" style=\"fill:none;fill-rule:evenodd;stroke:#CCCC00;stroke-width:2px;stroke-linecap:butt;stroke-linejoin:miter;stroke-opacity:1\"/>\n",
       "<path d=\"M 261.313,70.6676 267.284,60.2723\" style=\"fill:none;fill-rule:evenodd;stroke:#CCCC00;stroke-width:2px;stroke-linecap:butt;stroke-linejoin:miter;stroke-opacity:1\"/>\n",
       "<path d=\"M 267.284,60.2723 273.255,49.877\" style=\"fill:none;fill-rule:evenodd;stroke:#FF0000;stroke-width:2px;stroke-linecap:butt;stroke-linejoin:miter;stroke-opacity:1\"/>\n",
       "<path d=\"M 254.559,66.788 260.529,56.3927\" style=\"fill:none;fill-rule:evenodd;stroke:#CCCC00;stroke-width:2px;stroke-linecap:butt;stroke-linejoin:miter;stroke-opacity:1\"/>\n",
       "<path d=\"M 260.529,56.3927 266.5,45.9975\" style=\"fill:none;fill-rule:evenodd;stroke:#FF0000;stroke-width:2px;stroke-linecap:butt;stroke-linejoin:miter;stroke-opacity:1\"/>\n",
       "<path d=\"M 257.975,81.7102 265.866,95.3073\" style=\"fill:none;fill-rule:evenodd;stroke:#CCCC00;stroke-width:2px;stroke-linecap:butt;stroke-linejoin:miter;stroke-opacity:1\"/>\n",
       "<path d=\"M 265.866,95.3073 273.757,108.904\" style=\"fill:none;fill-rule:evenodd;stroke:#000000;stroke-width:2px;stroke-linecap:butt;stroke-linejoin:miter;stroke-opacity:1\"/>\n",
       "<path d=\"M 273.757,108.904 312.704,108.817\" style=\"fill:none;fill-rule:evenodd;stroke:#000000;stroke-width:2px;stroke-linecap:butt;stroke-linejoin:miter;stroke-opacity:1\"/>\n",
       "<path d=\"M 312.704,108.817 320.595,122.414\" style=\"fill:none;fill-rule:evenodd;stroke:#000000;stroke-width:2px;stroke-linecap:butt;stroke-linejoin:miter;stroke-opacity:1\"/>\n",
       "<path d=\"M 320.595,122.414 328.486,136.011\" style=\"fill:none;fill-rule:evenodd;stroke:#0000FF;stroke-width:2px;stroke-linecap:butt;stroke-linejoin:miter;stroke-opacity:1\"/>\n",
       "<path d=\"M 321.809,108.986 327.332,118.504\" style=\"fill:none;fill-rule:evenodd;stroke:#000000;stroke-width:2px;stroke-linecap:butt;stroke-linejoin:miter;stroke-opacity:1\"/>\n",
       "<path d=\"M 327.332,118.504 332.856,128.022\" style=\"fill:none;fill-rule:evenodd;stroke:#0000FF;stroke-width:2px;stroke-linecap:butt;stroke-linejoin:miter;stroke-opacity:1\"/>\n",
       "<path d=\"M 312.704,108.817 332.102,75.0438\" style=\"fill:none;fill-rule:evenodd;stroke:#000000;stroke-width:2px;stroke-linecap:butt;stroke-linejoin:miter;stroke-opacity:1\"/>\n",
       "<path d=\"M 337.88,142.489 354.54,142.452\" style=\"fill:none;fill-rule:evenodd;stroke:#0000FF;stroke-width:2px;stroke-linecap:butt;stroke-linejoin:miter;stroke-opacity:1\"/>\n",
       "<path d=\"M 354.54,142.452 371.201,142.415\" style=\"fill:none;fill-rule:evenodd;stroke:#000000;stroke-width:2px;stroke-linecap:butt;stroke-linejoin:miter;stroke-opacity:1\"/>\n",
       "<path d=\"M 371.201,142.415 390.598,108.642\" style=\"fill:none;fill-rule:evenodd;stroke:#000000;stroke-width:2px;stroke-linecap:butt;stroke-linejoin:miter;stroke-opacity:1\"/>\n",
       "<path d=\"M 367.356,133.469 380.934,109.828\" style=\"fill:none;fill-rule:evenodd;stroke:#000000;stroke-width:2px;stroke-linecap:butt;stroke-linejoin:miter;stroke-opacity:1\"/>\n",
       "<path d=\"M 390.598,108.642 371.049,74.9562\" style=\"fill:none;fill-rule:evenodd;stroke:#000000;stroke-width:2px;stroke-linecap:butt;stroke-linejoin:miter;stroke-opacity:1\"/>\n",
       "<path d=\"M 390.598,108.642 429.545,108.554\" style=\"fill:none;fill-rule:evenodd;stroke:#000000;stroke-width:2px;stroke-linecap:butt;stroke-linejoin:miter;stroke-opacity:1\"/>\n",
       "<path d=\"M 371.049,74.9562 332.102,75.0438\" style=\"fill:none;fill-rule:evenodd;stroke:#000000;stroke-width:2px;stroke-linecap:butt;stroke-linejoin:miter;stroke-opacity:1\"/>\n",
       "<path d=\"M 365.224,82.7588 337.962,82.8201\" style=\"fill:none;fill-rule:evenodd;stroke:#000000;stroke-width:2px;stroke-linecap:butt;stroke-linejoin:miter;stroke-opacity:1\"/>\n",
       "<path d=\"M 371.049,74.9562 378.884,61.3153\" style=\"fill:none;fill-rule:evenodd;stroke:#000000;stroke-width:2px;stroke-linecap:butt;stroke-linejoin:miter;stroke-opacity:1\"/>\n",
       "<path d=\"M 378.884,61.3153 386.718,47.6745\" style=\"fill:none;fill-rule:evenodd;stroke:#FF0000;stroke-width:2px;stroke-linecap:butt;stroke-linejoin:miter;stroke-opacity:1\"/>\n",
       "<path d=\"M 332.102,75.0438 312.553,41.3584\" style=\"fill:none;fill-rule:evenodd;stroke:#000000;stroke-width:2px;stroke-linecap:butt;stroke-linejoin:miter;stroke-opacity:1\"/>\n",
       "<path d=\"M 386.679,34.6921 378.788,21.095\" style=\"fill:none;fill-rule:evenodd;stroke:#FF0000;stroke-width:2px;stroke-linecap:butt;stroke-linejoin:miter;stroke-opacity:1\"/>\n",
       "<path d=\"M 378.788,21.095 370.897,7.4979\" style=\"fill:none;fill-rule:evenodd;stroke:#000000;stroke-width:2px;stroke-linecap:butt;stroke-linejoin:miter;stroke-opacity:1\"/>\n",
       "<text style=\"font-size:12px;font-style:normal;font-weight:normal;fill-opacity:1;stroke:none;font-family:sans-serif;text-anchor:start;fill:#FF0000\" x=\"48.1649\" y=\"121.107\"><tspan>O</tspan></text>\n",
       "<text style=\"font-size:12px;font-style:normal;font-weight:normal;fill-opacity:1;stroke:none;font-family:sans-serif;text-anchor:start;fill:#0000FF\" x=\"181.187\" y=\"113.358\"><tspan>NH</tspan></text>\n",
       "<text style=\"font-size:12px;font-style:normal;font-weight:normal;fill-opacity:1;stroke:none;font-family:sans-serif;text-anchor:start;fill:#0000FF\" x=\"186.671\" y=\"50.3404\"><tspan>N</tspan></text>\n",
       "<text style=\"font-size:12px;font-style:normal;font-weight:normal;fill-opacity:1;stroke:none;font-family:sans-serif;text-anchor:start;fill:#CCCC00\" x=\"249.01\" y=\"81.7102\"><tspan>S</tspan></text>\n",
       "<text style=\"font-size:12px;font-style:normal;font-weight:normal;fill-opacity:1;stroke:none;font-family:sans-serif;text-anchor:start;fill:#FF0000\" x=\"267.543\" y=\"47.9372\"><tspan>O</tspan></text>\n",
       "<text style=\"font-size:12px;font-style:normal;font-weight:normal;fill-opacity:1;stroke:none;font-family:sans-serif;text-anchor:start;fill:#0000FF\" x=\"326.627\" y=\"148.993\"><tspan>N</tspan></text>\n",
       "<text style=\"font-size:12px;font-style:normal;font-weight:normal;fill-opacity:1;stroke:none;font-family:sans-serif;text-anchor:start;fill:#FF0000\" x=\"384.384\" y=\"47.6745\"><tspan>O</tspan></text>\n",
       "</svg>"
      ],
      "text/plain": [
       "<IPython.core.display.SVG object>"
      ]
     },
     "execution_count": 22,
     "metadata": {},
     "output_type": "execute_result"
    }
   ],
   "source": [
    "#Rendering of SVG was working, but has stopped?\n",
    "#Revert to early demo from http://rdkit.blogspot.co.uk/2015/02/new-drawing-code.html\n",
    "from IPython.display import SVG\n",
    "from rdkit.Chem import rdDepictor\n",
    "from rdkit.Chem.Draw import rdMolDraw2D\n",
    "def moltosvg(mol,molSize=(450,150),kekulize=True):\n",
    "    mc = Chem.Mol(mol.ToBinary())\n",
    "    if kekulize:\n",
    "        try:\n",
    "            Chem.Kekulize(mc)\n",
    "        except:\n",
    "            mc = Chem.Mol(mol.ToBinary())\n",
    "    if not mc.GetNumConformers():\n",
    "        rdDepictor.Compute2DCoords(mc)\n",
    "    drawer = rdMolDraw2D.MolDraw2DSVG(molSize[0],molSize[1])\n",
    "    drawer.DrawMolecule(mc)\n",
    "    drawer.FinishDrawing()\n",
    "    svg = drawer.GetDrawingText()\n",
    "    # It seems that the svg renderer used doesn't quite hit the spec.\n",
    "    # Here are some fixes to make it work in the notebook, although I think\n",
    "    # the underlying issue needs to be resolved at the generation step\n",
    "    return svg.replace('svg:','')\n",
    "\n",
    "SVG(moltosvg(m))"
   ]
  },
  {
   "cell_type": "code",
   "execution_count": 27,
   "metadata": {
    "hide_input": true
   },
   "outputs": [
    {
     "data": {
      "text/plain": [
       "'InChI=1S/C17H19N3O3S/c1-10-8-18-15(11(2)16(10)23-4)9-24(21)17-19-13-6-5-12(22-3)7-14(13)20-17/h5-8H,9H2,1-4H3,(H,19,20)/t24-/m0/s1'"
      ]
     },
     "execution_count": 27,
     "metadata": {},
     "output_type": "execute_result"
    }
   ],
   "source": [
    "Chem.MolToInchi(m)"
   ]
  },
  {
   "cell_type": "markdown",
   "metadata": {},
   "source": [
    "## `nglview`\n",
    "\n",
    "[`nglview`](https://github.com/arose/nglview) is a package that supports the 3D visualisation of molecular structures and trajectories."
   ]
  },
  {
   "cell_type": "code",
   "execution_count": 28,
   "metadata": {},
   "outputs": [
    {
     "data": {
      "application/vnd.jupyter.widget-view+json": {
       "model_id": "9b6c7fc0fe7a4aa4b39819376a222797",
       "version_major": 2,
       "version_minor": 0
      },
      "text/plain": [
       "A Jupyter Widget"
      ]
     },
     "metadata": {},
     "output_type": "display_data"
    }
   ],
   "source": [
    "import nglview as nv\n",
    "\n",
    "# load \"3pqr\" from RCSB PDB and display viewer widget\n",
    "nv.show_pdbid(\"3pqr\")  "
   ]
  },
  {
   "cell_type": "code",
   "execution_count": null,
   "metadata": {
    "collapsed": true
   },
   "outputs": [],
   "source": []
  }
 ],
 "metadata": {
  "hide_input": false,
  "kernelspec": {
   "display_name": "Python 3",
   "language": "python",
   "name": "python3"
  },
  "language_info": {
   "codemirror_mode": {
    "name": "ipython",
    "version": 3
   },
   "file_extension": ".py",
   "mimetype": "text/x-python",
   "name": "python",
   "nbconvert_exporter": "python",
   "pygments_lexer": "ipython3",
   "version": "3.6.3"
  }
 },
 "nbformat": 4,
 "nbformat_minor": 2
}

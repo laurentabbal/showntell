{
 "cells": [
  {
   "cell_type": "markdown",
   "metadata": {},
   "source": [
    "# Jupyter Notebook - Music Demos\n",
    "\n",
    "This build incorporates a range of Python packages that can be used to support the creation of rich, interactive materials relating to music."
   ]
  },
  {
   "cell_type": "markdown",
   "metadata": {},
   "source": [
    "##  The Linux `lilypond` Package\n",
    "\n",
    "Python packags such as `abjad` and `music21` both wrap Lilypond to generate music scores from a higher level representation, but we can also write musical scores using Lilypond directly."
   ]
  },
  {
   "cell_type": "code",
   "execution_count": 12,
   "metadata": {
    "collapsed": true
   },
   "outputs": [],
   "source": [
    "import os\n",
    "from IPython.display import Image\n",
    "\n",
    "def lp(score):\n",
    "    with open(\"test.ly\", \"w\") as out_file:\n",
    "        out_file.write(score)\n",
    "    os.system( \"lilypond -dbackend=eps -dno-gs-load-fonts -dinclude-eps-fonts --png test.ly\" )\n",
    "    return Image(filename='test.png')"
   ]
  },
  {
   "cell_type": "code",
   "execution_count": 13,
   "metadata": {
    "scrolled": true
   },
   "outputs": [
    {
     "data": {
      "image/png": "[encoded data removed]",
      "text/plain": [
       "<IPython.core.display.Image object>"
      ]
     },
     "execution_count": 13,
     "metadata": {},
     "output_type": "execute_result"
    }
   ],
   "source": [
    "score=r'''\n",
    "\\version \"2.18.2\"\n",
    "\\header { \n",
    "  tagline = \"\"  % removed \n",
    "} \n",
    "\n",
    "  \\relative c'' {\n",
    "    \\time 7/4\n",
    "    c2 bes4 a2 g a bes4 a( g) f2\n",
    "  }\n",
    "  \\addlyrics {\n",
    "    Join us now come share the soft -- ware!\n",
    "  }\n",
    "\n",
    "'''\n",
    "\n",
    "lp(score)"
   ]
  },
  {
   "cell_type": "markdown",
   "metadata": {},
   "source": [
    "## `music21`\n",
    "\n",
    "The `music21` package is a [toolkit for musicology](http://web.mit.edu/music21/).\n",
    "\n",
    "The toolkit can be used to display notation defined in a variety of ways."
   ]
  },
  {
   "cell_type": "code",
   "execution_count": 5,
   "metadata": {},
   "outputs": [
    {
     "name": "stdout",
     "output_type": "stream",
     "text": [
      "The music21.ipython21 extension is already loaded. To reload it, use:\n",
      "  %reload_ext music21.ipython21\n"
     ]
    }
   ],
   "source": [
    "#The setting of environment variables and the display of notation is borked on Linux\n",
    "#Use crappy workarounds for now - or perhaps try a conda install?\n",
    "from music21 import *\n",
    "\n",
    "\n",
    "environment.UserSettings()['lilypondPath']='/usr/bin/lilypond'\n",
    "environment.set('pdfPath', '/usr/bin/musescore')\n",
    "environment.set('graphicsPath', '/usr/bin/musescore')\n",
    "environment.set(\"musescoreDirectPNGPath\", \"/usr/bin/musescore\")\n",
    "environment.set(\"musicxmlPath\", \"/usr/bin/musescore\")\n",
    "\n",
    "%load_ext music21.ipython21\n",
    "\n",
    "from IPython.display import Image\n",
    "\n",
    "def render(s):\n",
    "    s.show('lily.png')\n",
    "    return Image(filename=s.write('lily.png'))"
   ]
  },
  {
   "cell_type": "code",
   "execution_count": 6,
   "metadata": {},
   "outputs": [
    {
     "data": {
      "image/png": "[encoded data removed]",
      "text/plain": [
       "<IPython.core.display.Image object>"
      ]
     },
     "execution_count": 6,
     "metadata": {},
     "output_type": "execute_result"
    }
   ],
   "source": [
    "m1 = stream.Measure()\n",
    "m1.timeSignature = meter.TimeSignature('2/4')\n",
    "m1.keySignature = key.KeySignature(-5)\n",
    "m1.append([note.Note('D'), note.Note('A')])\n",
    "m2 = stream.Measure()\n",
    "m2.append([note.Note('B-'), note.Note('G#')])\n",
    "p = stream.Part()\n",
    "p.append([m1, m2])\n",
    "render(p)"
   ]
  },
  {
   "cell_type": "markdown",
   "metadata": {},
   "source": [
    "### TinyNotation"
   ]
  },
  {
   "cell_type": "code",
   "execution_count": 7,
   "metadata": {
    "collapsed": true
   },
   "outputs": [],
   "source": [
    "def tiny(t):\n",
    "    return render( converter.parse('tinyNotation: {}'.format(t)) )"
   ]
  },
  {
   "cell_type": "code",
   "execution_count": 8,
   "metadata": {},
   "outputs": [
    {
     "data": {
      "image/png": "[encoded data removed]",
      "text/plain": [
       "<IPython.core.display.Image object>"
      ]
     },
     "execution_count": 8,
     "metadata": {},
     "output_type": "execute_result"
    }
   ],
   "source": [
    "c = chord.Chord(\"C4 E4 G4\")\n",
    "c.isConsonant()\n",
    "c.show('lily.png')\n",
    "Image(filename=c.write('lily.png'))"
   ]
  },
  {
   "cell_type": "markdown",
   "metadata": {},
   "source": [
    "We can also provide an audio rendering of the score."
   ]
  },
  {
   "cell_type": "code",
   "execution_count": 15,
   "metadata": {},
   "outputs": [
    {
     "data": {
      "text/html": [
       "\n",
       "                <div id='midiPlayerDiv356'></div>\n",
       "                <link rel=\"stylesheet\" href=\"http://artusi.xyz/music21j/css/m21.css\"\n",
       "                    type=\"text/css\" />\n",
       "                <script>\n",
       "                require.config({\n",
       "                    paths: {'music21': 'http://artusi.xyz/music21j/src/music21'}\n",
       "                });\n",
       "                require(['music21'], function() {\n",
       "                               mp = new music21.miditools.MidiPlayer();\n",
       "                               mp.addPlayer('#midiPlayerDiv356');\n",
       "                               mp.base64Load('data:audio/midi;base64,TVRoZAAAAAYAAQABBABNVHJrAAAAJwD/AwAA4ABAiACQPFoAkEBaAJBDWogAgDwAAIBAAACAQwCIAP8vAA==');\n",
       "                        });\n",
       "                </script>"
      ],
      "text/plain": [
       "<IPython.core.display.HTML object>"
      ]
     },
     "metadata": {},
     "output_type": "display_data"
    }
   ],
   "source": [
    "c.show('midi')"
   ]
  },
  {
   "cell_type": "code",
   "execution_count": 9,
   "metadata": {},
   "outputs": [
    {
     "data": {
      "image/png": "[encoded data removed]",
      "text/plain": [
       "<IPython.core.display.Image object>"
      ]
     },
     "execution_count": 9,
     "metadata": {},
     "output_type": "execute_result"
    }
   ],
   "source": [
    "from music21 import converter\n",
    "s = converter.parse('tinyNotation: 4/4 C4 D4 E4 F4 G4 A4 B4 c4')\n",
    "render(s)"
   ]
  },
  {
   "cell_type": "code",
   "execution_count": 10,
   "metadata": {},
   "outputs": [
    {
     "data": {
      "image/png": "[encoded data removed]",
      "text/plain": [
       "<IPython.core.display.Image object>"
      ]
     },
     "execution_count": 10,
     "metadata": {},
     "output_type": "execute_result"
    }
   ],
   "source": [
    "tiny(\"3/4 c4 c'4 c''4\")"
   ]
  },
  {
   "cell_type": "code",
   "execution_count": 11,
   "metadata": {},
   "outputs": [
    {
     "data": {
      "image/png": "[encoded data removed]",
      "text/plain": [
       "<IPython.core.display.Image object>"
      ]
     },
     "execution_count": 11,
     "metadata": {},
     "output_type": "execute_result"
    }
   ],
   "source": [
    "tiny('4/4 C4 D E8 F G16 A B c')"
   ]
  },
  {
   "cell_type": "code",
   "execution_count": 12,
   "metadata": {},
   "outputs": [
    {
     "data": {
      "image/png": "[encoded data removed]",
      "text/plain": [
       "<IPython.core.display.Image object>"
      ]
     },
     "execution_count": 12,
     "metadata": {},
     "output_type": "execute_result"
    }
   ],
   "source": [
    "tiny('3/4 C.4 D8~ D8 r c4')"
   ]
  },
  {
   "cell_type": "code",
   "execution_count": 13,
   "metadata": {},
   "outputs": [
    {
     "data": {
      "image/png": "[encoded data removed]",
      "text/plain": [
       "<IPython.core.display.Image object>"
      ]
     },
     "execution_count": 13,
     "metadata": {},
     "output_type": "execute_result"
    }
   ],
   "source": [
    "tiny('4/4 c4 c# c c## cn c- c-- c c1')"
   ]
  },
  {
   "cell_type": "code",
   "execution_count": 16,
   "metadata": {},
   "outputs": [
    {
     "data": {
      "image/png": "[encoded data removed]",
      "text/plain": [
       "<IPython.core.display.Image object>"
      ]
     },
     "execution_count": 16,
     "metadata": {},
     "output_type": "execute_result"
    }
   ],
   "source": [
    "myBach = corpus.parse('bach/bwv57.8')\n",
    "alto = myBach.parts['Alto']\n",
    "\n",
    "render(alto)"
   ]
  },
  {
   "cell_type": "markdown",
   "metadata": {},
   "source": [
    "Once again, we can listen to the score by converting it to a MIDI file and then playing that file through an audio player."
   ]
  },
  {
   "cell_type": "code",
   "execution_count": 17,
   "metadata": {},
   "outputs": [
    {
     "data": {
      "text/html": [
       "\n",
       "                <div id='midiPlayerDiv1678'></div>\n",
       "                <link rel=\"stylesheet\" href=\"http://artusi.xyz/music21j/css/m21.css\"\n",
       "                    type=\"text/css\" />\n",
       "                <script>\n",
       "                require.config({\n",
       "                    paths: {'music21': 'http://artusi.xyz/music21j/src/music21'}\n",
       "                });\n",
       "                require(['music21'], function() {\n",
       "                               mp = new music21.miditools.MidiPlayer();\n",
       "                               mp.addPlayer('#midiPlayerDiv1678');\n",
       "                               mp.base64Load('data:audio/midi;base64,TVRoZAAAAAYAAQABBABNVHJrAAACBQD/AwRBbHRvAMAAAOAAQADAAAD/WQL+AAD/WAQDAhgIiACQQVqIAIBBAACQQVqIAIBBAACQQVqIAIBBAACQQVqMAIBBAACQQVqEAIBBAACQQ1qIAIBDAACQPFqIAIA8AACQPFqIAIA8AACQPFqIAIA8AACQQVqIAIBBAACQQ1qEAIBDAACQRVqEAIBFAACQRlqEAIBGAACQSFqEAIBIAACQRVqQAIBFAACQQVqIAIBBAACQQVqIAIBBAACQQVqIAIBBAACQQVqIAIBBAACQQVqMAIBBAACQQVqEAIBBAACQQ1qIAIBDAACQPFqIAIA8AACQPFqIAIA8AACQPFqIAIA8AACQQVqIAIBBAACQQ1qEAIBDAACQRVqEAIBFAACQRlqEAIBGAACQSFqEAIBIAACQRVqQAIBFAACQQVqIAIBBAACQRlqIAIBGAACQRVqIAIBFAACQQVqIAIBBAACQRlqQAIBGAIgAkEZaiACARgAAkEZaiACARgAAkEVahACARQAAkENahACAQwAAkEFaiACAQQAAkEZaiACARgAAkENaiACAQwAAkEVakACARQCIAJBBWogAgEEAAJA8WogAgDwAAJA8WogAgDwAAJA6WogAgDoAAJBBWogAgEEAAJBBWogAgEEAAJBBWowAgEEAAJA/WoQAgD8AAJA+WogAgD4AiAD/LwA=');\n",
       "                        });\n",
       "                </script>"
      ],
      "text/plain": [
       "<IPython.core.display.HTML object>"
      ]
     },
     "metadata": {},
     "output_type": "display_data"
    }
   ],
   "source": [
    "alto.show('midi')"
   ]
  },
  {
   "cell_type": "code",
   "execution_count": null,
   "metadata": {
    "collapsed": true
   },
   "outputs": [],
   "source": []
  }
 ],
 "metadata": {
  "hide_input": false,
  "kernelspec": {
   "display_name": "Python 3",
   "language": "python",
   "name": "python3"
  },
  "language_info": {
   "codemirror_mode": {
    "name": "ipython",
    "version": 3
   },
   "file_extension": ".py",
   "mimetype": "text/x-python",
   "name": "python",
   "nbconvert_exporter": "python",
   "pygments_lexer": "ipython3",
   "version": "3.5.3"
  }
 },
 "nbformat": 4,
 "nbformat_minor": 2
}

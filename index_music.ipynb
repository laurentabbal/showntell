{
 "cells": [
  {
   "cell_type": "code",
   "execution_count": null,
   "metadata": {},
   "outputs": [],
   "source": [
    "from music21 import *\n",
    "\n",
    "environment.UserSettings()['lilypondPath']='/usr/bin/lilypond'\n",
    "environment.set('pdfPath', '/usr/bin/musescore')\n",
    "environment.set('graphicsPath', '/usr/bin/musescore')\n",
    "environment.set(\"musescoreDirectPNGPath\", \"/usr/bin/musescore\")\n",
    "environment.set(\"musicxmlPath\", \"/usr/bin/musescore\")\n",
    "\n",
    "from IPython.display import Image"
   ]
  },
  {
   "cell_type": "code",
   "execution_count": null,
   "metadata": {},
   "outputs": [],
   "source": [
    "c = chord.Chord(\"C4 E4 G4\")\n",
    "c.isConsonant()\n",
    "c.show('lily.png')\n",
    "Image(filename=c.write('lily.png'))"
   ]
  },
  {
   "cell_type": "code",
   "execution_count": null,
   "metadata": {},
   "outputs": [],
   "source": [
    "myBach = corpus.parse('bach/bwv57.8')\n",
    "alto = myBach.parts['Alto']\n",
    "\n",
    "alto.show('lily.png')\n",
    "Image(filename=alto.write('lily.png'))"
   ]
  }
 ],
 "metadata": {
  "kernelspec": {
   "display_name": "Python 3",
   "language": "python",
   "name": "python3"
  },
  "language_info": {
   "codemirror_mode": {
    "name": "ipython",
    "version": 3
   },
   "file_extension": ".py",
   "mimetype": "text/x-python",
   "name": "python",
   "nbconvert_exporter": "python",
   "pygments_lexer": "ipython3",
   "version": "3.6.1"
  }
 },
 "nbformat": 4,
 "nbformat_minor": 2
}

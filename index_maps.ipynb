{
 "cells": [
  {
   "cell_type": "markdown",
   "metadata": {
    "slideshow": {
     "slide_type": "slide"
    }
   },
   "source": [
    "# Maps and Cartography\n",
    "\n",
    "This build demonstrates how to use Jupyter notebooks to work with geographical objects and create and display a wide range of maps, from static, publication quality maps to interactive web based maps.\n",
    "\n",
    "See ** for an example of the `OpenGeoscience/geonotebook` package which provides ... .\n",
    "\n",
    "For examples of astronomical maps, see the `showntell/astronomy` branch."
   ]
  },
  {
   "cell_type": "markdown",
   "metadata": {
    "slideshow": {
     "slide_type": "slide"
    }
   },
   "source": [
    "## Working with Geo-Data"
   ]
  },
  {
   "cell_type": "markdown",
   "metadata": {
    "slideshow": {
     "slide_type": "slide"
    }
   },
   "source": [
    "## Interactive Maps\n",
    "\n",
    "Jupyter notebooks provide a natural home for embedded, interactive maps.\n",
    "\n",
    "A wide range of Python packages exist that support the creation and embedding of interactive maps built from third party mapping services such as Google Maps, Bing Maps, and OpenStreetMap (OSM).\n",
    "\n",
    "Packages can also work with tiles served from a personally hosted map tile server."
   ]
  },
  {
   "cell_type": "markdown",
   "metadata": {
    "slideshow": {
     "slide_type": "slide"
    }
   },
   "source": [
    "### `ipyleaflet`\n",
    "\n",
    "The `ipyleaflet` package supports the creation of embedded, interactive maps using the `leaflet.js` Javascript package. "
   ]
  },
  {
   "cell_type": "code",
   "execution_count": 1,
   "metadata": {
    "slideshow": {
     "slide_type": "fragment"
    }
   },
   "outputs": [
    {
     "data": {
      "application/vnd.jupyter.widget-view+json": {
       "model_id": "d1038a3be61240f9a5158f4c9cbe4dfb",
       "version_major": 2,
       "version_minor": 0
      },
      "text/plain": [
       "A Jupyter Widget"
      ]
     },
     "metadata": {},
     "output_type": "display_data"
    }
   ],
   "source": [
    "import ipyleaflet as lflt\n",
    "\n",
    "m = lflt.Map(center=[52.0250, -0.7084], zoom=14)\n",
    "m"
   ]
  },
  {
   "cell_type": "markdown",
   "metadata": {
    "slideshow": {
     "slide_type": "slide"
    }
   },
   "source": [
    "### `folium`\n",
    "\n",
    "The `folium` package supports the creation and embedding of interactive maps from ...\n"
   ]
  },
  {
   "cell_type": "markdown",
   "metadata": {
    "slideshow": {
     "slide_type": "slide"
    }
   },
   "source": [
    "#### Simple Maps"
   ]
  },
  {
   "cell_type": "code",
   "execution_count": null,
   "metadata": {
    "collapsed": true,
    "slideshow": {
     "slide_type": "fragment"
    }
   },
   "outputs": [],
   "source": [
    "import folium\n",
    "\n",
    "\n",
    "m = folium.Map(location=[52.0250, -0.7084], zoom_start=14)\n",
    "m"
   ]
  },
  {
   "cell_type": "markdown",
   "metadata": {
    "slideshow": {
     "slide_type": "slide"
    }
   },
   "source": [
    "#### Adding Markers"
   ]
  },
  {
   "cell_type": "code",
   "execution_count": null,
   "metadata": {
    "collapsed": true,
    "slideshow": {
     "slide_type": "fragment"
    }
   },
   "outputs": [],
   "source": [
    "m = folium.Map(location=[52.0250, -0.7084], zoom_start=14, tiles='Stamen Toner')\n",
    "\n",
    "folium.Marker([52.0250, -0.7084],\n",
    "              popup='Open University, Walton Hall').add_to(m)\n",
    "m"
   ]
  },
  {
   "cell_type": "markdown",
   "metadata": {},
   "source": [
    "#### Choropleth Maps"
   ]
  },
  {
   "cell_type": "markdown",
   "metadata": {},
   "source": [
    "#### Generating Static Images from `folium` Created Maps"
   ]
  },
  {
   "cell_type": "markdown",
   "metadata": {},
   "source": [
    "## Static Maps\n",
    "\n",
    "Whilst interactive maps provide a wide range of benefits, sometimes you need to create a fixed, or *static* map, of high quality, for print publication.\n",
    "\n",
    "Python supports a range of packages that can be used to create such maps, including:\n",
    "\n",
    "- `basemap`, which is supplied as part of `matplotlib`;\n",
    "- `cartopy`, a cartogaphic package originally developed by the UK Met Office."
   ]
  },
  {
   "cell_type": "markdown",
   "metadata": {},
   "source": [
    "### `basemap`\n",
    "\n",
    "Examples from: https://matplotlib.org/basemap/users/geography.html"
   ]
  },
  {
   "cell_type": "code",
   "execution_count": null,
   "metadata": {
    "collapsed": true
   },
   "outputs": [],
   "source": [
    "%matplotlib inline"
   ]
  },
  {
   "cell_type": "markdown",
   "metadata": {},
   "source": [
    "Simple map of coastal outline:"
   ]
  },
  {
   "cell_type": "code",
   "execution_count": null,
   "metadata": {
    "collapsed": true
   },
   "outputs": [],
   "source": [
    "from mpl_toolkits.basemap import Basemap\n",
    "import matplotlib.pyplot as plt\n",
    "# setup Lambert Conformal basemap.\n",
    "m = Basemap(width=12000000,height=9000000,projection='lcc',\n",
    "            resolution='c',lat_1=45.,lat_2=55,lat_0=50,lon_0=-107.)\n",
    "# draw coastlines.\n",
    "m.drawcoastlines()\n",
    "plt.show()"
   ]
  },
  {
   "cell_type": "markdown",
   "metadata": {},
   "source": [
    "Add colour:"
   ]
  },
  {
   "cell_type": "code",
   "execution_count": null,
   "metadata": {
    "collapsed": true
   },
   "outputs": [],
   "source": [
    "m = Basemap(width=12000000,height=9000000,projection='lcc',\n",
    "            resolution='c',lat_1=45.,lat_2=55,lat_0=50,lon_0=-107.)\n",
    "# draw coastlines.\n",
    "m.drawcoastlines()\n",
    "# draw a boundary around the map, fill the background.\n",
    "# this background will end up being the ocean color, since\n",
    "# the continents will be drawn on top.\n",
    "m.drawmapboundary(fill_color='aqua')\n",
    "# fill continents, set lake color same as ocean color.\n",
    "m.fillcontinents(color='coral',lake_color='aqua')\n",
    "plt.show()"
   ]
  },
  {
   "cell_type": "markdown",
   "metadata": {},
   "source": [
    "Show map with relief:"
   ]
  },
  {
   "cell_type": "code",
   "execution_count": null,
   "metadata": {
    "collapsed": true
   },
   "outputs": [],
   "source": [
    "# setup Lambert Conformal basemap.\n",
    "# set resolution=None to skip processing of boundary datasets.\n",
    "m = Basemap(width=12000000,height=9000000,projection='lcc',\n",
    "            resolution=None,lat_1=45.,lat_2=55,lat_0=50,lon_0=-107.)\n",
    "m.shadedrelief()\n",
    "plt.show()"
   ]
  },
  {
   "cell_type": "markdown",
   "metadata": {},
   "source": [
    "### Example showing interactive exploration of map projections\n",
    "\n",
    "Via https://gist.github.com/deeplook/f5d02b79b6a64eecb52192d2d6048c16"
   ]
  },
  {
   "cell_type": "code",
   "execution_count": null,
   "metadata": {
    "collapsed": true
   },
   "outputs": [],
   "source": [
    "#ish via https://gist.github.com/deeplook/f5d02b79b6a64eecb52192d2d6048c16\n",
    "from ipywidgets import interact, interact_manual, FloatSlider, Checkbox\n",
    "from mpl_toolkits.basemap import Basemap, supported_projections\n",
    "\n",
    "import datetime\n",
    "import numpy as np\n",
    "import matplotlib.pyplot as plt\n",
    "\n",
    "lines = supported_projections.strip().split('\\n')\n",
    "proj_names = [line.strip().split()[0] for line in lines]\n",
    "\n",
    "lat_slider = FloatSlider(min=-90, max=90, step=0.1, continuous_update=False)\n",
    "lon_slider = FloatSlider(min=-180, max=180, step=0.1, continuous_update=False)\n",
    "hour_slider = FloatSlider(min=-12, max=12, step=1/60, continuous_update=False)\n",
    "shadow_checkbox = Checkbox(value=False, description='Shadow',disabled=False)\n",
    "\n",
    "@interact_manual(lat_0=lat_slider, lon_0=lon_slider, delta_hours=hour_slider,\n",
    "                 shadow=shadow_checkbox, projection=proj_names, title='Demo Map')\n",
    "def show_map(lat_0=0, lon_0=0, delta_hours=0,shadow=False, projection='mill', title=''):\n",
    "    \"Show a world map.\"\n",
    "    \n",
    "    # Resolutions: c (crude), l (low), i (intermediate), h (high), f (full) or None. \n",
    "    map = Basemap(projection=projection, lat_0=lat_0, lon_0=lon_0, resolution='c')\n",
    "\n",
    "    # Plot coastlines, draw label meridians and parallels.\n",
    "    map.drawcoastlines() # linewidth=0.5, linestyle='solid', color='k', antialiased=1, ax=None, zorder=None)\n",
    "\n",
    "    # Plot countries.\n",
    "    map.drawcountries() # linewidth=0.5, linestyle='solid', color='k', antialiased=1, ax=None, zorder=None)\n",
    "\n",
    "    # Plot parallels and meridians.\n",
    "    map.drawparallels(np.arange(-90, 90, 30), labels=[1, 0, 0, 0])\n",
    "    map.drawmeridians(np.arange(map.lonmin, map.lonmax + 30, 60), labels=[0, 0, 0, 1])\n",
    "    \n",
    "    # Fill continents 'coral' (with zorder=0), color wet areas 'aqua'\n",
    "    map.drawmapboundary(fill_color='aqua')\n",
    "    map.fillcontinents(color='coral', lake_color='aqua')\n",
    "    \n",
    "    if shadow:\n",
    "        # Shade the night areas, with alpha transparency so the\n",
    "        # map shows through. Use current time in UTC + delta.\n",
    "        date = datetime.datetime.utcnow().timestamp() + delta_hours * 3600\n",
    "        date = datetime.datetime.fromtimestamp(date)\n",
    "        map.nightshade(date, alpha=0.35)\n",
    "        title='{} {} (UTC)'.format(title, date.isoformat()[:19])\n",
    "        \n",
    "    plt.title(title)\n",
    "    plt.show()"
   ]
  },
  {
   "cell_type": "markdown",
   "metadata": {},
   "source": [
    "### `cartopy`\n",
    "\n",
    "Examples from: http://scitools.org.uk/cartopy/docs/v0.13/matplotlib/advanced_plotting.html"
   ]
  },
  {
   "cell_type": "code",
   "execution_count": null,
   "metadata": {
    "collapsed": true
   },
   "outputs": [],
   "source": [
    "import os\n",
    "import matplotlib.pyplot as plt\n",
    "from netCDF4 import Dataset as netcdf_dataset\n",
    "import numpy as np\n",
    "\n",
    "from cartopy import config\n",
    "import cartopy.crs as ccrs\n",
    "\n",
    "\n",
    "# get the path of the file. It can be found in the repo data directory.\n",
    "fname = os.path.join(config[\"repo_data_dir\"],\n",
    "                     'netcdf', 'HadISST1_SST_update.nc'\n",
    "                     )\n",
    "\n",
    "dataset = netcdf_dataset(fname)\n",
    "sst = dataset.variables['sst'][0, :, :]\n",
    "lats = dataset.variables['lat'][:]\n",
    "lons = dataset.variables['lon'][:]\n",
    "\n",
    "ax = plt.axes(projection=ccrs.PlateCarree())\n",
    "\n",
    "plt.contourf(lons, lats, sst, 60,\n",
    "             transform=ccrs.PlateCarree())\n",
    "\n",
    "ax.coastlines()\n",
    "\n",
    "plt.show()"
   ]
  },
  {
   "cell_type": "code",
   "execution_count": null,
   "metadata": {
    "collapsed": true
   },
   "outputs": [],
   "source": [
    "import matplotlib.pyplot as plt\n",
    "import numpy as np\n",
    "\n",
    "import cartopy\n",
    "import cartopy.crs as ccrs\n",
    "\n",
    "\n",
    "def sample_data(shape=(20, 30)):\n",
    "    \"\"\"\n",
    "    Returns ``(x, y, u, v, crs)`` of some vector data\n",
    "    computed mathematically. The returned crs will be a rotated\n",
    "    pole CRS, meaning that the vectors will be unevenly spaced in\n",
    "    regular PlateCarree space.\n",
    "\n",
    "    \"\"\"\n",
    "    crs = ccrs.RotatedPole(pole_longitude=177.5, pole_latitude=37.5)\n",
    "\n",
    "    x = np.linspace(311.9, 391.1, shape[1])\n",
    "    y = np.linspace(-23.6, 24.8, shape[0])\n",
    "\n",
    "    x2d, y2d = np.meshgrid(x, y)\n",
    "    u = 10 * (2 * np.cos(2 * np.deg2rad(x2d) + 3 * np.deg2rad(y2d + 30)) ** 2)\n",
    "    v = 20 * np.cos(6 * np.deg2rad(x2d))\n",
    "\n",
    "    return x, y, u, v, crs\n",
    "\n",
    "\n",
    "\n",
    "ax = plt.axes(projection=ccrs.Orthographic(-10, 45))\n",
    "\n",
    "ax.add_feature(cartopy.feature.OCEAN, zorder=0)\n",
    "ax.add_feature(cartopy.feature.LAND, zorder=0, edgecolor='black')\n",
    "\n",
    "ax.set_global()\n",
    "ax.gridlines()\n",
    "\n",
    "x, y, u, v, vector_crs = sample_data()\n",
    "ax.quiver(x, y, u, v, transform=vector_crs)\n",
    "\n",
    "plt.show()"
   ]
  },
  {
   "cell_type": "code",
   "execution_count": null,
   "metadata": {
    "collapsed": true
   },
   "outputs": [],
   "source": [
    "import os\n",
    "import matplotlib.pyplot as plt\n",
    "\n",
    "from cartopy import config\n",
    "import cartopy.crs as ccrs\n",
    "\n",
    "\n",
    "fig = plt.figure(figsize=(8, 12))\n",
    "\n",
    "# get the path of the file. It can be found in the repo data directory.\n",
    "fname = os.path.join(config[\"repo_data_dir\"],\n",
    "                     'raster', 'sample', 'Miriam.A2012270.2050.2km.jpg'\n",
    "                     )\n",
    "img_extent = (-120.67660000000001, -106.32104523100001, 13.2301484511245, 30.766899999999502)\n",
    "img = plt.imread(fname)\n",
    "\n",
    "ax = plt.axes(projection=ccrs.PlateCarree())\n",
    "plt.title('Hurricane Miriam from the Aqua/MODIS satellite\\n'\n",
    "          '2012 09/26/2012 20:50 UTC')\n",
    "\n",
    "# set a margin around the data\n",
    "ax.set_xmargin(0.05)\n",
    "ax.set_ymargin(0.10)\n",
    "\n",
    "# add the image. Because this image was a tif, the \"origin\" of the image is in the\n",
    "# upper left corner\n",
    "ax.imshow(img, origin='upper', extent=img_extent, transform=ccrs.PlateCarree())\n",
    "ax.coastlines(resolution='50m', color='black', linewidth=1)\n",
    "\n",
    "# mark a known place to help us geo-locate ourselves\n",
    "ax.plot(-117.1625, 32.715, 'bo', markersize=7, transform=ccrs.Geodetic())\n",
    "ax.text(-117, 33, 'San Diego', transform=ccrs.Geodetic())\n",
    "\n",
    "plt.show()"
   ]
  },
  {
   "cell_type": "markdown",
   "metadata": {},
   "source": [
    "### choropleth demo"
   ]
  },
  {
   "cell_type": "markdown",
   "metadata": {},
   "source": [
    "shapefiles uk - https://data.gov.uk/dataset/regions-december-2016-full-extent-boundaries-in-england2\n",
    "\n",
    "Also - ONS Geogpraphy portal?"
   ]
  },
  {
   "cell_type": "code",
   "execution_count": null,
   "metadata": {
    "collapsed": true
   },
   "outputs": [],
   "source": [
    "#https://speakerdeck.com/alinagator/plotting-choropleth-maps-with-cartopy-at-pydata-london\n",
    "import cartopy.crs as ccrs"
   ]
  },
  {
   "cell_type": "code",
   "execution_count": null,
   "metadata": {
    "collapsed": true
   },
   "outputs": [],
   "source": [
    "ax=plt.axes(projection=ccrs.GOOGLE_MERCATOR)\n",
    "ax.coastlines(resolution='50m')\n",
    "ax.set_extent([-12,3,49,60])"
   ]
  },
  {
   "cell_type": "code",
   "execution_count": null,
   "metadata": {
    "collapsed": true
   },
   "outputs": [],
   "source": [
    "from cartopy.io.shapereader import Reader\n",
    "from cartopy.feature import ShapelyFeature\n",
    "file = './boundaries/Regions_December_2016_Full_Extent_Boundaries_in_England/Regions_December_2016_Full_Extent_Boundaries_in_England.shp'\n",
    "ax = plt.axes(projection=ccrs.GOOGLE_MERCATOR)\n",
    "ax.coastlines(resolution='50m')\n",
    "ax.set_extent([-12, 3, 49, 60])\n",
    "regions = ShapelyFeature(Reader(file).geometries(),\n",
    " ccrs.PlateCarree(),\n",
    " facecolor='grey')\n",
    "ax.add_feature(regions)"
   ]
  },
  {
   "cell_type": "code",
   "execution_count": null,
   "metadata": {
    "collapsed": true
   },
   "outputs": [],
   "source": [
    "ax = plt.axes(projection=ccrs.GOOGLE_MERCATOR)\n",
    "ax.coastlines(resolution='50m')\n",
    "ax.set_extent([-12, 3, 49, 60])\n",
    "norm = matplotlib.colors.Normalize(vmin=-6, vmax=4)\n",
    "cmap = plt.cm.gray_r\n",
    "for i, row in df.iterrows():\n",
    "    region = ShapelyFeature(df['shape'][i],\n",
    "    ccrs.PlateCarree(),\n",
    "    facecolor=\n",
    "    cmap(norm(df[‘dev’][i])),\n",
    "    )\n",
    "    ax.add_feature(region)"
   ]
  },
  {
   "cell_type": "markdown",
   "metadata": {},
   "source": [
    "### Cartograms\n"
   ]
  },
  {
   "cell_type": "code",
   "execution_count": null,
   "metadata": {
    "collapsed": true
   },
   "outputs": [],
   "source": [
    "#https://github.com/LokiTechnologies/equalareacartogram\n",
    "#pip install currently throws an error\n",
    "#!pip3 install git+https://github.com/LokiTechnologies/EqualAreaCartogram.git"
   ]
  },
  {
   "cell_type": "code",
   "execution_count": null,
   "metadata": {
    "collapsed": true
   },
   "outputs": [],
   "source": []
  }
 ],
 "metadata": {
  "hide_input": false,
  "kernelspec": {
   "display_name": "Python 3",
   "language": "python",
   "name": "python3"
  },
  "language_info": {
   "codemirror_mode": {
    "name": "ipython",
    "version": 3
   },
   "file_extension": ".py",
   "mimetype": "text/x-python",
   "name": "python",
   "nbconvert_exporter": "python",
   "pygments_lexer": "ipython3",
   "version": "3.5.3"
  }
 },
 "nbformat": 4,
 "nbformat_minor": 2
}

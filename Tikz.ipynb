{
 "cells": [
  {
   "cell_type": "markdown",
   "metadata": {},
   "source": [
    "# Tikz\n",
    "\n",
    "The `tikz` Linux package is a *TeX* package for creating graphics programmatically.\n",
    "\n",
    "From the *Cell* menu, select *Run All* to run the hidden code cells and render the generated output content.\n",
    "\n",
    "VIew hidden code by selecting a hidden code cell and selecting the *Toggle selected cell input display* button on the toolbar, or toggle the display of all code cell inputs."
   ]
  },
  {
   "cell_type": "code",
   "execution_count": 1,
   "metadata": {},
   "outputs": [],
   "source": [
    "%load_ext tikz_magic"
   ]
  },
  {
   "cell_type": "code",
   "execution_count": 2,
   "metadata": {},
   "outputs": [
    {
     "data": {
      "image/png": "[encoded data removed]",
      "text/plain": [
       "<IPython.core.display.Image object>"
      ]
     },
     "execution_count": 2,
     "metadata": {},
     "output_type": "execute_result"
    }
   ],
   "source": [
    "%%tikz \n",
    "\\tikzset{every node/.style={font=\\sffamily,white}}\n",
    "\n",
    "\\node[fill=red] at (0,0) (a) {This};\n",
    "\\node[fill=blue] at (2,0) (b) {That};\n",
    "\\draw[->] (a) -- (b);"
   ]
  },
  {
   "cell_type": "markdown",
   "metadata": {},
   "source": [
    "### tikZ Examples\n",
    "\n",
    "Via https://tex.stackexchange.com/questions/158668/nice-scientific-pictures-show-off\n",
    "\n",
    "May require additional Latex packages to be installed?"
   ]
  },
  {
   "cell_type": "code",
   "execution_count": null,
   "metadata": {
    "collapsed": true
   },
   "outputs": [],
   "source": []
  }
 ],
 "metadata": {
  "hide_input": false,
  "kernelspec": {
   "display_name": "Python 3",
   "language": "python",
   "name": "python3"
  },
  "language_info": {
   "codemirror_mode": {
    "name": "ipython",
    "version": 3
   },
   "file_extension": ".py",
   "mimetype": "text/x-python",
   "name": "python",
   "nbconvert_exporter": "python",
   "pygments_lexer": "ipython3",
   "version": "3.5.3"
  }
 },
 "nbformat": 4,
 "nbformat_minor": 2
}

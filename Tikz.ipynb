{
 "cells": [
  {
   "cell_type": "markdown",
   "metadata": {},
   "source": [
    "# Tikz\n",
    "\n",
    "The `tikz` Linux package is a *TeX* package for creating graphics programmatically.\n",
    "\n",
    "From the *Cell* menu, select *Run All* to run the hidden code cells and render the gnerated output content.\n",
    "\n",
    "VIew hidden code by selecting a hidden code cell and selecting the *Toggle selected cell input display* button on the toolbar, or toggle the display of all code cell inputs."
   ]
  },
  {
   "cell_type": "code",
   "execution_count": 1,
   "metadata": {
    "hide_input": true
   },
   "outputs": [],
   "source": [
    "#via https://github.com/robjstan/tikzmagic\n",
    "import subprocess\n",
    "import shlex\n",
    "import shutil\n",
    "import tempfile\n",
    "from argparse import ArgumentParser\n",
    "from base64 import b64encode\n",
    "from os.path import isfile\n",
    "from os import getcwd\n",
    "\n",
    "from IPython.core.magic import register_line_cell_magic\n",
    "from IPython.core.display import Image"
   ]
  },
  {
   "cell_type": "code",
   "execution_count": 2,
   "metadata": {
    "hide_input": true
   },
   "outputs": [],
   "source": [
    "import base64\n",
    "from IPython.core.display import HTML\n",
    "\n",
    "LATEX_TEMPLATE = r'''\n",
    "\\documentclass[tikz,border={border}]{{standalone}}\n",
    "\\usepackage{{tikz,{latex_pkgs}}}\n",
    "\\usetikzlibrary{{{tikz_libs}}}\n",
    "{latex_pre}\n",
    "\\begin{{document}}\n",
    "{content}\n",
    "\\end{{document}}'''\n",
    "\n",
    "@register_line_cell_magic\n",
    "def tikz(line, cell=''):\n",
    "    '''Format TikZ commands into a LaTeX document, compile, and convert.'''\n",
    "    parser = ArgumentParser()\n",
    "    parser.add_argument('-p', '--latex_packages', default='')\n",
    "    parser.add_argument('-x', '--latex_preamble', default='')\n",
    "    parser.add_argument('-l', '--tikz_libraries', default='')\n",
    "    parser.add_argument('-i', '--input_file', default=None)\n",
    "    parser.add_argument('-e', '--export_file', default=None)\n",
    "    parser.add_argument('-s', '--scale', default=1, type=float)\n",
    "    parser.add_argument('-b', '--border', default=4)\n",
    "    parser.add_argument('--wrap', dest='wrap_env', action='store_true')\n",
    "    parser.add_argument('--no-wrap', dest='wrap_env', action='store_false')\n",
    "    parser.set_defaults(wrap_env=True)\n",
    "    parser.add_argument('--debug', dest='debug_mode', action='store_true')\n",
    "    parser.set_defaults(debug_mode=False)\n",
    "    args = parser.parse_args(shlex.split(line))\n",
    "\n",
    "    # prepare latex from template\n",
    "    if args.input_file:\n",
    "        # add content from input_file before rest of cell\n",
    "        cell += r'\\input{{{cwd}/{file}}}'.format(cwd=getcwd(),\n",
    "                                                 file=args.input_file)\n",
    "\n",
    "    if args.wrap_env:\n",
    "        cell = r'\\begin{tikzpicture}' + cell + r'\\end{tikzpicture}'\n",
    "\n",
    "    latex = LATEX_TEMPLATE.format(content=cell,\n",
    "                                  border=args.border,\n",
    "                                  latex_pre=args.latex_preamble,\n",
    "                                  latex_pkgs=args.latex_packages,\n",
    "                                  tikz_libs=args.tikz_libraries)\n",
    "\n",
    "    if args.debug_mode:\n",
    "        print(latex)\n",
    "\n",
    "    # add current working directory to any export_file path\n",
    "    if args.export_file:\n",
    "        args.export_file = getcwd() + '/' + args.export_file\n",
    "\n",
    "    # compile and convert, returning Image data\n",
    "    return latex2image(latex, int(args.scale*300), args.export_file)\n",
    "\n",
    "def latex2image(latex, density, export_file=None):\n",
    "    '''Compile LaTeX to PDF, and convert to PNG.'''\n",
    "    try:\n",
    "        # make a temp directory, and name temp files\n",
    "        temp_dir = tempfile.mkdtemp()\n",
    "        temp_tex = temp_dir + '/tikzfile.tex'\n",
    "        temp_pdf = temp_dir + '/tikzfile.pdf'\n",
    "        temp_png = temp_dir + '/tikzfile.png'\n",
    "\n",
    "        open(temp_tex, 'w').write(latex)\n",
    "        # run LaTeX to generate a PDF\n",
    "        sh_latex(in_file=temp_tex, out_dir=temp_dir)\n",
    "\n",
    "        if not isfile(temp_pdf):\n",
    "            raise Exception('pdflatex did not produce a PDF file.')\n",
    "\n",
    "        if export_file:\n",
    "            shutil.copyfile(temp_pdf, export_file)\n",
    "\n",
    "         # convert PDF to PNG\n",
    "        sh_convert(in_file=temp_pdf, out_file=temp_png, density=density)\n",
    "        \n",
    "        #The Image(data=png) thing doesn't work..?\n",
    "        png = b64encode(open(temp_png, \"rb\").read())\n",
    "        #return Image(data=png)\n",
    "        return Image(filename=temp_png)\n",
    "        \n",
    "    finally:\n",
    "        # remove temp directory\n",
    "        shutil.rmtree(temp_dir)\n",
    "\n",
    "# functions to run command line scripts\n",
    "def sh_latex(in_file, out_dir):\n",
    "    '''Compile XeLaTeX to generate a PDF.'''\n",
    "    subprocess.call(['xelatex', '-output-directory', out_dir, in_file])\n",
    "\n",
    "def sh_convert(in_file, out_file, density=96):\n",
    "    '''Use ImageMagick to convert PDF to PNG.'''\n",
    "    subprocess.call(['convert', '-density', str(density), in_file, out_file])\n",
    "\n",
    "def load_ipython_extension(ipython):\n",
    "    '''Load iPython extension. Empty as we don't need to do anything.'''\n",
    "    pass"
   ]
  },
  {
   "cell_type": "code",
   "execution_count": 5,
   "metadata": {},
   "outputs": [
    {
     "data": {
      "image/png": "[encoded data removed]",
      "text/plain": [
       "<IPython.core.display.Image object>"
      ]
     },
     "execution_count": 5,
     "metadata": {},
     "output_type": "execute_result"
    }
   ],
   "source": [
    "%%tikz \n",
    "\\tikzset{every node/.style={font=\\sffamily,white}}\n",
    "\n",
    "\\node[fill=red] at (0,0) (a) {This};\n",
    "\\node[fill=blue] at (2,0) (b) {That};\n",
    "\\draw[->] (a) -- (b);"
   ]
  },
  {
   "cell_type": "markdown",
   "metadata": {},
   "source": [
    "### tikZ Examples\n",
    "\n",
    "Via https://tex.stackexchange.com/questions/158668/nice-scientific-pictures-show-off\n",
    "\n",
    "May require additional Latex packages to be installed?"
   ]
  },
  {
   "cell_type": "code",
   "execution_count": null,
   "metadata": {},
   "outputs": [],
   "source": []
  }
 ],
 "metadata": {
  "hide_input": false,
  "kernelspec": {
   "display_name": "Python 3",
   "language": "python",
   "name": "python3"
  },
  "language_info": {
   "codemirror_mode": {
    "name": "ipython",
    "version": 3
   },
   "file_extension": ".py",
   "mimetype": "text/x-python",
   "name": "python",
   "nbconvert_exporter": "python",
   "pygments_lexer": "ipython3",
   "version": "3.5.3"
  }
 },
 "nbformat": 4,
 "nbformat_minor": 2
}

{
 "cells": [
  {
   "cell_type": "markdown",
   "metadata": {},
   "source": [
    "# OpenLearn - An introduction to music theory\n",
    "\n",
    "This notebook demonstrates a partial reworking of the OpenLearn course [An introduction to music theory](http://www.open.edu/openlearn/history-the-arts/culture/music/introduction-music-theory/content-section-0?active-tab=content-tab).\n",
    "\n",
    "----"
   ]
  },
  {
   "cell_type": "code",
   "execution_count": 4,
   "metadata": {},
   "outputs": [],
   "source": [
    "from music21 import *\n",
    "\n",
    "environment.UserSettings()['lilypondPath']='/usr/bin/lilypond'\n",
    "environment.set('pdfPath', '/usr/bin/musescore')\n",
    "environment.set('graphicsPath', '/usr/bin/musescore')\n",
    "environment.set(\"musescoreDirectPNGPath\", \"/usr/bin/musescore\")\n",
    "environment.set(\"musicxmlPath\", \"/usr/bin/musescore\")\n",
    "\n",
    "from IPython.display import Image"
   ]
  },
  {
   "cell_type": "markdown",
   "metadata": {},
   "source": [
    "## 2 The basics\n",
    "### 2.1 The staff\n",
    "\n",
    "The idea of placing notes on a set of horizontal lines – the staff –to show the relationship of various pitches with each other – staff notation – emerged in western music towards the end of the ninth century. Originally, each pitch was allocated its own line, but the Italian music theorist, Guido of Arezzo, who lived during the early eleventh century, suggested that lines should be drawn for every other pitch, so that alternate pitches sat on the lines and the remaining pitches were placed in the intervening spaces between the lines.\n",
    "\n",
    "This principle was soon adopted and has remained in force in traditional western music notation to the present day. The number of lines included in the staff has varied depending on the range of the music being notated. However, the norm has evolved as the five-line staff, shown in Example 1.\n",
    "\n",
    "#### Example 1\n",
    "\n",
    "*Not sure how to do an empty staff?*\n",
    "\n",
    "As shown in Example 2, if we place pitches in the form of note heads on the staff, information about the relationship of the pitches with each other is produced.\n",
    "\n",
    "#### Example 2"
   ]
  },
  {
   "cell_type": "code",
   "execution_count": 11,
   "metadata": {},
   "outputs": [
    {
     "data": {
      "image/png": "[encoded data removed]",
      "text/plain": [
       "<IPython.core.display.Image object>"
      ]
     },
     "execution_count": 11,
     "metadata": {},
     "output_type": "execute_result"
    }
   ],
   "source": [
    "s = stream.Stream()\n",
    "\n",
    "s.append(note.Note('G4', type='whole'))\n",
    "s.append(note.Note('A4', type='whole'))\n",
    "s.append(note.Note('B4', type='whole'))\n",
    "s.append(note.Note('C5', type='whole'))\n",
    "#s.makeMeasures(inPlace=True)\n",
    "s.show('lily.png')\n",
    "Image(filename=s.write('lily.png'))"
   ]
  },
  {
   "cell_type": "markdown",
   "metadata": {},
   "source": [
    "### 2.2 Clefs\n",
    "As it stands, the first note in Example 2 could be any pitch we care to choose.\n",
    "\n",
    "#### Example 2 (repeated)"
   ]
  },
  {
   "cell_type": "code",
   "execution_count": null,
   "metadata": {},
   "outputs": [],
   "source": []
  },
  {
   "cell_type": "markdown",
   "metadata": {},
   "source": [
    "So if we wish to specify a particular pitch or series of pitches we need some sort of guide – a sign that will enable us to indicate the specific pitch. That sign is supplied by a clef (from the Latin, clavis, meaning ‘key’). From the eleventh century onwards, several Roman letters, including c and f, were used systematically for clefs, with g subsequently becoming increasingly common. In a stylised form, g, with flamboyant curls and flourishes, is still used as the treble or G clef, and signifies that a note placed on the second line from the bottom is G (see Example 3).\n",
    "\n",
    "#### Example 3"
   ]
  },
  {
   "cell_type": "code",
   "execution_count": 17,
   "metadata": {},
   "outputs": [
    {
     "data": {
      "image/png": "[encoded data removed]",
      "text/plain": [
       "<IPython.core.display.Image object>"
      ]
     },
     "execution_count": 17,
     "metadata": {},
     "output_type": "execute_result"
    }
   ],
   "source": [
    "s = stream.Stream()\n",
    "\n",
    "#s.append(note.Note('G', type='whole'))\n",
    "s = converter.parse(\"tinyNotation: c'4\")\n",
    "s.show('lily.png')\n",
    "Image(filename=s.write('lily.png'))\n",
    " "
   ]
  },
  {
   "cell_type": "code",
   "execution_count": null,
   "metadata": {},
   "outputs": [],
   "source": [
    "#Broken becuase of stylesheet http not https load error\n",
    "c.show('midi')"
   ]
  },
  {
   "cell_type": "markdown",
   "metadata": {},
   "source": [
    "And this is not any G, but specifically the one above middle C. (We’ll come to an explanation of middle C in a moment.)\n",
    "\n",
    "As Example 4 shows, the other notes are named with letters from the alphabet, A–G, with A returning after G has been reached.\n",
    "\n",
    "#### Example 4"
   ]
  },
  {
   "cell_type": "markdown",
   "metadata": {},
   "source": [
    "Download\n",
    " \n",
    "Notice that as the notes are placed higher and higher up the staff, the pitch becomes higher and higher as well. Notice too that we read music from left to right, and with a whole page of music, from top to bottom. This reflects the way we read words in western culture.\n",
    "\n",
    "The letter, f, in a stylised form and in a mirror image, is now used as the bass or F clef.It signifies that a note placed on the second line from the top is F, and specifically the F below middle C (see Example 5).\n",
    "\n",
    "#### Example 5"
   ]
  }
 ],
 "metadata": {
  "kernelspec": {
   "display_name": "Python 3",
   "language": "python",
   "name": "python3"
  },
  "language_info": {
   "codemirror_mode": {
    "name": "ipython",
    "version": 3
   },
   "file_extension": ".py",
   "mimetype": "text/x-python",
   "name": "python",
   "nbconvert_exporter": "python",
   "pygments_lexer": "ipython3",
   "version": "3.5.3"
  }
 },
 "nbformat": 4,
 "nbformat_minor": 2
}

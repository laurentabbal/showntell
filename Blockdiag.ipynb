{
 "cells": [
  {
   "cell_type": "markdown",
   "metadata": {},
   "source": [
    "# Blockdiag diagrams\n"
   ]
  },
  {
   "cell_type": "code",
   "execution_count": null,
   "metadata": {},
   "outputs": [],
   "source": []
  },
  {
   "cell_type": "code",
   "execution_count": null,
   "metadata": {},
   "outputs": [],
   "source": [
    "ip = get_ipython()\n",
    "ip.register_magics(BlockdiagMagics)"
   ]
  },
  {
   "cell_type": "code",
   "execution_count": null,
   "metadata": {},
   "outputs": [],
   "source": [
    "%%blockdiag\n",
    "    {\n",
    "       A -> B -> C;\n",
    "            B -> D;\n",
    "    }"
   ]
  },
  {
   "cell_type": "code",
   "execution_count": null,
   "metadata": {},
   "outputs": [],
   "source": [
    "%%seqdiag \n",
    "{\n",
    "  browser  -> webserver [label = \"GET /index.html\"];\n",
    "  browser <-- webserver;\n",
    "  browser  -> webserver [label = \"POST /blog/comment\"];\n",
    "              webserver  -> database [label = \"INSERT comment\"];\n",
    "              webserver <-- database;\n",
    "  browser <-- webserver;\n",
    "}"
   ]
  },
  {
   "cell_type": "code",
   "execution_count": null,
   "metadata": {},
   "outputs": [],
   "source": [
    "%%actdiag\n",
    "{\n",
    "  write -> convert -> image\n",
    "\n",
    "  lane user {\n",
    "     label = \"User\"\n",
    "     write [label = \"Writing reST\"];\n",
    "     image [label = \"Get diagram IMAGE\"];\n",
    "  }\n",
    "  lane actdiag {\n",
    "     convert [label = \"Convert reST to Image\"];\n",
    "  }\n",
    "}\n"
   ]
  },
  {
   "cell_type": "code",
   "execution_count": null,
   "metadata": {},
   "outputs": [],
   "source": [
    "%%nwdiag\n",
    "{\n",
    "  network dmz {\n",
    "      address = \"210.x.x.x/24\"\n",
    "\n",
    "      web01 [address = \"210.x.x.1\"];\n",
    "      web02 [address = \"210.x.x.2\"];\n",
    "  }\n",
    "  network internal {\n",
    "      address = \"172.x.x.x/24\";\n",
    "\n",
    "      web01 [address = \"172.x.x.1\"];\n",
    "      web02 [address = \"172.x.x.2\"];\n",
    "      db01;\n",
    "      db02;\n",
    "  }\n",
    "}"
   ]
  }
 ],
 "metadata": {
  "kernelspec": {
   "display_name": "Python 3",
   "language": "python",
   "name": "python3"
  },
  "language_info": {
   "codemirror_mode": {
    "name": "ipython",
    "version": 3
   },
   "file_extension": ".py",
   "mimetype": "text/x-python",
   "name": "python",
   "nbconvert_exporter": "python",
   "pygments_lexer": "ipython3",
   "version": "3.6.1"
  }
 },
 "nbformat": 4,
 "nbformat_minor": 2
}

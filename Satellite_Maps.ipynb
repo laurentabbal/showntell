{
 "cells": [
  {
   "cell_type": "markdown",
   "metadata": {},
   "source": [
    "## Download Satellite Imagery\n",
    "\n",
    "Notebook demonstrating utilities for downloading and viewing satellite imagery."
   ]
  },
  {
   "cell_type": "markdown",
   "metadata": {},
   "source": [
    "### `sat-utils/sat-download`\n",
    "Via https://github.com/sat-utils/sat-download"
   ]
  },
  {
   "cell_type": "code",
   "execution_count": null,
   "metadata": {},
   "outputs": [],
   "source": [
    "from sdownloader import Landsat8\n",
    "from tempfile import mkdtemp\n",
    "temp_folder = mkdtemp()\n",
    "l = Landsat8(download_dir=temp_folder)\n",
    "scenes = l.download(['LC80010092015051LGN00'], bands=[4])"
   ]
  },
  {
   "cell_type": "markdown",
   "metadata": {},
   "source": [
    "## `landsat-util`\n",
    "\n",
    "Command line commands but can peek in tests for examples of how to use as import."
   ]
  },
  {
   "cell_type": "markdown",
   "metadata": {},
   "source": [
    "## `sentinelsat`\n",
    "\n",
    "Via: http://sentinelsat.readthedocs.io/en/stable/\n",
    "\n",
    "Requires user credentials: https://scihub.copernicus.eu/twiki/do/view/SciHubWebPortal/APIHubDescription"
   ]
  },
  {
   "cell_type": "code",
   "execution_count": null,
   "metadata": {},
   "outputs": [],
   "source": []
  },
  {
   "cell_type": "markdown",
   "metadata": {},
   "source": [
    "## TO DO"
   ]
  },
  {
   "cell_type": "code",
   "execution_count": null,
   "metadata": {},
   "outputs": [],
   "source": [
    "https://github.com/planetlabs/notebooks\n",
    "    \n",
    "Satellite tiles from eg google?\n",
    "\n",
    "Other tileservers?"
   ]
  }
 ],
 "metadata": {
  "kernelspec": {
   "display_name": "Python 3",
   "language": "python",
   "name": "python3"
  },
  "language_info": {
   "codemirror_mode": {
    "name": "ipython",
    "version": 3
   },
   "file_extension": ".py",
   "mimetype": "text/x-python",
   "name": "python",
   "nbconvert_exporter": "python",
   "pygments_lexer": "ipython3",
   "version": "3.6.1"
  }
 },
 "nbformat": 4,
 "nbformat_minor": 2
}

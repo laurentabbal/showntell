{
 "cells": [
  {
   "cell_type": "markdown",
   "metadata": {},
   "source": [
    "# Jupyter Notebook - Music Demos - `abjad` - BROKEN\n",
    "\n",
    "This build incorporates a range of Python packages that can be used to support the creation of rich, interactive materials relating to music."
   ]
  },
  {
   "cell_type": "markdown",
   "metadata": {},
   "source": [
    "## `abjad`\n",
    "\n",
    "`abjad` is a python package that wraps Lilypond and supports the creation of musical scores [[docs](http://projectabjad.org/)]."
   ]
  },
  {
   "cell_type": "code",
   "execution_count": null,
   "metadata": {},
   "outputs": [],
   "source": [
    "%load_ext abjad.ext.ipython\n",
    "import abjad\n",
    "\n",
    "note = abjad.Note(\"c'4\")\n",
    "abjad.show(note)"
   ]
  },
  {
   "cell_type": "code",
   "execution_count": null,
   "metadata": {},
   "outputs": [],
   "source": [
    "duration = abjad.Duration(1, 4)\n",
    "notes = [abjad.Note(pitch, duration) for pitch in range(8)]\n",
    "staff = abjad.Staff(notes)\n",
    "abjad.show(staff)"
   ]
  },
  {
   "cell_type": "code",
   "execution_count": null,
   "metadata": {},
   "outputs": [],
   "source": [
    "tuplet_1 = abjad.Tuplet((2, 3), \"c'8 d' e'\")\n",
    "beam = abjad.Beam()\n",
    "abjad.attach(beam, tuplet_1[:])\n",
    "tuplet_2 = abjad.Tuplet((2, 3), \"c'16 d' e'\")\n",
    "slur = abjad.Slur()\n",
    "abjad.attach(slur, tuplet_2[:])\n",
    "staff = abjad.Staff([tuplet_1, tuplet_2])\n",
    "abjad.show(staff) "
   ]
  },
  {
   "cell_type": "code",
   "execution_count": null,
   "metadata": {},
   "outputs": [],
   "source": [
    "tuplets = staff[:]\n",
    "abjad.mutate(tuplets).fuse()\n",
    "abjad.show(staff) "
   ]
  },
  {
   "cell_type": "code",
   "execution_count": null,
   "metadata": {
    "collapsed": true
   },
   "outputs": [],
   "source": [
    "abjad.play(note) "
   ]
  },
  {
   "cell_type": "code",
   "execution_count": null,
   "metadata": {
    "collapsed": true
   },
   "outputs": [],
   "source": []
  }
 ],
 "metadata": {
  "hide_input": false,
  "kernelspec": {
   "display_name": "Python 3",
   "language": "python",
   "name": "python3"
  },
  "language_info": {
   "codemirror_mode": {
    "name": "ipython",
    "version": 3
   },
   "file_extension": ".py",
   "mimetype": "text/x-python",
   "name": "python",
   "nbconvert_exporter": "python",
   "pygments_lexer": "ipython3",
   "version": "3.5.3"
  }
 },
 "nbformat": 4,
 "nbformat_minor": 2
}

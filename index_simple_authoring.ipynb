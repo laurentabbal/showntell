{
 "cells": [
  {
   "cell_type": "markdown",
   "metadata": {
    "toc": true
   },
   "source": [
    "<h1>Table of Contents<span class=\"tocSkip\"></span></h1>\n",
    "<div class=\"toc\" style=\"margin-top: 1em;\"><ul class=\"toc-item\"><li><span><a href=\"#Using-Jupyter-Notebooks-for-Content-Authoring\" data-toc-modified-id=\"Using-Jupyter-Notebooks-for-Content-Authoring-1\"><span class=\"toc-item-num\">1&nbsp;&nbsp;</span>Using Jupyter Notebooks for Content Authoring</a></span><ul class=\"toc-item\"><li><span><a href=\"#Writing-Markdown-/-HTML-Content\" data-toc-modified-id=\"Writing-Markdown-/-HTML-Content-1.1\"><span class=\"toc-item-num\">1.1&nbsp;&nbsp;</span>Writing Markdown / HTML Content</a></span></li><li><span><a href=\"#Image-Embedding\" data-toc-modified-id=\"Image-Embedding-1.2\"><span class=\"toc-item-num\">1.2&nbsp;&nbsp;</span>Image Embedding</a></span></li><li><span><a href=\"#Video-Embedding\" data-toc-modified-id=\"Video-Embedding-1.3\"><span class=\"toc-item-num\">1.3&nbsp;&nbsp;</span>Video Embedding</a></span></li><li><span><a href=\"#Equations\" data-toc-modified-id=\"Equations-1.4\"><span class=\"toc-item-num\">1.4&nbsp;&nbsp;</span>Equations</a></span></li></ul></li><li><span><a href=\"#Output-/-Generated-Documents\" data-toc-modified-id=\"Output-/-Generated-Documents-2\"><span class=\"toc-item-num\">2&nbsp;&nbsp;</span>Output / Generated Documents</a></span></li><li><span><a href=\"#Extensions\" data-toc-modified-id=\"Extensions-3\"><span class=\"toc-item-num\">3&nbsp;&nbsp;</span>Extensions</a></span><ul class=\"toc-item\"><li><span><a href=\"#Jupyter-WYSIWYG\" data-toc-modified-id=\"Jupyter-WYSIWYG-3.1\"><span class=\"toc-item-num\">3.1&nbsp;&nbsp;</span>Jupyter WYSIWYG</a></span></li><li><span><a href=\"#Spellchecker\" data-toc-modified-id=\"Spellchecker-3.2\"><span class=\"toc-item-num\">3.2&nbsp;&nbsp;</span>Spellchecker</a></span></li><li><span><a href=\"#Collapsible-Headings\" data-toc-modified-id=\"Collapsible-Headings-3.3\"><span class=\"toc-item-num\">3.3&nbsp;&nbsp;</span><code>Collapsible Headings</code></a></span><ul class=\"toc-item\"><li><span><a href=\"#Folded-Heading\" data-toc-modified-id=\"Folded-Heading-3.3.1\"><span class=\"toc-item-num\">3.3.1&nbsp;&nbsp;</span>Folded Heading</a></span><ul class=\"toc-item\"><li><span><a href=\"#Child-blocks...\" data-toc-modified-id=\"Child-blocks...-3.3.1.1\"><span class=\"toc-item-num\">3.3.1.1&nbsp;&nbsp;</span>Child blocks...</a></span></li><li><span><a href=\"#...Can-also-be-Collapsed...\" data-toc-modified-id=\"...Can-also-be-Collapsed...-3.3.1.2\"><span class=\"toc-item-num\">3.3.1.2&nbsp;&nbsp;</span>...Can also be Collapsed...</a></span></li></ul></li></ul></li><li><span><a href=\"#Table-of-Contents(2)\" data-toc-modified-id=\"Table-of-Contents(2)-3.4\"><span class=\"toc-item-num\">3.4&nbsp;&nbsp;</span>Table of Contents(2)</a></span></li><li><span><a href=\"#Locked-and-Frozen-Cells---Freeze\" data-toc-modified-id=\"Locked-and-Frozen-Cells---Freeze-3.5\"><span class=\"toc-item-num\">3.5&nbsp;&nbsp;</span>Locked and Frozen Cells - Freeze</a></span></li><li><span><a href=\"#Equation-Numbering\" data-toc-modified-id=\"Equation-Numbering-3.6\"><span class=\"toc-item-num\">3.6&nbsp;&nbsp;</span>Equation Numbering</a></span></li><li><span><a href=\"#Table-Beautifier\" data-toc-modified-id=\"Table-Beautifier-3.7\"><span class=\"toc-item-num\">3.7&nbsp;&nbsp;</span>Table Beautifier</a></span></li><li><span><a href=\"#Highlighter\" data-toc-modified-id=\"Highlighter-3.8\"><span class=\"toc-item-num\">3.8&nbsp;&nbsp;</span>Highlighter</a></span></li><li><span><a href=\"#Python-Markdown\" data-toc-modified-id=\"Python-Markdown-3.9\"><span class=\"toc-item-num\">3.9&nbsp;&nbsp;</span>Python Markdown</a></span></li><li><span><a href=\"#Hide-Code-Cell-Inputs\" data-toc-modified-id=\"Hide-Code-Cell-Inputs-3.10\"><span class=\"toc-item-num\">3.10&nbsp;&nbsp;</span>Hide Code Cell Inputs</a></span></li><li><span><a href=\"#Export-Embeded-HTML\" data-toc-modified-id=\"Export-Embeded-HTML-3.11\"><span class=\"toc-item-num\">3.11&nbsp;&nbsp;</span>Export Embeded HTML</a></span></li><li><span><a href=\"#Export-as-MS-Word\" data-toc-modified-id=\"Export-as-MS-Word-3.12\"><span class=\"toc-item-num\">3.12&nbsp;&nbsp;</span>Export as MS Word</a></span></li></ul></li><li><span><a href=\"#Summary\" data-toc-modified-id=\"Summary-4\"><span class=\"toc-item-num\">4&nbsp;&nbsp;</span>Summary</a></span></li></ul></div>"
   ]
  },
  {
   "cell_type": "markdown",
   "metadata": {},
   "source": [
    "# Using Jupyter Notebooks for Content Authoring\n",
    "\n",
    "This notebook demonstrates features of Jupyter notebooks and Jupyer notebook extensions that can be used to support simple content authoring and output document generation."
   ]
  },
  {
   "cell_type": "markdown",
   "metadata": {},
   "source": [
    "## Writing Markdown / HTML Content\n",
    "\n",
    "Add markdown cells using the *+* toolbar button and setting the cell type from the cell type menu.\n",
    "\n",
    "Double click on a markdown cell to edit it.\n",
    "\n",
    "Select one or more contiguous cells in order to move them up or down the document using the toolbar *up* and *down* arrows."
   ]
  },
  {
   "cell_type": "markdown",
   "metadata": {},
   "source": [
    "## Image Embedding\n",
    "\n",
    "Images can be displayed in markdown cells:\n",
    "\n",
    "![](images/ou_logo.png)"
   ]
  },
  {
   "cell_type": "markdown",
   "metadata": {},
   "source": [
    "## Video Embedding\n",
    "\n",
    "Whilst video assets can't be directly embedded in a markdown cell, they can be displayed in a notebook via a code cell."
   ]
  },
  {
   "cell_type": "code",
   "execution_count": 9,
   "metadata": {
    "hide_input": true
   },
   "outputs": [
    {
     "data": {
      "text/html": [
       "<iframe width=\"560\" height=\"315\" src=\"https://www.youtube.com/embed/ulyVXa-u4wE?rel=0&amp;controls=0&amp;showinfo=0\" frameborder=\"0\" allowfullscreen></iframe>"
      ],
      "text/plain": [
       "<IPython.core.display.HTML object>"
      ]
     },
     "execution_count": 9,
     "metadata": {},
     "output_type": "execute_result"
    }
   ],
   "source": [
    "from IPython.display import HTML\n",
    "\n",
    "# Youtube\n",
    "HTML('<iframe width=\"560\" height=\"315\" src=\"https://www.youtube.com/embed/ulyVXa-u4wE?rel=0&amp;controls=0&amp;showinfo=0\" frameborder=\"0\" allowfullscreen></iframe>')"
   ]
  },
  {
   "cell_type": "markdown",
   "metadata": {},
   "source": [
    "The display of this video is produced as the output cell, the input of which is hidden via the `hide_input` extension.\n",
    "\n",
    "(It would be nice if the cell output prompt could be hidden. I think this can be done in the exporter tempate?)"
   ]
  },
  {
   "cell_type": "markdown",
   "metadata": {},
   "source": [
    "## Equations\n",
    "\n",
    "Equations can be written in markdown cells using *MathJax* .\n",
    "\n",
    "\\begin{equation}\n",
    "E = F \\cdot s \n",
    "\\end{equation}"
   ]
  },
  {
   "cell_type": "markdown",
   "metadata": {},
   "source": [
    "# Output / Generated Documents\n",
    "\n",
    "A rendered notebook can be exported in a variety of ways from the *File* menu:\n",
    "\n",
    "- as an HTML document;\n",
    "- as LaTeX document;\n",
    "- as PDF document.\n",
    "\n",
    "Notebooks can also be rendered as slideshows.\n",
    "\n",
    "Custom export processors can be defined to customise the styling of the output document."
   ]
  },
  {
   "cell_type": "markdown",
   "metadata": {},
   "source": [
    "# Extensions\n",
    "\n",
    "A wide range of extensions are available that can be used to enhance the authoring environment.\n",
    "\n",
    "Extensions can be managed using the `Edit -> nbextensions config` menu, from the `Nbextensions` tab on the notebook homepage, or [directly](../nbextensions)."
   ]
  },
  {
   "cell_type": "markdown",
   "metadata": {},
   "source": [
    "<h2>Jupyter WYSIWYG</h2>\n",
    "\n",
    "<p>The <a href=\"https://github.com/genepattern/jupyter-wysiwyg\" target=\"_blank\"><code>jupyter-wysiwyg</code></a> extension provides an interactive HTML editor for notebook markdown cells.</p>\n",
    "\n",
    "<p>Select a markdown cell, enter the edit mode by double-clicking on the cell, and then click in the cell to reveal a <code>Rich Text Editing</code> option that will allow the cell contents to be editing in a rich text editor. Run the cell to return to the display view.</p>\n",
    "\n",
    "<p>Note that once a cell has been edited using the editor, any content contained within it that was originally written using <code>markdown</code> will be converted to HTML.</p>\n",
    "\n",
    "<p>The extension uses the [`ckeditor4`](https://ckeditor.com/), which supports a range of [add-ons](https://ckeditor.com/cke4/addons/plugins/all) which could presumably be added to the extension configuration?</p>\n"
   ]
  },
  {
   "cell_type": "markdown",
   "metadata": {},
   "source": [
    "## Spellchecker\n",
    "\n",
    "The [`spellchecker` extension](../nbextensions?nbextension=spellchecker/main) will check spellings of words in markdown cells in edit mode and highlight incorrectly spelled words. The spell checker can be toggled on an off using the spellchecker toolbar button.\n",
    "\n",
    "The `spellchecker` extension *does not* pick up errors in text written using the `jupyter-wysiwyg` rich text editor."
   ]
  },
  {
   "cell_type": "markdown",
   "metadata": {
    "heading_collapsed": true
   },
   "source": [
    "## `Collapsible Headings`\n",
    "\n",
    "The `collapsible_headings` extension allows you to fold content in sections marked out using headers where the header is the first line in a markdown cell.\n",
    "\n",
    "Child blocks - marked using lower level headings - will also be hidden."
   ]
  },
  {
   "cell_type": "markdown",
   "metadata": {
    "hidden": true
   },
   "source": [
    "### Folded Heading\n",
    "\n",
    "This contents of \"child cells\" in this section can be hidden beneath a folded header."
   ]
  },
  {
   "cell_type": "markdown",
   "metadata": {
    "hidden": true
   },
   "source": [
    "Child content cells are also hidden."
   ]
  },
  {
   "cell_type": "markdown",
   "metadata": {
    "hidden": true
   },
   "source": [
    "#### Child blocks..."
   ]
  },
  {
   "cell_type": "markdown",
   "metadata": {
    "hidden": true
   },
   "source": [
    "...like this one..."
   ]
  },
  {
   "cell_type": "markdown",
   "metadata": {
    "hidden": true
   },
   "source": [
    "#### ...Can also be Collapsed..."
   ]
  },
  {
   "cell_type": "markdown",
   "metadata": {
    "hidden": true
   },
   "source": [
    "...to hide further child content cells..."
   ]
  },
  {
   "cell_type": "markdown",
   "metadata": {},
   "source": [
    "## Table of Contents(2)\n",
    "\n",
    "The `toc2` extension allows you to collect all running headers and display them in a floating window, either as a sidebar displayed by clicking on the *Table of Contents* toolbar button, or via the *Navigation* menu.\n",
    "\n",
    "A table of contents can also be automatically added into a dynamically created cell at the top of the notebook.\n",
    "\n",
    "Section numbering can be added automatically, or disabled."
   ]
  },
  {
   "cell_type": "markdown",
   "metadata": {},
   "source": [
    "## Locked and Frozen Cells - Freeze\n",
    "Cells can be locked (that is, read-only and frozen using the `freeze` extension. Select a cell and click on the appropriate toolbar button to select the desired action (unlock, read-only, freeze).\n",
    "\n",
    "- *read-only*: Its input can be viewed by double-clicking on it, but cannot be changed.\n",
    "- *frozen*: Input cannot be viewed by double-clicking."
   ]
  },
  {
   "cell_type": "markdown",
   "metadata": {
    "deletable": false,
    "editable": false
   },
   "source": [
    "In a *read-only* markdown cell, the input can be viewed by double-clicking on it, but content cannot be edited and the cell cannot be deleted.\n",
    "\n",
    "The read-only nature of the cell is revealed by colour-highlighting when you double-click on the cell to try to edit it."
   ]
  },
  {
   "cell_type": "markdown",
   "metadata": {
    "deletable": false,
    "editable": false,
    "run_control": {
     "frozen": true
    }
   },
   "source": [
    "In a *frozen* markdown cell, the cell cannot be deleted and the content can neither be edited nor viewed in edit mode."
   ]
  },
  {
   "cell_type": "markdown",
   "metadata": {},
   "source": [
    "## Equation Numbering\n",
    "\n",
    "The `equation_numbering` extension will automatically number equations.\n",
    "\n",
    "\\begin{align}\n",
    "\\dot{x} & = \\sigma(y-x) \\\\\n",
    "\\dot{y} & = \\rho x - y - xz \\\\\n",
    "\\dot{z} & = -\\beta z + xy\n",
    "\\end{align}\n",
    "\n",
    "A toolbar button allows equation numbering to be reflowed if an equation is added, moved or removed without the need to save and reload the notebook."
   ]
  },
  {
   "cell_type": "markdown",
   "metadata": {},
   "source": [
    "## Table Beautifier\n",
    "\n",
    "The `table_beautifier` extension adds additional styling to HTML / markdown tables in markdown cells and makes them column sortable.\n",
    "\n",
    "|  H1 | H2  | H3  |\n",
    "|---|---|---|\n",
    "|  Content 1 | 1  | A  |\n",
    "| Content 2 | 2  | B  |"
   ]
  },
  {
   "cell_type": "markdown",
   "metadata": {},
   "source": [
    "## Highlighter\n",
    "\n",
    "The `highlighter` extensions allows you to <span class=\"mark\">highlight selected content</span> within a markdown cell using a <span class=\"girk\">range of coloured highlight pens</span> selected from the toolbar."
   ]
  },
  {
   "cell_type": "markdown",
   "metadata": {},
   "source": [
    "## Python Markdown\n",
    "\n",
    "The `python-markdown` extension allows python expressions to be evaluated within a markdown cell and will return any output value inline into the markdown text.\n",
    "\n",
    "For example, change the message in the following code cell and then run the following markdown cell:"
   ]
  },
  {
   "cell_type": "code",
   "execution_count": 3,
   "metadata": {},
   "outputs": [],
   "source": [
    "msg=\"Hello World\""
   ]
  },
  {
   "cell_type": "markdown",
   "metadata": {
    "variables": {
     "msg": "Hello World"
    }
   },
   "source": [
    "Your message was `{{msg}}`, I think?"
   ]
  },
  {
   "cell_type": "markdown",
   "metadata": {},
   "source": [
    "## Hide Code Cell Inputs\n",
    "\n",
    "The `hide_input` extension allows the display of individual code input cells to be hidden.\n",
    "\n",
    "The `hide_input_all` extension provides a tool bar button that allows you to hide all code input cells and just display rendered outputs."
   ]
  },
  {
   "cell_type": "code",
   "execution_count": 5,
   "metadata": {},
   "outputs": [
    {
     "name": "stdout",
     "output_type": "stream",
     "text": [
      "Hello there...\n"
     ]
    }
   ],
   "source": [
    "print(\"Hello there...\")"
   ]
  },
  {
   "cell_type": "markdown",
   "metadata": {},
   "source": [
    "## Export Embeded HTML\n",
    "\n",
    "The `export_embedded` extension will export the notebook to HTML with any relatively linked images embedded in the exported HTML document."
   ]
  },
  {
   "cell_type": "markdown",
   "metadata": {},
   "source": [
    "## Export as MS Word\n",
    "\n",
    "The `wordexport` extension allows a notebook to be exported as a Microsoft Word `.docx` document."
   ]
  },
  {
   "cell_type": "markdown",
   "metadata": {},
   "source": [
    "# Summary\n",
    "\n",
    "Notebooks provide a rich authoring environment for writing HTML based materials."
   ]
  }
 ],
 "metadata": {
  "hide_input": false,
  "kernelspec": {
   "display_name": "Python 3",
   "language": "python",
   "name": "python3"
  },
  "language_info": {
   "codemirror_mode": {
    "name": "ipython",
    "version": 3
   },
   "file_extension": ".py",
   "mimetype": "text/x-python",
   "name": "python",
   "nbconvert_exporter": "python",
   "pygments_lexer": "ipython3",
   "version": "3.5.3"
  },
  "toc": {
   "nav_menu": {
    "height": "160px",
    "width": "412px"
   },
   "number_sections": true,
   "sideBar": true,
   "skip_h1_title": false,
   "toc_cell": true,
   "toc_position": {},
   "toc_section_display": "block",
   "toc_window_display": false
  }
 },
 "nbformat": 4,
 "nbformat_minor": 2
}

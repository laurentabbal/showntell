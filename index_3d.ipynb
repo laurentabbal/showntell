{
 "cells": [
  {
   "cell_type": "markdown",
   "metadata": {},
   "source": [
    "# Generating 3D Graphics in Jupyter Notebooks\n",
    "\n",
    "There are several Python libraries for generating 3D models that can be rendered interactively within Jupyter notebooks.\n",
    "\n",
    "These can be used to display mechanical principles, for example.\n",
    "\n",
    "Interactive designs can also be created in Jupyter notebooks using `Processing`.\n",
    "\n",
    "Print quality static scientific/mathematical diagrams can also be generated and displayed in Jupyter notebooks (see the `showntell/maths` branch)."
   ]
  },
  {
   "cell_type": "markdown",
   "metadata": {},
   "source": [
    "## Python 3D Plotting Packages\n",
    "\n",
    "Brief examples from Python 3D plotting packages."
   ]
  },
  {
   "cell_type": "markdown",
   "metadata": {},
   "source": [
    "### `vpython`\n",
    "\n",
    "[docs](http://vpython.org/contents/docs/index.html), [demos](https://github.com/BruceSherwood/vpython-jupyter/tree/master/Demos)\n",
    "\n",
    "We could hide the following code input cell using the `Hide input` extension to just display the output model produced by running the cell."
   ]
  },
  {
   "cell_type": "code",
   "execution_count": null,
   "metadata": {},
   "outputs": [],
   "source": [
    "from vpython import *\n",
    "# Double pendulum\n",
    "\n",
    "# The analysis is in terms of Lagrangian mechanics.\n",
    "# The Lagrangian variables are angle of upper bar, angle of lower bar,\n",
    "# measured from the vertical.\n",
    "\n",
    "# Bruce Sherwood\n",
    "\n",
    "# Corrections to the Lagrangian calculations by Owen Long, UC. Riverside\n",
    "\n",
    "scene.width = scene.height = 600\n",
    "scene.range = 1.8\n",
    "scene.title = \"A double pendulum\"\n",
    "\n",
    "def display_instructions():\n",
    "    s = \"In VPython programs:\\n\"\n",
    "    s += \"    Rotate the camera by dragging with the right mouse button,\\n        or hold down the Ctrl key and drag.\\n\"\n",
    "    s += \"    To zoom, drag with the left+right mouse buttons,\\n         or hold down the Alt/Option key and drag,\\n         or use the mouse wheel.\\n\"\n",
    "    s += \"Touch screen: pinch/extend to zoom, swipe or two-finger rotate.\"\n",
    "    scene.caption = s\n",
    "\n",
    "# Display text below the 3D graphics:\n",
    "display_instructions()\n",
    "\n",
    "g = 9.8\n",
    "M1 = 2.0\n",
    "M2 = 1.0\n",
    "d = 0.05 # thickness of each bar\n",
    "gap = 2*d # distance between two parts of upper, U-shaped assembly\n",
    "L1 = 0.5 # physical length of upper assembly; distance between axles\n",
    "L1display = L1+d # show upper assembly a bit longer than physical, to overlap axle\n",
    "L2 = 1 # physical length of lower bar\n",
    "L2display = L2+d/2 # show lower bar a bit longer than physical, to overlap axle\n",
    "# Coefficients used in Lagrangian calculation\n",
    "A = (1/4)*M1*L1**2+(1/12)*M1*L1**2+M2*L1**2\n",
    "B = (1/2)*M2*L1*L2\n",
    "C = g*L1*(M1/2+M2)\n",
    "D = M2*L1*L2/2\n",
    "E = (1/12)*M2*L2**2+(1/4)*M2*L2**2\n",
    "F = g*L2*M2/2\n",
    "\n",
    "hpedestal = 1.3*(L1+L2) # height of pedestal\n",
    "wpedestal = 0.1 # width of pedestal\n",
    "tbase = 0.05 # thickness of base\n",
    "wbase = 8*gap # width of base\n",
    "offset = 2*gap # from center of pedestal to center of U-shaped upper assembly\n",
    "pedestal_top = vec(0,hpedestal/2,0) # top of inner bar of U-shaped upper assembly\n",
    "\n",
    "theta1 = 1.3*pi/2 # initial upper angle (from vertical)\n",
    "theta1dot = 0 # initial rate of change of theta1\n",
    "theta2 = 0 # initial lower angle (from vertical)\n",
    "theta2dot = 0 # initial rate of change of theta2\n",
    "\n",
    "pedestal = box( pos=pedestal_top-vec(0,hpedestal/2,offset),\n",
    "                size=vec(wpedestal,1.1*hpedestal,wpedestal),\n",
    "                color=vec(0.4,0.4,0.5) )\n",
    "base = box( pos=pedestal_top-vec(0,hpedestal+tbase/2,offset),\n",
    "                 size=vec(wbase,tbase,wbase),\n",
    "                 color=pedestal.color )\n",
    "axle1 = cylinder( pos=pedestal_top-vec(0,0,gap/2-d/4), axis=vec(0,0,-1),\n",
    "                 size=vec(offset,d/4,d/4), color=color.yellow )\n",
    "\n",
    "bar1 = box( pos=pedestal_top+vec(L1display/2-d/2,0,-(gap+d)/2), \n",
    "                 size=vec(L1display,d,d), color=color.red )\n",
    "bar1.rotate( angle=-pi/2, axis=vec(0,0,1), origin=vec(axle1.pos.x, axle1.pos.y, bar1.pos.z) )\n",
    "bar1.rotate( angle=theta1, axis=vec(0,0,1), origin=vec(axle1.pos.x, axle1.pos.y, bar1.pos.z) )\n",
    "\n",
    "bar1b = box( pos=pedestal_top+vec(L1display/2-d/2,0,(gap+d)/2), \n",
    "                 size=vec(L1display,d,d), color=bar1.color )\n",
    "bar1b.rotate( angle=-pi/2, axis=vec(0,0,1), origin=vec(axle1.pos.x, axle1.pos.y, bar1b.pos.z) )\n",
    "bar1b.rotate( angle=theta1, axis=vec(0,0,1), origin=vec(axle1.pos.x, axle1.pos.y, bar1b.pos.z) )\n",
    "\n",
    "pivot1 = vec(axle1.pos.x, axle1.pos.y, 0)\n",
    "\n",
    "axle2 = cylinder( pos=pedestal_top+vec(L1,0,-(gap+d)/2), axis=vec(0,0,1), \n",
    "                size=vec(gap+d,axle1.size.y/2,axle1.size.y/2), color=axle1.color )\n",
    "axle2.rotate( angle=-pi/2, axis=vec(0,0,1), origin=vec(axle1.pos.x, axle1.pos.y, axle2.pos.z) )\n",
    "axle2.rotate( angle=theta1, axis=vec(0,0,1), origin=vec(axle1.pos.x, axle1.pos.y, axle2.pos.z) )\n",
    "\n",
    "bar2 = box( pos=axle2.pos+vec(L2display/2-d/2,0,(gap+d)/2), \n",
    "        size=vec(L2display,d,d), color=color.green )\n",
    "\n",
    "bar2.rotate( angle=-pi/2,  axis=vec(0,0,1), origin=vec(axle2.pos.x, axle2.pos.y, bar2.pos.z) )\n",
    "bar2.rotate( angle=theta2,  axis=vec(0,0,1), origin=vec(axle2.pos.x, axle2.pos.y, bar2.pos.z) )\n",
    "\n",
    "dt = 0.001\n",
    "t = 0\n",
    "\n",
    "while True:\n",
    "    rate(1/dt) \n",
    "    # Calculate accelerations of the Lagrangian coordinates=\n",
    "    atheta1 = ((E*C/B)*sin(theta1)-F*sin(theta2))/(D-E*A/B)\n",
    "    atheta2 = -(A*atheta1+C*sin(theta1))/B\n",
    "    # Update velocities of the Lagrangian coordinates=\n",
    "    theta1dot = theta1dot+atheta1*dt\n",
    "    theta2dot = theta2dot+atheta2*dt\n",
    "    # Update Lagrangian coordinates=\n",
    "    dtheta1 = theta1dot*dt\n",
    "    dtheta2 = theta2dot*dt\n",
    "    theta1 = theta1+dtheta1\n",
    "    theta2 = theta2+dtheta2\n",
    "    \n",
    "    bar1.rotate( angle=dtheta1, axis=vec(0,0,1), origin=pivot1 )\n",
    "    bar1b.rotate( angle=dtheta1, axis=vec(0,0,1), origin=pivot1 )\n",
    "    pivot2 = vec(axle2.pos.x, axle2.pos.y, pivot1.z)\n",
    "    axle2.rotate( angle=dtheta1, axis=vec(0,0,1), origin=pivot1 )\n",
    "    bar2.rotate( angle=dtheta2, axis=vec(0,0,1), origin=pivot2 )\n",
    "    pivot2 = vec(axle2.pos.x, axle2.pos.y, pivot1.z)\n",
    "    bar2.pos = pivot2 + bar2.axis/2\n",
    "    \n",
    "    t = t+dt"
   ]
  },
  {
   "cell_type": "markdown",
   "metadata": {},
   "source": [
    "### `pythreejs`\n",
    "\n",
    "\n",
    "We could hide the following code cells using the `Hide Cell`  extension (cell the relevant cell and then *toggle input cell display* from the notebook toolbar) to just display the output from running the cells.\n",
    "\n",
    "Examples from [here]( https://github.com/mwcraig/scipy2017-jupyter-widgets-tutorial/blob/master/notebooks/10-B-pythreejs.ipynb)."
   ]
  },
  {
   "cell_type": "code",
   "execution_count": 3,
   "metadata": {},
   "outputs": [
    {
     "data": {
      "application/vnd.jupyter.widget-view+json": {
       "model_id": "05c40e4c14df40e097513fd6e31ce660",
       "version_major": 2,
       "version_minor": 0
      },
      "text/plain": [
       "A Jupyter Widget"
      ]
     },
     "metadata": {},
     "output_type": "display_data"
    }
   ],
   "source": [
    "#via https://github.com/mwcraig/scipy2017-jupyter-widgets-tutorial/blob/master/notebooks/10-B-pythreejs.ipynb\n",
    "from pythreejs import *\n",
    "f = \"\"\"\n",
    "function f(origu,origv) {\n",
    "    // scale u and v to the ranges I want: [0, 2*pi]\n",
    "    var u = 2 * Math.PI * origu;\n",
    "    var v = 2 * Math.PI * origv;\n",
    "    \n",
    "    var x = Math.sin(u);\n",
    "    var y = Math.cos(v);\n",
    "    var z = Math.cos(u + v);\n",
    "    \n",
    "    return new THREE.Vector3(x, y, z)\n",
    "}\n",
    "\"\"\"\n",
    "surf_g = ParametricGeometry(func=f);\n",
    "\n",
    "surf = Mesh(geometry=surf_g, material=LambertMaterial(color='green', side='FrontSide'))\n",
    "surf2 = Mesh(geometry=surf_g, material=LambertMaterial(color='yellow', side='BackSide'))\n",
    "scene = Scene(children=[surf, surf2, AmbientLight(color='#777777')])\n",
    "c = PerspectiveCamera(position=[5, 5, 3], up=[0, 0, 1],\n",
    "                      children=[DirectionalLight(color='white',\n",
    "                                                 position=[3, 5, 1],\n",
    "                                                 intensity=0.6)])\n",
    "renderer = Renderer(camera=c, scene=scene, controls=[OrbitControls(controlling=c)])\n",
    "display(renderer)"
   ]
  },
  {
   "cell_type": "code",
   "execution_count": null,
   "metadata": {},
   "outputs": [],
   "source": [
    "from ipywidgets import FloatSlider, HBox, VBox\n",
    "\n",
    "x_slider, y_slider, z_slider = (FloatSlider(description='x', min=-10.0, max=10.0, orientation='vertical'),\n",
    "                                FloatSlider(description='y', min=-10.0, max=10.0, orientation='vertical'),\n",
    "                                FloatSlider(description='z', min=-10.0, max=10.0, orientation='vertical'))\n",
    "\n",
    "shape_slider_x = FloatSlider(description='Shape x', min=0, max=1.5, step=0.01, continuous_update=False)\n",
    "shape_slider_y = FloatSlider(description='Shape y', min=0, max=1.5, step=0.01, continuous_update=False)\n",
    "shape_slider_z = FloatSlider(description='Shape z', min=0, max=1.5, step=0.01, continuous_update=False)"
   ]
  },
  {
   "cell_type": "code",
   "execution_count": null,
   "metadata": {},
   "outputs": [],
   "source": [
    "def update(change):\n",
    "    c.position = [x_slider.value, y_slider.value, z_slider.value]\n",
    "    \n",
    "x_slider.observe(update, names=['value'])\n",
    "y_slider.observe(update, names=['value'])\n",
    "z_slider.observe(update, names=['value'])"
   ]
  },
  {
   "cell_type": "code",
   "execution_count": null,
   "metadata": {},
   "outputs": [],
   "source": [
    "def update_shape(change):\n",
    "    surf_g.func = \"\"\"\n",
    "    function f(origu, origv) {\n",
    "        // scale u and v to the ranges I want: [0, 2*pi]\n",
    "        var u = 2 * Math.PI * origu;\n",
    "        var v = 2 * Math.PI * origv;\n",
    "\n",
    "        var x = (1 + 0.5 * %s * Math.sin(u)) * Math.sin(u);\n",
    "        var y = (1 + 0.5 * %s * Math.sin(u)) * Math.cos(v);\n",
    "        var z = (1 + 0.5 * %s * Math.sin(u)) * Math.cos(u+v);\n",
    "\n",
    "        return new THREE.Vector3(x,y,z)\n",
    "    }\n",
    "    \"\"\" % (shape_slider_x.value, shape_slider_y.value, shape_slider_z.value)\n",
    "    \n",
    "shape_slider_x.observe(update_shape, names=['value'])\n",
    "shape_slider_y.observe(update_shape, names=['value'])\n",
    "shape_slider_z.observe(update_shape, names=['value'])"
   ]
  },
  {
   "cell_type": "markdown",
   "metadata": {},
   "source": [
    "### `ipyvolume`\n",
    "\n",
    "[docs](https://ipyvolume.readthedocs.io/en/latest/)\n",
    "\n",
    "??not working atm?"
   ]
  },
  {
   "cell_type": "code",
   "execution_count": null,
   "metadata": {},
   "outputs": [],
   "source": [
    "import ipyvolume as ipv\n",
    "x, y, z, u, v = ipv.examples.klein_bottle(draw=False)\n",
    "ipv.figure()\n",
    "m = ipv.plot_mesh(x, y, z, wireframe=False)\n",
    "ipv.squarelim()\n",
    "ipv.show()"
   ]
  }
 ],
 "metadata": {
  "kernelspec": {
   "display_name": "Python 3",
   "language": "python",
   "name": "python3"
  },
  "language_info": {
   "codemirror_mode": {
    "name": "ipython",
    "version": 3
   },
   "file_extension": ".py",
   "mimetype": "text/x-python",
   "name": "python",
   "nbconvert_exporter": "python",
   "pygments_lexer": "ipython3",
   "version": "3.6.1"
  }
 },
 "nbformat": 4,
 "nbformat_minor": 2
}

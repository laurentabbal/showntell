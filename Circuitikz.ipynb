{
 "cells": [
  {
   "cell_type": "markdown",
   "metadata": {},
   "source": [
    "# `circuitikz`\n",
    "\n",
    "Generate electrical circuit diagrams using `circuitikz`."
   ]
  },
  {
   "cell_type": "code",
   "execution_count": null,
   "metadata": {},
   "outputs": [],
   "source": [
    "%load_ext tikz_magic"
   ]
  },
  {
   "cell_type": "code",
   "execution_count": null,
   "metadata": {},
   "outputs": [],
   "source": [
    "%%tikz -p circuitikz --no-wrap\n",
    "%Example circtui from: https://tex.stackexchange.com/a/379915\n",
    "\n",
    "\\begin{circuitikz}[every pin/.append style={align=left, text=blue}]\n",
    "  \\draw\n",
    "  (0, 0) node[op amp] (opamp) {}\n",
    "  (opamp.-) to[short,-o] (-2, 0.5)\n",
    "  (opamp.-) to[short,*-] ++(0,1.5) coordinate (leftC)\n",
    "            to[C]           (leftC -| opamp.out)\n",
    "            to[short,-*]    (opamp.out)\n",
    "            to[short,-o] ++ (0.5,0)\n",
    "  (leftC)   to[short,*-] ++ (0,1)  coordinate (leftR) \n",
    "            to[R]           (leftR -| opamp.out)\n",
    "            to[short,-*]    (leftC -| opamp.out)\n",
    "   (opamp.+) -- ++ (0,-0.5) node[ground] {};\n",
    "\\end{circuitikz};"
   ]
  },
  {
   "cell_type": "code",
   "execution_count": null,
   "metadata": {
    "collapsed": true
   },
   "outputs": [],
   "source": []
  }
 ],
 "metadata": {
  "hide_input": false,
  "kernelspec": {
   "display_name": "Python 3",
   "language": "python",
   "name": "python3"
  },
  "language_info": {
   "codemirror_mode": {
    "name": "ipython",
    "version": 3
   },
   "file_extension": ".py",
   "mimetype": "text/x-python",
   "name": "python",
   "nbconvert_exporter": "python",
   "pygments_lexer": "ipython3",
   "version": "3.5.3"
  }
 },
 "nbformat": 4,
 "nbformat_minor": 2
}

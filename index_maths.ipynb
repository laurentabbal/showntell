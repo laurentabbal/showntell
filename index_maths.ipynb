{
 "cells": [
  {
   "cell_type": "code",
   "execution_count": null,
   "metadata": {},
   "outputs": [],
   "source": [
    "%matplotlib inline\n",
    "import matplotlib.pyplot as plt\n",
    "import numpy as np"
   ]
  },
  {
   "cell_type": "code",
   "execution_count": null,
   "metadata": {},
   "outputs": [],
   "source": [
    "#Define a variable\n",
    "frequency=1\n",
    "\n",
    "#Define a list of numbers\n",
    "# in the range 0..1 with step size 0.2\n",
    "timestamps=np.arange(0.0,1.0,0.02)\n",
    "\n",
    "timestamps"
   ]
  },
  {
   "cell_type": "code",
   "execution_count": null,
   "metadata": {},
   "outputs": [],
   "source": [
    "plt.plot(timestamps,np.sin(2*np.pi*timestamps*frequency));"
   ]
  },
  {
   "cell_type": "code",
   "execution_count": null,
   "metadata": {},
   "outputs": [],
   "source": [
    "from ipywidgets import interact\n",
    "\n",
    "def pltsin(f):\n",
    "    plt.plot(timestamps,np.sin(2*np.pi*timestamps*f))"
   ]
  },
  {
   "cell_type": "code",
   "execution_count": null,
   "metadata": {},
   "outputs": [],
   "source": [
    "interact(pltsin,f=(0,10,1));"
   ]
  },
  {
   "cell_type": "code",
   "execution_count": null,
   "metadata": {},
   "outputs": [],
   "source": [
    "drawingspec = '''\n",
    "import math; import graph; import geometry;\n",
    "size(12cm); xaxis(\"$x$\"); yaxis(\"$y$\");\n",
    "real theta1={theta1}; real theta2={theta2};\n",
    "real L1=0.45; real L2=0.48;\n",
    "pair l1p = (L1*sin(theta1), L1*cos(theta1));\n",
    "pair l2p = l1p + (L2*sin(theta1+theta2), L2*cos(theta1+theta2));\n",
    "draw((0,0)--l1p--l2p); draw(l1p--l1p*1.5, dashed); dot(l2p); draw((0,0)--l2p, dashed); \n",
    "label(\"$J1(0,0)$\", (0,0), NW); label(\"$J2(u,v)$\", l1p, NW); label(\"$H(x,y)$\", l2p, NE);\n",
    "draw(\"$L1$\",(0,0)-0.02*I*l1p--l1p-0.02*I*l1p, red, Arrows, Bars, PenMargins);\n",
    "draw(\"$L2$\", l1p-0.02*I*l2p--l2p-0.02*I*l2p, red, Arrows, Bars, PenMargins);\n",
    "draw(\"$\\\\theta_1$\", arc((0,1),(0,0),l1p,0.1), blue, PenMargins);\n",
    "draw(\"$\\\\theta_2$\", arc(l1p,0.1,degrees(l1p),degrees(l2p-l1p),CW), blue, PenMargins);\n",
    "draw(\"$\\\\alpha$\", arc((1,0),(0,0),l2p,0.2), blue, PenMargins);\n",
    "'''"
   ]
  },
  {
   "cell_type": "code",
   "execution_count": null,
   "metadata": {},
   "outputs": [],
   "source": [
    "import subprocess # to run asymptote\n",
    "import shlex"
   ]
  },
  {
   "cell_type": "code",
   "execution_count": null,
   "metadata": {},
   "outputs": [],
   "source": [
    "f=open('/tmp/pa10-firstjoint.asy', 'w')\n",
    "\n",
    "theta1='-pi/2'  ;   theta2='pi/3'\n",
    "\n",
    "f.write(drawingspec.format(theta1=theta1,theta2=theta2)); f.close()\n",
    "subprocess.call(shlex.split('asy /tmp/pa10-firstjoint.asy -f png -o pa10-firstjoint.png'))\n",
    "Image('pa10-firstjoint.png')"
   ]
  },
  {
   "cell_type": "code",
   "execution_count": null,
   "metadata": {},
   "outputs": [],
   "source": [
    "#Import sympy packages\n",
    "import math\n",
    "from sympy import *\n",
    "from sympy import init_printing\n",
    "init_printing()\n",
    "\n",
    "b,c,B,C=symbols(['b','c','B','C'])"
   ]
  },
  {
   "cell_type": "code",
   "execution_count": null,
   "metadata": {},
   "outputs": [],
   "source": [
    "#A simple example of the sine rule\n",
    "exp=Eq(b/sin(B),c/sin(C))\n",
    "exp"
   ]
  },
  {
   "cell_type": "code",
   "execution_count": null,
   "metadata": {},
   "outputs": [],
   "source": [
    "#We can solve for b:\n",
    "distance_b = solve(exp)[0][b]\n",
    "Eq(b, distance_b)"
   ]
  },
  {
   "cell_type": "code",
   "execution_count": null,
   "metadata": {},
   "outputs": [],
   "source": [
    "#Then we can substitute in values\n",
    "Eq(Eq(b,distance_b), distance_b.subs({c:27404,B:math.radians(45),C:math.radians(60)}))"
   ]
  }
 ],
 "metadata": {
  "kernelspec": {
   "display_name": "Python 3",
   "language": "python",
   "name": "python3"
  },
  "language_info": {
   "codemirror_mode": {
    "name": "ipython",
    "version": 3
   },
   "file_extension": ".py",
   "mimetype": "text/x-python",
   "name": "python",
   "nbconvert_exporter": "python",
   "pygments_lexer": "ipython3",
   "version": "3.6.1"
  }
 },
 "nbformat": 4,
 "nbformat_minor": 2
}

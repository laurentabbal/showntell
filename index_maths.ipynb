{
 "cells": [
  {
   "cell_type": "markdown",
   "metadata": {},
   "source": [
    "# Jupyter Notebooks - Maths Demos\n",
    "\n",
    "This configuration is preconfigured with several packages to support maths related demos.\n",
    "\n",
    "As well as typsetting mathematical equations, several packages exist that support the creation of print quality mathemetical diagrams."
   ]
  },
  {
   "cell_type": "markdown",
   "metadata": {},
   "source": [
    "## Rendering equations Using MathJax\n",
    "\n",
    "Equations can be rendered as a block using MathJax in a markdown cell.\n",
    "\n",
    "\\begin{align}\n",
    "\\sqrt{3x-1}+(1+x^2)\n",
    "\\end{align}\n",
    "\n",
    "See this [Typesetting Equations](https://nbviewer.jupyter.org/github/ipython/ipython/blob/4.0.x/examples/Notebook/Typesetting%20Equations.ipynb) demonstration notebook for further examples."
   ]
  },
  {
   "cell_type": "markdown",
   "metadata": {},
   "source": [
    "MathJax content can also be rendered inline. For example, we can include the expression  $\\sqrt{3x-1}+(1+x^2)$ embedded *within* a line of text."
   ]
  },
  {
   "cell_type": "markdown",
   "metadata": {},
   "source": [
    "## Equation Numbering\n",
    "\n",
    "Enabling the `equation_numbering` notebook extension will automatically number equations Mathjax.\n",
    "\n",
    "\\begin{align}\n",
    "\\dot{x} & = \\sigma(y-x) \\\\\n",
    "\\dot{y} & = \\rho x - y - xz \\\\\n",
    "\\dot{z} & = -\\beta z + xy\n",
    "\\end{align}\n",
    "\n",
    "A toolbar button allows equation numbering to be reflowed if an equation is added, moved or removed without the need to save and reload the notebook."
   ]
  },
  {
   "cell_type": "markdown",
   "metadata": {},
   "source": [
    "## Simple Plotting"
   ]
  },
  {
   "cell_type": "code",
   "execution_count": null,
   "metadata": {},
   "outputs": [],
   "source": [
    "%matplotlib inline\n",
    "import matplotlib.pyplot as plt\n",
    "import numpy as np\n",
    "from IPython.display import Image"
   ]
  },
  {
   "cell_type": "code",
   "execution_count": null,
   "metadata": {},
   "outputs": [],
   "source": [
    "#Define a variable\n",
    "frequency=1\n",
    "\n",
    "#Define a list of numbers\n",
    "# in the range 0..1 with step size 0.2\n",
    "timestamps=np.arange(0.0,1.0,0.02)\n",
    "\n",
    "timestamps"
   ]
  },
  {
   "cell_type": "code",
   "execution_count": null,
   "metadata": {},
   "outputs": [],
   "source": [
    "plt.plot(timestamps,np.sin(2*np.pi*timestamps*frequency));"
   ]
  },
  {
   "cell_type": "markdown",
   "metadata": {},
   "source": [
    "### Add Interactive Widgets"
   ]
  },
  {
   "cell_type": "code",
   "execution_count": null,
   "metadata": {},
   "outputs": [],
   "source": [
    "from ipywidgets import interact\n",
    "\n",
    "def pltsin(f):\n",
    "    plt.plot(timestamps,np.sin(2*np.pi*timestamps*f))"
   ]
  },
  {
   "cell_type": "code",
   "execution_count": null,
   "metadata": {},
   "outputs": [],
   "source": [
    "interact(pltsin,f=(0,10,1));"
   ]
  },
  {
   "cell_type": "markdown",
   "metadata": {},
   "source": [
    "## Drawing Mathematical Diagrams\n",
    "\n",
    "Several packages exist that support the creation of print quality mathematically accurate scientific diagrams including:\n",
    "\n",
    "- `asymptote`\n",
    "- `TikZ`"
   ]
  },
  {
   "cell_type": "markdown",
   "metadata": {},
   "source": [
    "### `asymptote`\n",
    "\n",
    "The `asympote` Linux package"
   ]
  },
  {
   "cell_type": "code",
   "execution_count": null,
   "metadata": {},
   "outputs": [],
   "source": [
    "drawingspec = '''\n",
    "import math; import graph; import geometry;\n",
    "size(12cm); xaxis(\"$x$\"); yaxis(\"$y$\");\n",
    "real theta1={theta1}; real theta2={theta2};\n",
    "real L1=0.45; real L2=0.48;\n",
    "pair l1p = (L1*sin(theta1), L1*cos(theta1));\n",
    "pair l2p = l1p + (L2*sin(theta1+theta2), L2*cos(theta1+theta2));\n",
    "draw((0,0)--l1p--l2p); draw(l1p--l1p*1.5, dashed); dot(l2p); draw((0,0)--l2p, dashed); \n",
    "label(\"$J1(0,0)$\", (0,0), NW); label(\"$J2(u,v)$\", l1p, NW); label(\"$H(x,y)$\", l2p, NE);\n",
    "draw(\"$L1$\",(0,0)-0.02*I*l1p--l1p-0.02*I*l1p, red, Arrows, Bars, PenMargins);\n",
    "draw(\"$L2$\", l1p-0.02*I*l2p--l2p-0.02*I*l2p, red, Arrows, Bars, PenMargins);\n",
    "draw(\"$\\\\theta_1$\", arc((0,1),(0,0),l1p,0.1), blue, PenMargins);\n",
    "draw(\"$\\\\theta_2$\", arc(l1p,0.1,degrees(l1p),degrees(l2p-l1p),CW), blue, PenMargins);\n",
    "draw(\"$\\\\alpha$\", arc((1,0),(0,0),l2p,0.2), blue, PenMargins);\n",
    "'''"
   ]
  },
  {
   "cell_type": "code",
   "execution_count": null,
   "metadata": {},
   "outputs": [],
   "source": [
    "import subprocess # to run asymptote\n",
    "import shlex"
   ]
  },
  {
   "cell_type": "code",
   "execution_count": null,
   "metadata": {},
   "outputs": [],
   "source": [
    "f=open('/tmp/pa10-firstjoint.asy', 'w')\n",
    "\n",
    "theta1='-pi/2'  ;   theta2='pi/3'\n",
    "\n",
    "f.write(drawingspec.format(theta1=theta1,theta2=theta2)); f.close()\n",
    "subprocess.call(shlex.split('asy /tmp/pa10-firstjoint.asy -f png -o pa10-firstjoint.png'))\n",
    "Image('pa10-firstjoint.png')"
   ]
  },
  {
   "cell_type": "markdown",
   "metadata": {},
   "source": [
    "### `TikZ`\n",
    "\n",
    "The `TikZ` ?? package ... ([about](https://www.tug.org/TUGboat/tb29-1/tb91walczak.pdf))  front-end layer for the [PGFPlots](http://pgfplots.sourceforge.net/) LaTeX chart plotting package ([gallery](http://pgfplots.sourceforge.net/gallery.html))."
   ]
  },
  {
   "cell_type": "code",
   "execution_count": 1,
   "metadata": {},
   "outputs": [
    {
     "name": "stdout",
     "output_type": "stream",
     "text": [
      "Collecting tikzmagic\n",
      "\u001b[31m  Could not find a version that satisfies the requirement tikzmagic (from versions: )\u001b[0m\n",
      "\u001b[31mNo matching distribution found for tikzmagic\u001b[0m\n"
     ]
    }
   ],
   "source": [
    "#!pip3 install git+git://github.com/robjstan/tikzmagic.git"
   ]
  },
  {
   "cell_type": "markdown",
   "metadata": {},
   "source": [
    "Magic - https://github.com/robjstan/tikzmagic"
   ]
  },
  {
   "cell_type": "markdown",
   "metadata": {},
   "source": [
    "## Symbolic Maths\n",
    "\n",
    "Supprt for *symbolic maths* means ...\n",
    "\n",
    "Support for symbolic mathematics is available via the Python `sympy` package.\n",
    "\n",
    "??Jupyter notebooks can also work directly with Mathematica kernel; is there also the free equivalent kernel?"
   ]
  },
  {
   "cell_type": "code",
   "execution_count": null,
   "metadata": {},
   "outputs": [],
   "source": [
    "#Import sympy packages\n",
    "import math\n",
    "from sympy import *\n",
    "from sympy import init_printing\n",
    "init_printing()\n",
    "\n",
    "b,c,B,C=symbols(['b','c','B','C'])"
   ]
  },
  {
   "cell_type": "code",
   "execution_count": null,
   "metadata": {},
   "outputs": [],
   "source": [
    "#A simple example of the sine rule\n",
    "exp=Eq(b/sin(B),c/sin(C))\n",
    "exp"
   ]
  },
  {
   "cell_type": "code",
   "execution_count": null,
   "metadata": {},
   "outputs": [],
   "source": [
    "#We can solve for b:\n",
    "distance_b = solve(exp)[0][b]\n",
    "Eq(b, distance_b)"
   ]
  },
  {
   "cell_type": "code",
   "execution_count": null,
   "metadata": {},
   "outputs": [],
   "source": [
    "#Then we can substitute in values\n",
    "Eq(Eq(b,distance_b), distance_b.subs({c:27404,B:math.radians(45),C:math.radians(60)}))"
   ]
  }
 ],
 "metadata": {
  "kernelspec": {
   "display_name": "Python 3",
   "language": "python",
   "name": "python3"
  },
  "language_info": {
   "codemirror_mode": {
    "name": "ipython",
    "version": 3
   },
   "file_extension": ".py",
   "mimetype": "text/x-python",
   "name": "python",
   "nbconvert_exporter": "python",
   "pygments_lexer": "ipython3",
   "version": "3.6.1"
  }
 },
 "nbformat": 4,
 "nbformat_minor": 2
}

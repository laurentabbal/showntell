{
 "cells": [
  {
   "cell_type": "markdown",
   "metadata": {
    "slideshow": {
     "slide_type": "slide"
    }
   },
   "source": [
    "# Jupyter Notebooks - Maths Demos\n",
    "\n",
    "This configuration is preconfigured with several packages to support maths related demos.\n",
    "\n",
    "As well as typsetting mathematical equations, several packages exist that support the creation of print quality mathematical diagrams.\n",
    "\n",
    "This notebooks includes hidden code cells. To display a hidden code cell, select in and then click on the *Toggle selected cell input display* toolbar button, or toggle all the code cell inputs.\n",
    "\n",
    "To render all the generated content, from the *Cell* menu, select *Run All*.\n",
    "\n",
    "Some of the cells in this notebook have also been annotated with slideshow settings:\n",
    "\n",
    "- to run the the slideshow, click the *Enter/Exit RISE slideshow* button from the notebook toolbar;\n",
    "- exit the presentation viwe by clicking the *X* in the top left hand corner of the presentation view;\n",
    "- to see the slideshow cell settings, select *View > Cell Toolbar > Slideshow*.  Reset the notebook view with *View > Cell Toolbar > None*."
   ]
  },
  {
   "cell_type": "markdown",
   "metadata": {
    "slideshow": {
     "slide_type": "slide"
    }
   },
   "source": [
    "## Rendering equations Using MathJax\n",
    "\n",
    "Equations can be rendered as a block using MathJax in a markdown cell.\n",
    "\n",
    "\\begin{align}\n",
    "\\sqrt{3x-1}+(1+x^2)\n",
    "\\end{align}\n",
    "\n",
    "See this third party [Typesetting Equations](https://nbviewer.jupyter.org/github/ipython/ipython/blob/4.0.x/examples/Notebook/Typesetting%20Equations.ipynb) demonstration notebook for further examples."
   ]
  },
  {
   "cell_type": "markdown",
   "metadata": {
    "slideshow": {
     "slide_type": "slide"
    }
   },
   "source": [
    "MathJax content can also be rendered inline. For example, we can include the expression  $\\sqrt{3x-1}+(1+x^2)$ embedded *within* a line of text."
   ]
  },
  {
   "cell_type": "markdown",
   "metadata": {
    "slideshow": {
     "slide_type": "slide"
    }
   },
   "source": [
    "## Equation Numbering\n",
    "\n",
    "Enabling the `equation_numbering` notebook extension will automatically number equations Mathjax.\n",
    "\n",
    "\\begin{align}\n",
    "\\dot{x} & = \\sigma(y-x) \\\\\n",
    "\\dot{y} & = \\rho x - y - xz \\\\\n",
    "\\dot{z} & = -\\beta z + xy\n",
    "\\end{align}\n",
    "\n",
    "A toolbar button allows equation numbering to be reflowed if an equation is added, moved or removed without the need to save and reload the notebook."
   ]
  },
  {
   "cell_type": "markdown",
   "metadata": {
    "slideshow": {
     "slide_type": "slide"
    }
   },
   "source": [
    "## Simple Plotting"
   ]
  },
  {
   "cell_type": "code",
   "execution_count": 1,
   "metadata": {
    "hide_input": true,
    "slideshow": {
     "slide_type": "fragment"
    }
   },
   "outputs": [],
   "source": [
    "#Import some required packages\n",
    "%matplotlib inline\n",
    "import matplotlib.pyplot as plt\n",
    "import numpy as np\n",
    "from IPython.display import Image"
   ]
  },
  {
   "cell_type": "code",
   "execution_count": 2,
   "metadata": {
    "hide_input": false,
    "slideshow": {
     "slide_type": "slide"
    }
   },
   "outputs": [
    {
     "data": {
      "text/plain": [
       "array([ 0.  ,  0.02,  0.04,  0.06,  0.08,  0.1 ,  0.12,  0.14,  0.16,\n",
       "        0.18,  0.2 ,  0.22,  0.24,  0.26,  0.28,  0.3 ,  0.32,  0.34,\n",
       "        0.36,  0.38,  0.4 ,  0.42,  0.44,  0.46,  0.48,  0.5 ,  0.52,\n",
       "        0.54,  0.56,  0.58,  0.6 ,  0.62,  0.64,  0.66,  0.68,  0.7 ,\n",
       "        0.72,  0.74,  0.76,  0.78,  0.8 ,  0.82,  0.84,  0.86,  0.88,\n",
       "        0.9 ,  0.92,  0.94,  0.96,  0.98])"
      ]
     },
     "execution_count": 2,
     "metadata": {},
     "output_type": "execute_result"
    }
   ],
   "source": [
    "#Define a variable\n",
    "frequency=1\n",
    "\n",
    "#Define a list of numbers\n",
    "# in the range 0..1 with step size 0.2\n",
    "timestamps=np.arange(0.0,1.0,0.02)\n",
    "\n",
    "timestamps"
   ]
  },
  {
   "cell_type": "markdown",
   "metadata": {
    "slideshow": {
     "slide_type": "slide"
    }
   },
   "source": [
    "As well as printing a chart, we can interrogate the chart object to start to produce a written description of it. \n",
    "\n",
    "A hidden code cell below contains the code for pulling out the textual description of the chart."
   ]
  },
  {
   "cell_type": "code",
   "execution_count": 3,
   "metadata": {
    "hide_input": true
   },
   "outputs": [],
   "source": [
    "import re\n",
    "\n",
    "#http://nbviewer.jupyter.org/gist/BenRussert/7fbd3f86baeda70f1d3f8bdf219b8627\n",
    "def get_plot_info(p):\n",
    "    \"\"\" in this example p are the Axes objects pd.DataFrame.plot() returns \"\"\"\n",
    "    txts = p.legend_.get_texts() if p.legend_ is not None else []\n",
    "    plot_info = {\n",
    "    \"title\" : p.get_title(),\n",
    "    \"legendlabels\": [x.get_text() for x in txts],\n",
    "    \"x_label\": re.sub(' label$', '',p.xaxis.get_label_text()),\n",
    "    \"x_ticks\": [x.get_text() for x in p.xaxis.get_majorticklabels()],\n",
    "    \"y_label\": re.sub(' label$', '',p.yaxis.get_label_text()),\n",
    "    \"y_ticks\": [x.get_text() for x in p.yaxis.get_majorticklabels()]\n",
    "    }\n",
    "    \n",
    "    desc = '''\n",
    "This chart, titled \"{title}\", is labeled \"{x_label}\" on the x-axis and \"{y_label}\"\n",
    "on the y-axis.'''.format(**plot_info)\n",
    "    \n",
    "    return desc, plot_info"
   ]
  },
  {
   "cell_type": "code",
   "execution_count": 4,
   "metadata": {},
   "outputs": [
    {
     "name": "stdout",
     "output_type": "stream",
     "text": [
      "\n",
      "This chart, titled \"My Plot\", is labeled \"My x-axis\" on the x-axis and \"My y-axis\"\n",
      "on the y-axis.\n"
     ]
    },
    {
     "data": {
      "image/png": "[encoded data removed]",
      "text/plain": [
       "<matplotlib.figure.Figure at 0x7ff8d1555048>"
      ]
     },
     "metadata": {},
     "output_type": "display_data"
    }
   ],
   "source": [
    "fig, ax = plt.subplots()\n",
    "plt.plot(timestamps,np.sin(2*np.pi*timestamps*frequency))\n",
    "\n",
    "#We can add a title to the plot\n",
    "plt.title('My Plot')\n",
    "\n",
    "#And label the axes\n",
    "plt.xlabel('My x-axis label')\n",
    "plt.ylabel('My y-axis label')\n",
    "\n",
    "txt, info = get_plot_info(ax)\n",
    "print(txt)"
   ]
  },
  {
   "cell_type": "code",
   "execution_count": 5,
   "metadata": {},
   "outputs": [
    {
     "data": {
      "text/plain": [
       "{'legendlabels': [],\n",
       " 'title': 'My Plot',\n",
       " 'x_label': 'My x-axis',\n",
       " 'x_ticks': ['', '', '', '', '', '', '', ''],\n",
       " 'y_label': 'My y-axis',\n",
       " 'y_ticks': ['', '', '', '', '', '', '', '', '', '', '']}"
      ]
     },
     "execution_count": 5,
     "metadata": {},
     "output_type": "execute_result"
    }
   ],
   "source": [
    "# Show the information returned about the chart axes\n",
    "# This is a subset of the axes data; modify get_plot_info() to add more details\n",
    "info"
   ]
  },
  {
   "cell_type": "markdown",
   "metadata": {
    "slideshow": {
     "slide_type": "slide"
    }
   },
   "source": [
    "### Add Interactive Widgets\n",
    "\n",
    "It's a straightforward matter to decorate a function that can create an interactive chart where the controls are dynamically created based on the type of any arguments passed into the function."
   ]
  },
  {
   "cell_type": "code",
   "execution_count": 6,
   "metadata": {
    "hide_input": false,
    "slideshow": {
     "slide_type": "fragment"
    }
   },
   "outputs": [
    {
     "data": {
      "application/vnd.jupyter.widget-view+json": {
       "model_id": "bc42dd1e0a944b028dce7ae0257a9e8b",
       "version_major": 2,
       "version_minor": 0
      },
      "text/plain": [
       "A Jupyter Widget"
      ]
     },
     "metadata": {},
     "output_type": "display_data"
    }
   ],
   "source": [
    "from ipywidgets import interact\n",
    "\n",
    "@interact(f=(0,10,1))\n",
    "def pltsin(f):\n",
    "    plt.plot(timestamps,np.sin(2*np.pi*timestamps*f))"
   ]
  },
  {
   "cell_type": "markdown",
   "metadata": {
    "hide_input": true,
    "slideshow": {
     "slide_type": "slide"
    }
   },
   "source": [
    "## Drawing Mathematical Diagrams\n",
    "\n",
    "Several packages exist that support the creation of print quality mathematically accurate scientific diagrams including:\n",
    "\n",
    "- `asymptote`\n",
    "- `TikZ`"
   ]
  },
  {
   "cell_type": "markdown",
   "metadata": {
    "slideshow": {
     "slide_type": "slide"
    }
   },
   "source": [
    "### `asymptote`\n",
    "\n",
    "The [`asympote` Linux package](http://asymptote.sourceforge.net/) *is a powerful descriptive vector graphics language that provides a natural coordinate-based framework for technical drawing. Labels and equations are typeset with LaTeX.*\n",
    "\n",
    "*A major advantage of Asymptote over other graphics packages is that it is a programming language, as opposed to just a graphics program.*"
   ]
  },
  {
   "cell_type": "code",
   "execution_count": 7,
   "metadata": {
    "slideshow": {
     "slide_type": "skip"
    }
   },
   "outputs": [],
   "source": [
    "drawingspec = '''\n",
    "import math; import graph; import geometry;\n",
    "size(12cm); xaxis(\"$x$\"); yaxis(\"$y$\");\n",
    "real theta1={theta1}; real theta2={theta2};\n",
    "real L1=0.45; real L2=0.48;\n",
    "pair l1p = (L1*sin(theta1), L1*cos(theta1));\n",
    "pair l2p = l1p + (L2*sin(theta1+theta2), L2*cos(theta1+theta2));\n",
    "draw((0,0)--l1p--l2p); draw(l1p--l1p*1.5, dashed); dot(l2p); draw((0,0)--l2p, dashed); \n",
    "label(\"$J1(0,0)$\", (0,0), NW); label(\"$J2(u,v)$\", l1p, NW); label(\"$H(x,y)$\", l2p, NE);\n",
    "draw(\"$L1$\",(0,0)-0.02*I*l1p--l1p-0.02*I*l1p, red, Arrows, Bars, PenMargins);\n",
    "draw(\"$L2$\", l1p-0.02*I*l2p--l2p-0.02*I*l2p, red, Arrows, Bars, PenMargins);\n",
    "draw(\"$\\\\theta_1$\", arc((0,1),(0,0),l1p,0.1), blue, PenMargins);\n",
    "draw(\"$\\\\theta_2$\", arc(l1p,0.1,degrees(l1p),degrees(l2p-l1p),CW), blue, PenMargins);\n",
    "draw(\"$\\\\alpha$\", arc((1,0),(0,0),l2p,0.2), blue, PenMargins);\n",
    "'''"
   ]
  },
  {
   "cell_type": "code",
   "execution_count": 8,
   "metadata": {
    "slideshow": {
     "slide_type": "skip"
    }
   },
   "outputs": [],
   "source": [
    "import subprocess # to run asymptote\n",
    "import shlex"
   ]
  },
  {
   "cell_type": "markdown",
   "metadata": {
    "slideshow": {
     "slide_type": "skip"
    }
   },
   "source": [
    "The following code cell has a hidden input. Select the cell and click on the *Toggle selected cell input display* toolbar button to reveal the code.\n",
    "\n",
    "You can dynamically change the diagram by entering new parameter values into the text boxes."
   ]
  },
  {
   "cell_type": "code",
   "execution_count": 10,
   "metadata": {
    "slideshow": {
     "slide_type": "slide"
    }
   },
   "outputs": [
    {
     "data": {
      "application/vnd.jupyter.widget-view+json": {
       "model_id": "11fd332b7787418aa10745d199302bf5",
       "version_major": 2,
       "version_minor": 0
      },
      "text/plain": [
       "A Jupyter Widget"
      ]
     },
     "metadata": {},
     "output_type": "display_data"
    }
   ],
   "source": [
    "@interact(theta1='-pi/2',   theta2='pi/3')\n",
    "def asym_demo(theta1,theta2):\n",
    "    f=open('/tmp/pa10-firstjoint.asy', 'w')\n",
    "    f.write(drawingspec.format(theta1=theta1,theta2=theta2)); f.close()\n",
    "    subprocess.call(shlex.split('asy /tmp/pa10-firstjoint.asy -f png -o pa10-firstjoint.png'))\n",
    "    return Image('pa10-firstjoint.png')"
   ]
  },
  {
   "cell_type": "markdown",
   "metadata": {
    "slideshow": {
     "slide_type": "skip"
    }
   },
   "source": [
    "### `TikZ`\n",
    "\n",
    "The `TikZ` Linux package is a *TeX* package for creating graphics programmatically ([about](https://www.tug.org/TUGboat/tb29-1/tb91walczak.pdf)).\n",
    "\n",
    "It provides a front-end layer for the [PGFPlots](http://pgfplots.sourceforge.net/) LaTeX chart plotting package ([gallery](http://pgfplots.sourceforge.net/gallery.html)).\n",
    "\n",
    "See the [`Tikz.ipynb`](Tikz.ipynb) notebook for examples."
   ]
  },
  {
   "cell_type": "markdown",
   "metadata": {
    "slideshow": {
     "slide_type": "skip"
    }
   },
   "source": [
    "## Symbolic Maths\n",
    "\n",
    "Supprt for *symbolic maths* means ...\n",
    "\n",
    "Support for symbolic mathematics is available via the Python `sympy` package.\n",
    "\n",
    "??Jupyter notebooks can also work directly with Mathematica kernel; is there also the free equivalent kernel?"
   ]
  },
  {
   "cell_type": "code",
   "execution_count": 16,
   "metadata": {
    "slideshow": {
     "slide_type": "skip"
    }
   },
   "outputs": [],
   "source": [
    "#Import sympy packages\n",
    "import math\n",
    "from sympy import *\n",
    "from sympy import init_printing\n",
    "init_printing()\n",
    "\n",
    "b,c,B,C=symbols(['b','c','B','C'])"
   ]
  },
  {
   "cell_type": "code",
   "execution_count": 17,
   "metadata": {
    "slideshow": {
     "slide_type": "skip"
    }
   },
   "outputs": [
    {
     "data": {
      "image/png": "[encoded data removed]",
      "text/latex": [
       "$$\\frac{b}{\\sin{\\left (B \\right )}} = \\frac{c}{\\sin{\\left (C \\right )}}$$"
      ],
      "text/plain": [
       "  b        c   \n",
       "────── = ──────\n",
       "sin(B)   sin(C)"
      ]
     },
     "execution_count": 17,
     "metadata": {},
     "output_type": "execute_result"
    }
   ],
   "source": [
    "#A simple example of the sine rule\n",
    "exp=Eq(b/sin(B),c/sin(C))\n",
    "exp"
   ]
  },
  {
   "cell_type": "code",
   "execution_count": 18,
   "metadata": {
    "slideshow": {
     "slide_type": "skip"
    }
   },
   "outputs": [
    {
     "data": {
      "image/png": "[encoded data removed]",
      "text/latex": [
       "$$b = \\frac{c \\sin{\\left (B \\right )}}{\\sin{\\left (C \\right )}}$$"
      ],
      "text/plain": [
       "    c⋅sin(B)\n",
       "b = ────────\n",
       "     sin(C) "
      ]
     },
     "execution_count": 18,
     "metadata": {},
     "output_type": "execute_result"
    }
   ],
   "source": [
    "#We can solve for b:\n",
    "distance_b = solve(exp)[0][b]\n",
    "Eq(b, distance_b)"
   ]
  },
  {
   "cell_type": "code",
   "execution_count": 19,
   "metadata": {
    "slideshow": {
     "slide_type": "skip"
    }
   },
   "outputs": [
    {
     "data": {
      "image/png": "[encoded data removed]",
      "text/latex": [
       "$$b = \\frac{c \\sin{\\left (B \\right )}}{\\sin{\\left (C \\right )}} = 22375.2723037434$$"
      ],
      "text/plain": [
       "    c⋅sin(B)                   \n",
       "b = ──────── = 22375.2723037434\n",
       "     sin(C)                    "
      ]
     },
     "execution_count": 19,
     "metadata": {},
     "output_type": "execute_result"
    }
   ],
   "source": [
    "#Then we can substitute in values\n",
    "Eq(Eq(b,distance_b), distance_b.subs({c:27404,B:math.radians(45),C:math.radians(60)}))"
   ]
  },
  {
   "cell_type": "code",
   "execution_count": null,
   "metadata": {
    "slideshow": {
     "slide_type": "skip"
    }
   },
   "outputs": [],
   "source": []
  }
 ],
 "metadata": {
  "hide_input": false,
  "kernelspec": {
   "display_name": "Python 3",
   "language": "python",
   "name": "python3"
  },
  "language_info": {
   "codemirror_mode": {
    "name": "ipython",
    "version": 3
   },
   "file_extension": ".py",
   "mimetype": "text/x-python",
   "name": "python",
   "nbconvert_exporter": "python",
   "pygments_lexer": "ipython3",
   "version": "3.5.3"
  }
 },
 "nbformat": 4,
 "nbformat_minor": 2
}

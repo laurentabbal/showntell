{
 "cells": [
  {
   "cell_type": "markdown",
   "metadata": {},
   "source": [
    "# Jupyter Notebooks - Astronomy\n",
    "\n",
    "This build contains several demonstrations of using Jupyter notebooks to work with and display astronomical data.\n",
    "\n",
    "This includes rendering ??standard formats in astronomy?? and astronomical maps.\n",
    "\n",
    "From the *Cell* menu, select *Run All*."
   ]
  },
  {
   "cell_type": "markdown",
   "metadata": {},
   "source": [
    "## Python Packages\n",
    "\n",
    "A wide range of Python packages exist that faclitate working with astronomical datasets and rendering outputs directly in Jupyter notebooks.\n",
    "\n",
    "See the following notebooks for examples of:\n",
    "\n",
    "- [rendering imagery using `aplpy`](index_astronomy_images_aplpy.ipynb)\n",
    "- [rendering imagery using `astropy`](index_astronomy_images_astropy.ipynb)\n",
    "- [rendering imagery of the sun using `sunpy`](index_astronomy_images_sunpy.ipynb)\n",
    "- [accessing imagery from the NASA API using `pyhorizon`](index_astronomy_images_pyhorizon.ipynb)\n",
    "- [performing astronomical calculations using `pyephem`, `poliastro`, `skyfield`](index_astronomy_calculations.ipynb).\n",
    "\n"
   ]
  },
  {
   "cell_type": "code",
   "execution_count": null,
   "metadata": {},
   "outputs": [],
   "source": []
  }
 ],
 "metadata": {
  "hide_input": false,
  "kernelspec": {
   "display_name": "Python 3",
   "language": "python",
   "name": "python3"
  },
  "language_info": {
   "codemirror_mode": {
    "name": "ipython",
    "version": 3
   },
   "file_extension": ".py",
   "mimetype": "text/x-python",
   "name": "python",
   "nbconvert_exporter": "python",
   "pygments_lexer": "ipython3",
   "version": "3.6.3"
  }
 },
 "nbformat": 4,
 "nbformat_minor": 2
}

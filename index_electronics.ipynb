{
 "cells": [
  {
   "cell_type": "markdown",
   "metadata": {},
   "source": [
    "# Jupyter Notebook - Electronics Demos"
   ]
  },
  {
   "cell_type": "code",
   "execution_count": null,
   "metadata": {},
   "outputs": [],
   "source": [
    "import SchemDraw as schem\n",
    "import SchemDraw.elements as e\n",
    "\n",
    "d = schem.Drawing()\n",
    "V1 = d.add(e.SOURCE_V, label='5V')\n",
    "d.add(e.LINE, d='right', l=d.unit*.75)\n",
    "S1 = d.add(e.SWITCH_SPDT2_CLOSE, d='up', anchor='b', rgtlabel='$t=0$')\n",
    "d.add(e.LINE, d='right', xy=S1.c,  l=d.unit*.75)\n",
    "d.add(e.RES, d='down', label='$100\\Omega$', botlabel=['+','$v_o$','-'])\n",
    "d.add(e.LINE, to=V1.start)\n",
    "d.add(e.CAP, xy=S1.a, d='down', toy=V1.start, label='1$\\mu$F')\n",
    "d.add(e.DOT)\n",
    "d.draw(showplot=False)"
   ]
  }
 ],
 "metadata": {
  "kernelspec": {
   "display_name": "Python 3",
   "language": "python",
   "name": "python3"
  },
  "language_info": {
   "codemirror_mode": {
    "name": "ipython",
    "version": 3
   },
   "file_extension": ".py",
   "mimetype": "text/x-python",
   "name": "python",
   "nbconvert_exporter": "python",
   "pygments_lexer": "ipython3",
   "version": "3.6.1"
  }
 },
 "nbformat": 4,
 "nbformat_minor": 2
}

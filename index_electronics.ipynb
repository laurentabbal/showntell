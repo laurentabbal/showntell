{
 "cells": [
  {
   "cell_type": "markdown",
   "metadata": {},
   "source": [
    "# Jupyter Notebook - Electronics Demos\n",
    "This notebook demonstrates several packages that can be used to support the creation of assets relating to *electronics*."
   ]
  },
  {
   "cell_type": "code",
   "execution_count": 1,
   "metadata": {},
   "outputs": [],
   "source": [
    "%matplotlib inline"
   ]
  },
  {
   "cell_type": "markdown",
   "metadata": {},
   "source": [
    "## Drawing Electrical Circuit Diagrams\n",
    "\n",
    "The `schemdraw` package can be used to write descriptions of electrical circuit diagrams.\n",
    "\n",
    "Examples: https://cdelker.bitbucket.io/SchemDraw/SchemDraw.html\n",
    "\n",
    "\n",
    "We can parameterise values to allow us to refer to diagrams in text using similar values."
   ]
  },
  {
   "cell_type": "code",
   "execution_count": 2,
   "metadata": {},
   "outputs": [],
   "source": [
    "import SchemDraw as schem\n",
    "import SchemDraw.elements as e"
   ]
  },
  {
   "cell_type": "code",
   "execution_count": 6,
   "metadata": {},
   "outputs": [],
   "source": [
    "#Would be nice if we could find a way of handling units better?\n",
    "#Maybe a package that gets this from value and chooses unit modifier appropriately?\n",
    "\n",
    "R=100 * 10**3\n",
    "V=10\n",
    "C=0.1 * 10**-6\n",
    "\n",
    "V_str='{V}V'.format(V=V)\n",
    "R_str='{R}K$\\Omega$'.format(R=R/10**3)\n",
    "C_str='{C}$\\mu$F'.format(C=C/10**-6)\n",
    "\n",
    "d = schem.Drawing()\n",
    "V1 = d.add(e.SOURCE_V, label=V_str)\n",
    "d.add(e.RES, d='right', label=R_str)\n",
    "d.add(e.CAP, d='down', botlabel=C_str)\n",
    "d.add(e.LINE, to=V1.start);"
   ]
  },
  {
   "cell_type": "markdown",
   "metadata": {
    "variables": {
     "C_str": "0.1$\\mu$F",
     "R_str": "100.0K$\\Omega$",
     "V_str": "10V"
    }
   },
   "source": [
    "The following circuit shows a {{V_str}} source connected in series to a {{R_str}} resistor and a {{C_str}} capacitor."
   ]
  },
  {
   "cell_type": "markdown",
   "metadata": {
    "variables": {
     "d.draw()": "<img src=\"data:image/png;base64,iVBORw0KGgoAAAANSUhEUgAAANsAAACQCAYAAACBHB7vAAAABHNCSVQICAgIfAhkiAAAAAlwSFlz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\ni6H+rfOEAAAAAElFTkSuQmCC\n\"/>"
    }
   },
   "source": [
    "{{d.draw()}}"
   ]
  },
  {
   "cell_type": "code",
   "execution_count": 19,
   "metadata": {},
   "outputs": [
    {
     "data": {
      "image/png": "[encoded data removed]",
      "text/plain": [
       "<matplotlib.figure.Figure at 0x7fe67871e668>"
      ]
     },
     "metadata": {},
     "output_type": "display_data"
    }
   ],
   "source": [
    "d = schem.Drawing()\n",
    "V1 = d.add(e.SOURCE_V, label='5V')\n",
    "d.add(e.LINE, d='right', l=d.unit*.75)\n",
    "S1 = d.add(e.SWITCH_SPDT2_CLOSE, d='up', anchor='b', rgtlabel='$t=0$')\n",
    "d.add(e.LINE, d='right', xy=S1.c,  l=d.unit*.75)\n",
    "d.add(e.RES, d='down', label='$100\\Omega$', botlabel=['+','$v_o$','-'])\n",
    "d.add(e.LINE, to=V1.start)\n",
    "d.add(e.CAP, xy=S1.a, d='down', toy=V1.start, label='1$\\mu$F')\n",
    "d.add(e.DOT)\n",
    "d.draw(showplot=False)"
   ]
  },
  {
   "cell_type": "code",
   "execution_count": null,
   "metadata": {},
   "outputs": [],
   "source": []
  }
 ],
 "metadata": {
  "kernelspec": {
   "display_name": "Python 3",
   "language": "python",
   "name": "python3"
  },
  "language_info": {
   "codemirror_mode": {
    "name": "ipython",
    "version": 3
   },
   "file_extension": ".py",
   "mimetype": "text/x-python",
   "name": "python",
   "nbconvert_exporter": "python",
   "pygments_lexer": "ipython3",
   "version": "3.5.3"
  }
 },
 "nbformat": 4,
 "nbformat_minor": 2
}

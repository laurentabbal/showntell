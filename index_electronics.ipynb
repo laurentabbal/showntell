{
 "cells": [
  {
   "cell_type": "markdown",
   "metadata": {},
   "source": [
    "# Jupyter Notebook - Electronics Demos\n",
    "This notebook demonstrates several packages that can be used to support the creation of assets relating to *electronics*."
   ]
  },
  {
   "cell_type": "code",
   "execution_count": 53,
   "metadata": {
    "collapsed": true
   },
   "outputs": [],
   "source": [
    "%matplotlib inline"
   ]
  },
  {
   "cell_type": "markdown",
   "metadata": {},
   "source": [
    "## Drawing Electrical Circuit Diagrams / Schematics\n",
    "\n",
    "One way of using the notebooks is an an envionment to support the creation of schematic diagrams."
   ]
  },
  {
   "cell_type": "markdown",
   "metadata": {},
   "source": [
    "### `schemdraw`\n",
    "\n",
    "The `schemdraw` package can be used to write descriptions of electrical circuit diagrams.\n",
    "\n",
    "Examples: https://cdelker.bitbucket.io/SchemDraw/SchemDraw.html\n",
    "\n",
    "\n",
    "We can parameterise values to allow us to refer to diagrams in text using similar values."
   ]
  },
  {
   "cell_type": "code",
   "execution_count": 54,
   "metadata": {
    "collapsed": true
   },
   "outputs": [],
   "source": [
    "import SchemDraw as schem\n",
    "import SchemDraw.elements as e"
   ]
  },
  {
   "cell_type": "code",
   "execution_count": 55,
   "metadata": {
    "collapsed": true
   },
   "outputs": [],
   "source": [
    "#Would be nice if we could find a way of handling units better?\n",
    "#Maybe a package that gets this from value and chooses unit modifier appropriately?\n",
    "\n",
    "R=100 * 10**3\n",
    "V=10\n",
    "C=0.1 * 10**-6\n",
    "\n",
    "V_str='{V}V'.format(V=V)\n",
    "R_str='{R}K$\\Omega$'.format(R=R/10**3)\n",
    "C_str='{C}$\\mu$F'.format(C=C/10**-6)\n",
    "    \n",
    "d = schem.Drawing()\n",
    "V1 = d.add(e.SOURCE_V, label=V_str)\n",
    "d.add(e.RES, d='right', label=R_str)\n",
    "d.add(e.CAP, d='down', botlabel=C_str)\n",
    "d.add(e.LINE, to=V1.start);"
   ]
  },
  {
   "cell_type": "markdown",
   "metadata": {
    "variables": {
     "R_str": {},
     "d.draw()": "<img src=\"data:image/png;base64,iVBORw0KGgoAAAANSUhEUgAAANsAAACQCAYAAACBHB7vAAAABHNCSVQICAgIfAhkiAAAAAlwSFlz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\ni6H+rfOEAAAAAElFTkSuQmCC\n\"/>",
     "print(C_str)": "0.1$\\mu$F",
     "print(V_str)": "10V"
    }
   },
   "source": [
    "The following circuit shows a {{print(V_str)}} source connected in series to a {{R_str}} resistor and a {{print(C_str)}} capacitor.\n",
    "\n",
    "{{d.draw()}}\n",
    "\n",
    "*Double click on the cell to see how the components are embedded.*"
   ]
  },
  {
   "cell_type": "markdown",
   "metadata": {},
   "source": [
    "We can also update diagrams dynamically:"
   ]
  },
  {
   "cell_type": "code",
   "execution_count": 56,
   "metadata": {},
   "outputs": [
    {
     "data": {
      "application/vnd.jupyter.widget-view+json": {
       "model_id": "38d0ce65bc9c4c678a3b10cc407268dc",
       "version_major": 2,
       "version_minor": 0
      },
      "text/plain": [
       "A Jupyter Widget"
      ]
     },
     "metadata": {},
     "output_type": "display_data"
    }
   ],
   "source": [
    "from ipywidgets import interact\n",
    "import ipywidgets\n",
    "import matplotlib.pyplot as plt    \n",
    "\n",
    "@interact(V=ipywidgets.IntSlider(min=0,max=15,step=1,value=5),\n",
    "          R=ipywidgets.IntSlider(min=100,max=1500,step=100,value=100),\n",
    "          C=ipywidgets.IntSlider(min=0,max=15,step=1,value=1))\n",
    "def schem_demo(V, R, C, xkcdmode=False):\n",
    "    if xkcdmode: plt.xkcd()\n",
    "    d = schem.Drawing()\n",
    "    V1 = d.add(e.SOURCE_V, label='{}V'.format(V))\n",
    "    d.add(e.LINE, d='right', l=d.unit*.75)\n",
    "    S1 = d.add(e.SWITCH_SPDT2_CLOSE, d='up', anchor='b', rgtlabel='$t=0$')\n",
    "    d.add(e.LINE, d='right', xy=S1.c,  l=d.unit*.75)\n",
    "    d.add(e.RES, d='down', label='${}\\Omega$'.format(R), botlabel=['+','$v_o$','-'])\n",
    "    d.add(e.LINE, to=V1.start)\n",
    "    d.add(e.CAP, xy=S1.a, d='down', toy=V1.start, label='{}$\\mu$F'.format(C))\n",
    "    d.add(e.DOT)\n",
    "    d.draw(showplot=False)"
   ]
  },
  {
   "cell_type": "markdown",
   "metadata": {},
   "source": [
    "### `circuitikz`\n",
    "\n",
    "Draw circuits using `circuitikz`."
   ]
  },
  {
   "cell_type": "code",
   "execution_count": 57,
   "metadata": {},
   "outputs": [
    {
     "name": "stdout",
     "output_type": "stream",
     "text": [
      "The tikz_magic extension is already loaded. To reload it, use:\n",
      "  %reload_ext tikz_magic\n"
     ]
    }
   ],
   "source": [
    "%load_ext tikz_magic"
   ]
  },
  {
   "cell_type": "code",
   "execution_count": 58,
   "metadata": {},
   "outputs": [
    {
     "data": {
      "image/png": "[encoded data removed]",
      "text/plain": [
       "<IPython.core.display.Image object>"
      ]
     },
     "execution_count": 58,
     "metadata": {},
     "output_type": "execute_result"
    }
   ],
   "source": [
    "%%tikz -p circuitikz,gnuplottex -s 0.3\n",
    "%Example circuit from: https://tex.stackexchange.com/a/379915\n",
    "[every pin/.append style={align=left, text=blue}]\n",
    "  \\draw\n",
    "  (0, 0) node[op amp] (opamp) {}\n",
    "  (opamp.-) to[short,-o] (-2, 0.5)\n",
    "  (opamp.-) to[short,*-] ++(0,1.5) coordinate (leftC)\n",
    "            to[C]           (leftC -| opamp.out)\n",
    "            to[short,-*]    (opamp.out)\n",
    "            to[short,-o] ++ (0.5,0)\n",
    "  (leftC)   to[short,*-] ++ (0,1)  coordinate (leftR) \n",
    "            to[R]           (leftR -| opamp.out)\n",
    "            to[short,-*]    (leftC -| opamp.out)\n",
    "   (opamp.+) -- ++ (0,-0.5) node[ground] {};"
   ]
  },
  {
   "cell_type": "code",
   "execution_count": 59,
   "metadata": {},
   "outputs": [
    {
     "data": {
      "image/png": "[encoded data removed]",
      "text/plain": [
       "<IPython.core.display.Image object>"
      ]
     },
     "execution_count": 59,
     "metadata": {},
     "output_type": "execute_result"
    }
   ],
   "source": [
    "cct=r'''\n",
    "  \\draw\n",
    "  (0, 0) node[op amp] (opamp) {}\n",
    "  (opamp.-) to[short,-o] (-2, 0.5)\n",
    "  (opamp.-) to[short,*-] ++(0,1.5) coordinate (leftC)\n",
    "            to[C]           (leftC -| opamp.out)\n",
    "            to[short,-*]    (opamp.out)\n",
    "            to[short,-o] ++ (0.5,0)\n",
    "  (leftC)   to[short,*-] ++ (0,1)  coordinate (leftR) \n",
    "            to[R]           (leftR -| opamp.out)\n",
    "            to[short,-*]    (leftC -| opamp.out)\n",
    "   (opamp.+) -- ++ (0,-0.5) node[ground] {};'''\n",
    "\n",
    "%tikz -p circuitikz -s 0.3 --var cct"
   ]
  },
  {
   "cell_type": "code",
   "execution_count": 60,
   "metadata": {},
   "outputs": [
    {
     "name": "stdout",
     "output_type": "stream",
     "text": [
      "/home/jovyan/texmf/tex/latex/bodegraph/bodegraph.sty\r\n"
     ]
    }
   ],
   "source": [
    "!kpsewhich bodegraph.sty "
   ]
  },
  {
   "cell_type": "code",
   "execution_count": 61,
   "metadata": {},
   "outputs": [
    {
     "name": "stdout",
     "output_type": "stream",
     "text": [
      "/usr/share/texlive/texmf-dist/tex/latex/circuitikz/circuitikz.sty\r\n"
     ]
    }
   ],
   "source": [
    "!kpsewhich circuitikz.sty"
   ]
  },
  {
   "cell_type": "markdown",
   "metadata": {},
   "source": [
    "## Simulating Circuits\n",
    "\n",
    "As well as drawing circuits, there several different approaches to simulating circuit behaviour."
   ]
  },
  {
   "cell_type": "markdown",
   "metadata": {},
   "source": [
    "### Circuit Analysis - `lcapy`\n",
    "\n",
    "`lcapy` is a linear circuit analysis package.\n",
    "\n",
    "Whilst the analysis seems buggy at the moment, we can still render circuits."
   ]
  },
  {
   "cell_type": "code",
   "execution_count": 62,
   "metadata": {},
   "outputs": [
    {
     "data": {
      "image/png": "[encoded data removed]"
     },
     "metadata": {
      "image/png": {
       "height": 100,
       "width": 200
      }
     },
     "output_type": "display_data"
    }
   ],
   "source": [
    "from lcapy import Circuit, j, omega\n",
    "cct = Circuit()\n",
    "cct.add(\"\"\"\n",
    "Vi 1 0_1; down\n",
    "C 1 2; right, size=1.5\n",
    "R 2 0; down\n",
    "W 0_1 0; right\n",
    "W 0 0_2; right, size=0.5\n",
    "P1 2_2 0_2; down\n",
    "W 2 2_2;right, size=0.5\"\"\")\n",
    "\n",
    "cct.draw()"
   ]
  },
  {
   "cell_type": "markdown",
   "metadata": {},
   "source": [
    "## *Circuit Sandbox*\n",
    "\n",
    "The [Circuit Sandbox](https://github.com/willymcallister/circuit-sandbox) is a simple, standalone Javascript circuit simulator that we can embed in a notebook or [run in its own browser tab](js/circuit-sandbox-master/index.html).\n",
    "\n",
    "The *Circuit Sandbox* can save and load simple netlists (*I don't know if these can then be used by other packages?*)"
   ]
  },
  {
   "cell_type": "code",
   "execution_count": 63,
   "metadata": {
    "scrolled": false
   },
   "outputs": [
    {
     "data": {
      "text/html": [
       "\n",
       "        <iframe\n",
       "            width=\"1000\"\n",
       "            height=\"600\"\n",
       "            src=\"js/circuit-sandbox-master/index-mobile.html\"\n",
       "            frameborder=\"0\"\n",
       "            allowfullscreen\n",
       "        ></iframe>\n",
       "        "
      ],
      "text/plain": [
       "<IPython.lib.display.IFrame at 0x7f7f91365208>"
      ]
     },
     "execution_count": 63,
     "metadata": {},
     "output_type": "execute_result"
    }
   ],
   "source": [
    "from IPython.display import IFrame\n",
    "IFrame('js/circuit-sandbox-master/index-mobile.html', width=1000,height=600)"
   ]
  },
  {
   "cell_type": "markdown",
   "metadata": {},
   "source": [
    "## Digital Circuit Simulator\n",
    "\n",
    "`simcirjs` [[docs](https://github.com/kazuhikoarase/simcirjs)) is a syandalone Javascript digital circuit simulator that we can embed in a notebook or [run in its own browser tab](js/simcirjs-master/sample.html)."
   ]
  },
  {
   "cell_type": "code",
   "execution_count": 64,
   "metadata": {},
   "outputs": [
    {
     "data": {
      "text/html": [
       "\n",
       "        <iframe\n",
       "            width=\"600\"\n",
       "            height=\"300\"\n",
       "            src=\"js/simcirjs-master/blank.html\"\n",
       "            frameborder=\"0\"\n",
       "            allowfullscreen\n",
       "        ></iframe>\n",
       "        "
      ],
      "text/plain": [
       "<IPython.lib.display.IFrame at 0x7f7f91313d30>"
      ]
     },
     "execution_count": 64,
     "metadata": {},
     "output_type": "execute_result"
    }
   ],
   "source": [
    "#!ls js/simcirjs-master/\n",
    "from IPython.display import IFrame\n",
    "IFrame('js/simcirjs-master/blank.html', width=600,height=300)"
   ]
  },
  {
   "cell_type": "markdown",
   "metadata": {},
   "source": [
    "### `ahkab`\n",
    "\n",
    "[`ahkab`](https://ahkab.readthedocs.io/en/latest/index.html) is an open-source SPICE-like interactive circuit simulator.\n",
    "\n",
    "*Unfortunately, it doesn't render the schematic diagram from the circuit description. It would be useful if we `ahkab` could work with something like `schemdraw` to support such a dual behaviour from the same circuit descrpition.*\n",
    "\n",
    "The examples below are based on the original documentation."
   ]
  },
  {
   "cell_type": "code",
   "execution_count": 65,
   "metadata": {
    "collapsed": true
   },
   "outputs": [],
   "source": [
    "import ahkab"
   ]
  },
  {
   "cell_type": "code",
   "execution_count": 66,
   "metadata": {},
   "outputs": [
    {
     "name": "stdout",
     "output_type": "stream",
     "text": [
      "OP simulation results for 'Simple Example Circuit'.\n",
      "Run on 2017-12-08 22:28:25, data file /tmp/tmp_k1yz97v.op.\n",
      "Variable    Units        Value         Error    %\n",
      "----------  -------  ---------  ------------  ---\n",
      "VN1         V        -3.86364    3.86358e-12    0\n",
      "VN2         V         4.13636   -4.13591e-12    0\n",
      "VN3         V         8.13636   -8.13602e-12    0\n",
      "VN4         V        10         -1.00027e-11    0\n",
      "I(V1)       A        -0.772727   0              0\n",
      "I(V2)       A        -0.170455   0              0\n",
      "I(V3)       A        -3.32955    0              0\n"
     ]
    }
   ],
   "source": [
    "cct = ahkab.Circuit('Simple Example Circuit')\n",
    "\n",
    "cct.add_resistor('R1', 'n1', cct.gnd, value=5)\n",
    "cct.add_vsource('V1', 'n2', 'n1', dc_value=8)\n",
    "cct.add_resistor('R2', 'n2', cct.gnd, value=2)\n",
    "cct.add_vsource('V2', 'n3', 'n2', dc_value=4)\n",
    "cct.add_resistor('R3', 'n3', cct.gnd, value=4)\n",
    "cct.add_resistor('R4', 'n3', 'n4', value=1)\n",
    "cct.add_vsource('V3', 'n4', cct.gnd, dc_value=10)\n",
    "cct.add_resistor('R5', 'n2', 'n4', value=4)\n",
    "\n",
    "opa = ahkab.new_op()\n",
    "r = ahkab.run(cct, opa)['op']\n",
    "print(r)"
   ]
  },
  {
   "cell_type": "markdown",
   "metadata": {
    "collapsed": true
   },
   "source": [
    "## Boolean Algebra - `PyEDA`\n",
    "\n",
    "`PyEDA` is a [Python package for exploring Boolean algebra](http://pyeda.readthedocs.io/en/latest/boolalg.html)."
   ]
  },
  {
   "cell_type": "code",
   "execution_count": 67,
   "metadata": {
    "collapsed": true
   },
   "outputs": [],
   "source": [
    "from pyeda.inter import *\n",
    "\n",
    "A = exprvar('A')\n",
    "B = exprvar('B')\n",
    "C = exprvar('C')"
   ]
  },
  {
   "cell_type": "code",
   "execution_count": 68,
   "metadata": {},
   "outputs": [
    {
     "data": {
      "text/plain": [
       "And(A, B)"
      ]
     },
     "execution_count": 68,
     "metadata": {},
     "output_type": "execute_result"
    }
   ],
   "source": [
    "A & B"
   ]
  },
  {
   "cell_type": "code",
   "execution_count": 69,
   "metadata": {},
   "outputs": [
    {
     "data": {
      "text/plain": [
       "And(A, ~B)"
      ]
     },
     "execution_count": 69,
     "metadata": {},
     "output_type": "execute_result"
    }
   ],
   "source": [
    "A & ~B"
   ]
  },
  {
   "cell_type": "code",
   "execution_count": 70,
   "metadata": {},
   "outputs": [
    {
     "data": {
      "text/plain": [
       "And(Or(A, B), C)"
      ]
     },
     "execution_count": 70,
     "metadata": {},
     "output_type": "execute_result"
    }
   ],
   "source": [
    "(A | B) & C"
   ]
  },
  {
   "cell_type": "code",
   "execution_count": 71,
   "metadata": {},
   "outputs": [
    {
     "data": {
      "text/plain": [
       "Xor(A, B)"
      ]
     },
     "execution_count": 71,
     "metadata": {},
     "output_type": "execute_result"
    }
   ],
   "source": [
    "A ^ B"
   ]
  },
  {
   "cell_type": "code",
   "execution_count": 72,
   "metadata": {},
   "outputs": [
    {
     "data": {
      "text/plain": [
       "B A\n",
       "0 0 : 0\n",
       "0 1 : 1\n",
       "1 0 : 0\n",
       "1 1 : 0"
      ]
     },
     "execution_count": 72,
     "metadata": {},
     "output_type": "execute_result"
    }
   ],
   "source": [
    "expr2truthtable(A & ~B)"
   ]
  },
  {
   "cell_type": "code",
   "execution_count": 73,
   "metadata": {},
   "outputs": [
    {
     "data": {
      "text/plain": [
       "C B A\n",
       "0 0 0 : 0\n",
       "0 0 1 : 0\n",
       "0 1 0 : 0\n",
       "0 1 1 : 1\n",
       "1 0 0 : 0\n",
       "1 0 1 : 1\n",
       "1 1 0 : 0\n",
       "1 1 1 : 1"
      ]
     },
     "execution_count": 73,
     "metadata": {},
     "output_type": "execute_result"
    }
   ],
   "source": [
    "expr2truthtable( Or(And(A, B), And(A, C)) )"
   ]
  },
  {
   "cell_type": "code",
   "execution_count": 74,
   "metadata": {},
   "outputs": [
    {
     "data": {
      "text/plain": [
       "Y X\n",
       "0 0 : 0\n",
       "0 1 : 0\n",
       "1 0 : 0\n",
       "1 1 : 1"
      ]
     },
     "execution_count": 74,
     "metadata": {},
     "output_type": "execute_result"
    }
   ],
   "source": [
    "expr2truthtable( And('X', 'Y') )"
   ]
  },
  {
   "cell_type": "code",
   "execution_count": 75,
   "metadata": {},
   "outputs": [
    {
     "data": {
      "text/plain": [
       "A B C\n",
       "0 0 0 : 0\n",
       "0 0 1 : 0\n",
       "0 1 0 : 0\n",
       "0 1 1 : 1\n",
       "1 0 0 : 0\n",
       "1 0 1 : 1\n",
       "1 1 0 : 1\n",
       "1 1 1 : 1"
      ]
     },
     "execution_count": 75,
     "metadata": {},
     "output_type": "execute_result"
    }
   ],
   "source": [
    "tt = truthtable(reversed([A,B,C]), \"00010111\")\n",
    "tt"
   ]
  },
  {
   "cell_type": "code",
   "execution_count": 76,
   "metadata": {},
   "outputs": [
    {
     "data": {
      "text/plain": [
       "Or(And(~A, B, C), And(A, ~B, C), And(A, B, ~C), And(A, B, C))"
      ]
     },
     "execution_count": 76,
     "metadata": {},
     "output_type": "execute_result"
    }
   ],
   "source": [
    "truthtable2expr( tt ) "
   ]
  },
  {
   "cell_type": "code",
   "execution_count": null,
   "metadata": {
    "collapsed": true
   },
   "outputs": [],
   "source": []
  }
 ],
 "metadata": {
  "hide_input": false,
  "kernelspec": {
   "display_name": "Python 3",
   "language": "python",
   "name": "python3"
  },
  "language_info": {
   "codemirror_mode": {
    "name": "ipython",
    "version": 3
   },
   "file_extension": ".py",
   "mimetype": "text/x-python",
   "name": "python",
   "nbconvert_exporter": "python",
   "pygments_lexer": "ipython3",
   "version": "3.5.3"
  }
 },
 "nbformat": 4,
 "nbformat_minor": 2
}

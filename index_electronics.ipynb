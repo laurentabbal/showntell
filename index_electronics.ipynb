{
 "cells": [
  {
   "cell_type": "markdown",
   "metadata": {},
   "source": [
    "# Jupyter Notebook - Electronics Demos\n",
    "This notebook demonstrates several packages that can be used to support the creation of assets relating to *electronics*."
   ]
  },
  {
   "cell_type": "code",
   "execution_count": 24,
   "metadata": {},
   "outputs": [],
   "source": [
    "%matplotlib inline"
   ]
  },
  {
   "cell_type": "markdown",
   "metadata": {},
   "source": [
    "## Drawing Electrical Circuit Diagrams / Schematics\n",
    "\n",
    "One way of using the notebooks is an an envionment to support the creation of schematic diagrams."
   ]
  },
  {
   "cell_type": "markdown",
   "metadata": {},
   "source": [
    "### `schemdraw`\n",
    "\n",
    "The `schemdraw` package can be used to write descriptions of electrical circuit diagrams.\n",
    "\n",
    "Examples: https://cdelker.bitbucket.io/SchemDraw/SchemDraw.html\n",
    "\n",
    "\n",
    "We can parameterise values to allow us to refer to diagrams in text using similar values."
   ]
  },
  {
   "cell_type": "code",
   "execution_count": 2,
   "metadata": {},
   "outputs": [],
   "source": [
    "import SchemDraw as schem\n",
    "import SchemDraw.elements as e"
   ]
  },
  {
   "cell_type": "code",
   "execution_count": 55,
   "metadata": {
    "collapsed": true
   },
   "outputs": [],
   "source": [
    "#Would be nice if we could find a way of handling units better?\n",
    "#Maybe a package that gets this from value and chooses unit modifier appropriately?\n",
    "\n",
    "R=100 * 10**3\n",
    "V=10\n",
    "C=0.1 * 10**-6\n",
    "\n",
    "V_str='{V}V'.format(V=V)\n",
    "R_str='{R}K$\\Omega$'.format(R=R/10**3)\n",
    "C_str='{C}$\\mu$F'.format(C=C/10**-6)\n",
    "    \n",
    "d = schem.Drawing()\n",
    "V1 = d.add(e.SOURCE_V, label=V_str)\n",
    "d.add(e.RES, d='right', label=R_str)\n",
    "d.add(e.CAP, d='down', botlabel=C_str)\n",
    "d.add(e.LINE, to=V1.start);"
   ]
  },
  {
   "cell_type": "markdown",
   "metadata": {},
   "source": [
    "The following circuit shows a {{print(V_str)}} source connected in series to a {{R_str}} resistor and a {{print(C_str)}} capacitor.\n",
    "\n",
    "{{d.draw()}}\n",
    "\n",
    "*Double click on the cell to see how the components are embedded.*"
   ]
  },
  {
   "cell_type": "markdown",
   "metadata": {},
   "source": [
    "We can also update diagrams dynamically:"
   ]
  },
  {
   "cell_type": "code",
   "execution_count": 3,
   "metadata": {},
   "outputs": [
    {
     "data": {
      "image/png": "[encoded data removed]",
      "text/plain": [
       "<Figure size 246.78x128.97 with 1 Axes>"
      ]
     },
     "metadata": {},
     "output_type": "display_data"
    }
   ],
   "source": [
    "from ipywidgets import interact\n",
    "import ipywidgets\n",
    "import matplotlib.pyplot as plt\n",
    "\n",
    "@interact(V=ipywidgets.IntSlider(min=0,max=15,step=1,value=5),\n",
    "          R=ipywidgets.IntSlider(min=100,max=1500,step=100,value=100),\n",
    "          C=ipywidgets.IntSlider(min=0,max=15,step=1,value=1))\n",
    "def schem_demo(V, R, C, xkcdmode=False):\n",
    "    if xkcdmode: plt.xkcd()\n",
    "    d = schem.Drawing()\n",
    "    V1 = d.add(e.SOURCE_V, label='{}V'.format(V))\n",
    "    d.add(e.LINE, d='right', l=d.unit*.75)\n",
    "    S1 = d.add(e.SWITCH_SPDT2_CLOSE, d='up', anchor='b', rgtlabel='$t=0$')\n",
    "    d.add(e.LINE, d='right', xy=S1.c,  l=d.unit*.75)\n",
    "    d.add(e.RES, d='down', label='${}\\Omega$'.format(R), botlabel=['+','$v_o$','-'])\n",
    "    d.add(e.LINE, to=V1.start)\n",
    "    d.add(e.CAP, xy=S1.a, d='down', toy=V1.start, label='{}$\\mu$F'.format(C))\n",
    "    d.add(e.DOT)\n",
    "    d.draw(showplot=False)"
   ]
  },
  {
   "cell_type": "markdown",
   "metadata": {},
   "source": [
    "### `circuitikz`\n",
    "\n",
    "Draw circuits using `circuitikz`."
   ]
  },
  {
   "cell_type": "code",
   "execution_count": 4,
   "metadata": {},
   "outputs": [],
   "source": [
    "%load_ext tikz_magic"
   ]
  },
  {
   "cell_type": "code",
   "execution_count": 5,
   "metadata": {},
   "outputs": [
    {
     "data": {
      "image/png": "[encoded data removed]",
      "text/plain": [
       "<IPython.core.display.Image object>"
      ]
     },
     "execution_count": 5,
     "metadata": {},
     "output_type": "execute_result"
    }
   ],
   "source": [
    "%%tikz -p circuitikz,gnuplottex -s 0.3\n",
    "%Example circuit from: https://tex.stackexchange.com/a/379915\n",
    "[every pin/.append style={align=left, text=blue}]\n",
    "  \\draw\n",
    "  (0, 0) node[op amp] (opamp) {}\n",
    "  (opamp.-) to[short,-o] (-2, 0.5)\n",
    "  (opamp.-) to[short,*-] ++(0,1.5) coordinate (leftC)\n",
    "            to[C]           (leftC -| opamp.out)\n",
    "            to[short,-*]    (opamp.out)\n",
    "            to[short,-o] ++ (0.5,0)\n",
    "  (leftC)   to[short,*-] ++ (0,1)  coordinate (leftR) \n",
    "            to[R]           (leftR -| opamp.out)\n",
    "            to[short,-*]    (leftC -| opamp.out)\n",
    "   (opamp.+) -- ++ (0,-0.5) node[ground] {};"
   ]
  },
  {
   "cell_type": "code",
   "execution_count": 6,
   "metadata": {},
   "outputs": [
    {
     "data": {
      "image/png": "[encoded data removed]",
      "text/plain": [
       "<IPython.core.display.Image object>"
      ]
     },
     "execution_count": 6,
     "metadata": {},
     "output_type": "execute_result"
    }
   ],
   "source": [
    "cct=r'''\n",
    "  \\draw\n",
    "  (0, 0) node[op amp] (opamp) {}\n",
    "  (opamp.-) to[short,-o] (-2, 0.5)\n",
    "  (opamp.-) to[short,*-] ++(0,1.5) coordinate (leftC)\n",
    "            to[C]           (leftC -| opamp.out)\n",
    "            to[short,-*]    (opamp.out)\n",
    "            to[short,-o] ++ (0.5,0)\n",
    "  (leftC)   to[short,*-] ++ (0,1)  coordinate (leftR) \n",
    "            to[R]           (leftR -| opamp.out)\n",
    "            to[short,-*]    (leftC -| opamp.out)\n",
    "   (opamp.+) -- ++ (0,-0.5) node[ground] {};'''\n",
    "\n",
    "%tikz -p circuitikz -s 0.3 --var cct"
   ]
  },
  {
   "cell_type": "code",
   "execution_count": 7,
   "metadata": {},
   "outputs": [
    {
     "name": "stdout",
     "output_type": "stream",
     "text": [
      "/usr/share/texlive/texmf-dist/tex/latex/bodegraph/bodegraph.sty\r\n"
     ]
    }
   ],
   "source": [
    "!kpsewhich bodegraph.sty "
   ]
  },
  {
   "cell_type": "code",
   "execution_count": 61,
   "metadata": {},
   "outputs": [
    {
     "name": "stdout",
     "output_type": "stream",
     "text": [
      "/usr/share/texlive/texmf-dist/tex/latex/circuitikz/circuitikz.sty\r\n"
     ]
    }
   ],
   "source": [
    "!kpsewhich circuitikz.sty"
   ]
  },
  {
   "cell_type": "markdown",
   "metadata": {},
   "source": [
    "## Simulating Circuits\n",
    "\n",
    "As well as drawing circuits, there several different approaches to simulating circuit behaviour."
   ]
  },
  {
   "cell_type": "markdown",
   "metadata": {},
   "source": [
    "### Circuit Analysis - `lcapy`\n",
    "\n",
    "`lcapy` is a linear circuit analysis package."
   ]
  },
  {
   "cell_type": "code",
   "execution_count": 2,
   "metadata": {},
   "outputs": [],
   "source": [
    "%%capture\n",
    "#It seems as if lcapy, as of 7/9/18 doesn't work with current symp 1.2+\n",
    "!pip install --upgrade sympy==1.1"
   ]
  },
  {
   "cell_type": "code",
   "execution_count": 3,
   "metadata": {},
   "outputs": [
    {
     "data": {
      "image/png": "[encoded data removed]"
     },
     "metadata": {
      "image/png": {
       "height": 100,
       "width": 200
      }
     },
     "output_type": "display_data"
    }
   ],
   "source": [
    "from lcapy import Circuit, j, omega\n",
    "\n",
    "cct = Circuit()\n",
    "cct.add(\"\"\"\n",
    "Vi 1 0_1 step 20; down\n",
    "C 1 2; right, size=1.5\n",
    "R 2 0; down\n",
    "W 0_1 0; right\n",
    "W 0 0_2; right, size=0.5\n",
    "P1 2_2 0_2; down\n",
    "W 2 2_2;right, size=0.5\"\"\")\n",
    "\n",
    "cct.draw()"
   ]
  },
  {
   "cell_type": "code",
   "execution_count": 4,
   "metadata": {},
   "outputs": [
    {
     "data": {
      "text/latex": [
       "$\\frac{C R s}{C R s + 1}$"
      ],
      "text/plain": [
       "  C⋅R⋅s  \n",
       "─────────\n",
       "C⋅R⋅s + 1"
      ]
     },
     "execution_count": 4,
     "metadata": {},
     "output_type": "execute_result"
    }
   ],
   "source": [
    "H = (cct.R.V('s') / cct.Vi.V('s')).simplify()\n",
    "H"
   ]
  },
  {
   "cell_type": "code",
   "execution_count": 5,
   "metadata": {},
   "outputs": [
    {
     "name": "stdout",
     "output_type": "stream",
     "text": [
      "Enabling notebook extension jupyter-js-widgets/extension...\r\n",
      "      - Validating: \u001b[32mOK\u001b[0m\r\n"
     ]
    }
   ],
   "source": [
    "!jupyter nbextension enable --py widgetsnbextension"
   ]
  },
  {
   "cell_type": "code",
   "execution_count": 8,
   "metadata": {
    "scrolled": false
   },
   "outputs": [
    {
     "data": {
      "application/vnd.jupyter.widget-view+json": {
       "model_id": "3ccdc96b0b624c2891b0d453bc510558",
       "version_major": 2,
       "version_minor": 0
      },
      "text/plain": [
       "A Jupyter Widget"
      ]
     },
     "metadata": {},
     "output_type": "display_data"
    }
   ],
   "source": [
    "from ipywidgets import interact\n",
    "\n",
    "@interact(R=(1,10,1))\n",
    "def response(R=1):\n",
    "    cct = Circuit()\n",
    "\n",
    "    cct.add('V 0_1 0 step 10;down')\n",
    "    cct.add('L 0_1 0_2 1e-3;right')\n",
    "    cct.add('C 0_2 1 1e-4;right')\n",
    "    cct.add('R 1 0_4 {R};down'.format(R=R))\n",
    "    cct.add('W 0_4 0; left')\n",
    "\n",
    "    import numpy as np\n",
    "    t = np.linspace(0, 0.01, 1000)\n",
    "    vr = cct.R.v.evaluate(t)\n",
    "\n",
    "    from matplotlib.pyplot import figure, savefig\n",
    "    fig = figure()\n",
    "    ax = fig.add_subplot(111, title='Resistor voltage (R={}$\\Omega$)'.format(R))\n",
    "    ax.plot(t, vr, linewidth=2)\n",
    "    ax.set_xlabel('Time (s)')\n",
    "    ax.set_ylabel('Resistor voltage (V)')\n",
    "    ax.grid(True)\n",
    "    \n",
    "    cct.draw()"
   ]
  },
  {
   "cell_type": "code",
   "execution_count": 9,
   "metadata": {},
   "outputs": [
    {
     "data": {
      "image/png": "[encoded data removed]"
     },
     "metadata": {
      "image/png": {
       "height": 100,
       "width": 300
      }
     },
     "output_type": "display_data"
    }
   ],
   "source": [
    "#Example from http://lcapy.elec.canterbury.ac.nz/schematics.html#introduction\n",
    "sch='''\n",
    "Vi 1 0_1 {sin(t)}; down\n",
    "R1 1 2 22e3; right, size=1.5\n",
    "R2 2 0 1e3; down\n",
    "P1 2_2 0_2; down, v=V_{o}\n",
    "W 2 2_2; right, size=1.5\n",
    "W 0_1 0; right\n",
    "W 0 0_2; right\n",
    "'''\n",
    "\n",
    "fn=\"voltageDivider.sch\"\n",
    "with open(fn, \"w\") as text_file:\n",
    "    text_file.write(sch)\n",
    "    \n",
    "cct = Circuit(fn)\n",
    "cct.draw(style='american') #american, british, european\n",
    "#I wonder if we could blend the styles to make an OU style?"
   ]
  },
  {
   "cell_type": "raw",
   "metadata": {},
   "source": [
    "#Various voltage sources available\n",
    "Vdc(v)\n",
    "DC voltage source (note a DC voltage source of voltage V has an s domain voltage of V / s).\n",
    "\n",
    "Vstep(v)\n",
    "Step voltage source (s domain voltage of v / s).\n",
    "\n",
    "Vac(V, phi=0)\n",
    "AC voltage source.\n",
    "\n",
    "Vnoise(V, nid=None)\n",
    "Noise voltage source.\n",
    "\n",
    "Similarly for I (current) and s domain."
   ]
  },
  {
   "cell_type": "code",
   "execution_count": 10,
   "metadata": {},
   "outputs": [],
   "source": [
    "%matplotlib inline"
   ]
  },
  {
   "cell_type": "code",
   "execution_count": 11,
   "metadata": {},
   "outputs": [
    {
     "data": {
      "image/png": "[encoded data removed]",
      "text/plain": [
       "<Figure size 432x288 with 1 Axes>"
      ]
     },
     "metadata": {},
     "output_type": "display_data"
    }
   ],
   "source": [
    "#How do I analyse the circuit with the ac voltage source?\n",
    "\n",
    "import numpy as np\n",
    "t = np.linspace(0, 5, 1000)\n",
    "vr = cct.R2.v.evaluate(t)\n",
    "from matplotlib.pyplot import figure, savefig\n",
    "fig = figure()\n",
    "ax = fig.add_subplot(111, title='Resistor R2 voltage')\n",
    "ax.plot(t, vr, linewidth=2)\n",
    "ax.plot(t, cct.Vi.v.evaluate(t), linewidth=2, color='red')\n",
    "ax.plot(t, cct.R1.v.evaluate(t), linewidth=2, color='green')\n",
    "ax.set_xlabel('Time (s)')\n",
    "ax.set_ylabel('Resistor voltage (V)');"
   ]
  },
  {
   "cell_type": "code",
   "execution_count": 12,
   "metadata": {},
   "outputs": [],
   "source": [
    "?cct.R2.v"
   ]
  },
  {
   "cell_type": "code",
   "execution_count": 13,
   "metadata": {},
   "outputs": [
    {
     "data": {
      "image/png": "[encoded data removed]"
     },
     "metadata": {
      "image/png": {
       "height": 80,
       "width": 400
      }
     },
     "output_type": "display_data"
    }
   ],
   "source": [
    "from lcapy import Circuit\n",
    "\n",
    "cct = Circuit()\n",
    "cct.add(\"\"\"\n",
    "W _0 _1; right\n",
    "W _1 _2; up,size=0.4\n",
    "R _2 _3 1e6; right\n",
    "L _3 _4 2e-3;right\n",
    "W _4 _5; down,size=0.4\n",
    "W _5 _6; right\n",
    "W _5 _7; down,size=0.4\n",
    "C _7 _8 3e-6; left\n",
    "W _8 _1; up,size=0.4\n",
    "\"\"\")\n",
    "\n",
    "cct.draw(style='british')"
   ]
  },
  {
   "cell_type": "code",
   "execution_count": 14,
   "metadata": {},
   "outputs": [
    {
     "data": {
      "image/png": "[encoded data removed]"
     },
     "metadata": {
      "image/png": {
       "height": 80,
       "width": 350
      }
     },
     "output_type": "display_data"
    }
   ],
   "source": [
    "#alternative way of drawing circuits\n",
    "from lcapy import R, C, L\n",
    "\n",
    "cct2= (R(1e6) + L(2e-3)) | C(3e-6)\n",
    "#For some reason, the style= argument is not respected\n",
    "cct2.draw()"
   ]
  },
  {
   "cell_type": "code",
   "execution_count": 15,
   "metadata": {},
   "outputs": [
    {
     "name": "stdout",
     "output_type": "stream",
     "text": [
      "W 1 2; right=0.5\n",
      "W 2 4; up=0.4\n",
      "W 3 5; up=0.4\n",
      "R 4 6 1000000.0; right\n",
      "W 6 7; right=0.5\n",
      "L 7 5 0.002; right\n",
      "W 2 8; down=0.4\n",
      "W 3 9; down=0.4\n",
      "C 8 9 3e-06; right\n",
      "W 3 0; right=0.5\n"
     ]
    }
   ],
   "source": [
    "print(cct2.netlist())"
   ]
  },
  {
   "cell_type": "code",
   "execution_count": 16,
   "metadata": {},
   "outputs": [],
   "source": [
    "from lcapy import  *\n",
    "from numpy import linspace\n",
    "n = Vstep(20) + R(5) + C(10)\n",
    "vf = linspace(0, 4, 400)\n",
    "Isc = n.Isc.frequency_response().evaluate(vf)"
   ]
  },
  {
   "cell_type": "code",
   "execution_count": 17,
   "metadata": {},
   "outputs": [
    {
     "data": {
      "image/png": "[encoded data removed]"
     },
     "metadata": {
      "image/png": {
       "width": 400
      }
     },
     "output_type": "display_data"
    },
    {
     "data": {
      "image/png": "[encoded data removed]",
      "text/plain": [
       "<Figure size 432x288 with 1 Axes>"
      ]
     },
     "metadata": {},
     "output_type": "display_data"
    }
   ],
   "source": [
    "from numpy import logspace, linspace\n",
    "from lcapy import Vstep, R, C, L\n",
    "\n",
    "n = Vstep(20) + R(5) + C(10)\n",
    "n.draw()\n",
    "\n",
    "vf = linspace(0, 1, 4000)\n",
    "n.Isc.frequency_response().plot(vf, log_scale=True);"
   ]
  },
  {
   "cell_type": "code",
   "execution_count": 18,
   "metadata": {},
   "outputs": [
    {
     "data": {
      "application/vnd.jupyter.widget-view+json": {
       "model_id": "63daff1b972d4307a8f42d0c6556eafd",
       "version_major": 2,
       "version_minor": 0
      },
      "text/plain": [
       "A Jupyter Widget"
      ]
     },
     "metadata": {},
     "output_type": "display_data"
    }
   ],
   "source": [
    "from ipywidgets import interact\n",
    "\n",
    "@interact(R1=(0.1, 10),L1=(0.01, 1),C1=(0.01,0.5))\n",
    "def damping(R1=0.1,L1=0.2,C1=0.4):\n",
    "    underDampedRLC = Vstep(10) + R(R1) + L(L1)+ C(C1)\n",
    "    underDampedRLC.draw();\n",
    "\n",
    "    t = linspace(0, 10, 1000)\n",
    "\n",
    "    underDampedRLC.Isc.transient_response().plot(t);"
   ]
  },
  {
   "cell_type": "code",
   "execution_count": 19,
   "metadata": {},
   "outputs": [
    {
     "data": {
      "text/latex": [
       "$\\mathrm{R}(R_1) | \\mathrm{R}(R_2)$"
      ],
      "text/plain": [
       "R(R_1) | R(R_2)"
      ]
     },
     "execution_count": 19,
     "metadata": {},
     "output_type": "execute_result"
    }
   ],
   "source": [
    "R_1 =R('R_1')\n",
    "Rtot = R_1  | R('R_2')\n",
    "Rtot"
   ]
  },
  {
   "cell_type": "code",
   "execution_count": 20,
   "metadata": {},
   "outputs": [
    {
     "data": {
      "image/png": "[encoded data removed]"
     },
     "metadata": {
      "image/png": {
       "height": 80,
       "width": 200
      }
     },
     "output_type": "display_data"
    },
    {
     "data": {
      "text/latex": [
       "$\\frac{R_{1} R_{2}}{R_{1} + R_{2}}$"
      ],
      "text/plain": [
       " R₁⋅R₂ \n",
       "───────\n",
       "R₁ + R₂"
      ]
     },
     "execution_count": 20,
     "metadata": {},
     "output_type": "execute_result"
    }
   ],
   "source": [
    "from IPython.display import display, Latex\n",
    "\n",
    "parallelR = R('R_1') | R('R_2')\n",
    "parallelR.draw()\n",
    "\n",
    "parallelR.simplify().R"
   ]
  },
  {
   "cell_type": "code",
   "execution_count": 21,
   "metadata": {},
   "outputs": [
    {
     "data": {
      "image/png": "[encoded data removed]"
     },
     "metadata": {
      "image/png": {
       "height": 80,
       "width": 200
      }
     },
     "output_type": "display_data"
    },
    {
     "data": {
      "text/latex": [
       "$C_{1} + C_{2}$"
      ],
      "text/plain": [
       "C₁ + C₂"
      ]
     },
     "execution_count": 21,
     "metadata": {},
     "output_type": "execute_result"
    }
   ],
   "source": [
    "parallelC = C('C_1') | C('C_2')\n",
    "parallelC.draw()\n",
    "\n",
    "parallelC.simplify().C"
   ]
  },
  {
   "cell_type": "code",
   "execution_count": 22,
   "metadata": {},
   "outputs": [
    {
     "data": {
      "text/latex": [
       "$20 \\sin{\\left (\\omega t \\right )}$"
      ],
      "text/plain": [
       "20⋅sin(ω⋅t)"
      ]
     },
     "execution_count": 22,
     "metadata": {},
     "output_type": "execute_result"
    }
   ],
   "source": [
    "from lcapy import Vac, t, s, pi\n",
    "#Representation of AC voltage source in time domain\n",
    "#Vac(amplitude, phase)\n",
    "Vac(20, pi/2).Voc(t)"
   ]
  },
  {
   "cell_type": "code",
   "execution_count": 23,
   "metadata": {},
   "outputs": [
    {
     "data": {
      "text/latex": [
       "$\\frac{20 s}{\\omega^{2} + s^{2}}$"
      ],
      "text/plain": [
       "  20⋅s \n",
       "───────\n",
       " 2    2\n",
       "ω  + s "
      ]
     },
     "execution_count": 23,
     "metadata": {},
     "output_type": "execute_result"
    }
   ],
   "source": [
    "#Representation of AC voltage source in s domain\n",
    "Vac(20).Voc(s)"
   ]
  },
  {
   "cell_type": "code",
   "execution_count": 24,
   "metadata": {},
   "outputs": [
    {
     "data": {
      "text/latex": [
       "The overall resistance value simplifies to$\\frac{R_{1} R_{2}}{R_{1} + R_{2}}$"
      ],
      "text/plain": [
       "<IPython.core.display.Latex object>"
      ]
     },
     "metadata": {},
     "output_type": "display_data"
    }
   ],
   "source": [
    "display( Latex('The overall resistance value simplifies to'+parallelR.simplify().R._repr_latex_()))"
   ]
  },
  {
   "cell_type": "code",
   "execution_count": 25,
   "metadata": {},
   "outputs": [
    {
     "name": "stdout",
     "output_type": "stream",
     "text": [
      "0\n",
      "1/s\n",
      "1/(C_1*R_1*(s**2 + s/(C_1*R_1)))\n"
     ]
    }
   ],
   "source": [
    "#Transfer function\n",
    "cct = Circuit()\n",
    "cct.add('V1 1 0 {1}')\n",
    "cct.add('R1 1 2')\n",
    "cct.add('C1 2 0 C1 0')\n",
    "\n",
    "print(cct[0].V.s)\n",
    "print(cct[1].V.s)\n",
    "print(cct[2].V.s)"
   ]
  },
  {
   "cell_type": "code",
   "execution_count": 26,
   "metadata": {},
   "outputs": [
    {
     "data": {
      "image/png": "[encoded data removed]",
      "text/plain": [
       "<Figure size 432x288 with 1 Axes>"
      ]
     },
     "metadata": {},
     "output_type": "display_data"
    }
   ],
   "source": [
    "#pole-zero plot\n",
    "from lcapy import s, j, Hs\n",
    "from matplotlib.pyplot import savefig, show\n",
    "\n",
    "H = Hs((s - 2) * (s + 3) / (s * (s - 2 * j) * (s + 2 * j)))\n",
    "H.plot();"
   ]
  },
  {
   "cell_type": "code",
   "execution_count": 27,
   "metadata": {},
   "outputs": [
    {
     "name": "stdout",
     "output_type": "stream",
     "text": [
      "(s - 2)*(s + 3)/(s*(s - 2*j)*(s + 2*j))\n"
     ]
    },
    {
     "data": {
      "text/latex": [
       "$\\frac{\\left(s - 2\\right) \\left(s + 3\\right)}{s \\left(s - 2 j\\right) \\left(s + 2 j\\right)}$"
      ],
      "text/plain": [
       "   (s - 2)⋅(s + 3)   \n",
       "─────────────────────\n",
       "s⋅(s - 2⋅j)⋅(s + 2⋅j)"
      ]
     },
     "execution_count": 27,
     "metadata": {},
     "output_type": "execute_result"
    }
   ],
   "source": [
    "print( str(H) )\n",
    "H"
   ]
  },
  {
   "cell_type": "code",
   "execution_count": 28,
   "metadata": {},
   "outputs": [
    {
     "data": {
      "image/png": "[encoded data removed]",
      "text/plain": [
       "<Figure size 432x288 with 1 Axes>"
      ]
     },
     "metadata": {},
     "output_type": "display_data"
    },
    {
     "data": {
      "image/png": "[encoded data removed]",
      "text/plain": [
       "<Figure size 432x288 with 1 Axes>"
      ]
     },
     "metadata": {},
     "output_type": "display_data"
    }
   ],
   "source": [
    "#bode - just does the amplitude response?\n",
    "from lcapy import s, j, pi, f, Hs\n",
    "from numpy import logspace\n",
    "import matplotlib.pyplot as plt\n",
    "\n",
    "H = Hs((s - 2) * (s + 3) / (s * (s - 2 * j) * (s + 2 * j)))\n",
    "\n",
    "A = H(j * 2 * pi * f)\n",
    "\n",
    "fv = logspace(-1, 4, 400)\n",
    "A.plot(fv, log_scale=True)\n",
    "A.phase_degrees.plot(fv,log_scale=True);"
   ]
  },
  {
   "cell_type": "markdown",
   "metadata": {},
   "source": [
    "## `control`\n",
    "\n",
    "Pyhton [control systems library](https://python-control.readthedocs.io/en/0.8.0/index.html).\n",
    "\n",
    "Can be used for a wide range of control applications and chart generation."
   ]
  },
  {
   "cell_type": "code",
   "execution_count": 1,
   "metadata": {},
   "outputs": [],
   "source": [
    "%matplotlib inline"
   ]
  },
  {
   "cell_type": "code",
   "execution_count": 2,
   "metadata": {},
   "outputs": [
    {
     "data": {
      "text/plain": [
       "A = [[ 1. -2.]\n",
       " [ 3. -4.]]\n",
       "\n",
       "B = [[5.]\n",
       " [7.]]\n",
       "\n",
       "C = [[6. 8.]]\n",
       "\n",
       "D = [[9.]]"
      ]
     },
     "execution_count": 2,
     "metadata": {},
     "output_type": "execute_result"
    }
   ],
   "source": [
    "import control\n",
    "#State space system definition\n",
    "sys=control.ss(\"1. -2; 3. -4\", \"5.; 7\", \"6. 8\", \"9.\")\n",
    "\n",
    "#It would be nice if we could print the sys diagram as LaTeX styled matrices?\n",
    "sys"
   ]
  },
  {
   "cell_type": "code",
   "execution_count": 17,
   "metadata": {},
   "outputs": [
    {
     "data": {
      "text/plain": [
       "matrix([[ 1., -2.],\n",
       "        [ 3., -4.]])"
      ]
     },
     "execution_count": 17,
     "metadata": {},
     "output_type": "execute_result"
    }
   ],
   "source": [
    "sys.A"
   ]
  },
  {
   "cell_type": "code",
   "execution_count": 25,
   "metadata": {},
   "outputs": [
    {
     "data": {
      "text/latex": [
       "\\begin{bmatrix}\n",
       "  1. & -2.\\\\\n",
       "  3. & -4.\\\\\n",
       "\\end{bmatrix}"
      ],
      "text/plain": [
       "<IPython.core.display.Latex object>"
      ]
     },
     "metadata": {},
     "output_type": "display_data"
    },
    {
     "data": {
      "text/latex": [
       "\\begin{bmatrix}\n",
       "  5.\\\\\n",
       "  7.\\\\\n",
       "\\end{bmatrix}"
      ],
      "text/plain": [
       "<IPython.core.display.Latex object>"
      ]
     },
     "metadata": {},
     "output_type": "display_data"
    },
    {
     "data": {
      "text/latex": [
       "\\begin{bmatrix}\n",
       "  6. & 8.\\\\\n",
       "\\end{bmatrix}"
      ],
      "text/plain": [
       "<IPython.core.display.Latex object>"
      ]
     },
     "metadata": {},
     "output_type": "display_data"
    },
    {
     "data": {
      "text/latex": [
       "\\begin{bmatrix}\n",
       "  9.\\\\\n",
       "\\end{bmatrix}"
      ],
      "text/plain": [
       "<IPython.core.display.Latex object>"
      ]
     },
     "metadata": {},
     "output_type": "display_data"
    }
   ],
   "source": [
    "#https://stackoverflow.com/a/17131750/454773\n",
    "\n",
    "#Note that https://pypi.org/project/PyLaTeX/ may also be generally handy???\n",
    "import numpy as np\n",
    "\n",
    "def bmatrix(a):\n",
    "    \"\"\"Returns a LaTeX bmatrix\n",
    "\n",
    "    :a: numpy array\n",
    "    :returns: LaTeX bmatrix as a string\n",
    "    \"\"\"\n",
    "    if len(a.shape) > 2:\n",
    "        raise ValueError('bmatrix can at most display two dimensions')\n",
    "    lines = str(a).replace('[', '').replace(']', '').splitlines()\n",
    "    rv = [r'\\begin{bmatrix}']\n",
    "    rv += ['  ' + ' & '.join(l.split()) + r'\\\\' for l in lines]\n",
    "    rv +=  [r'\\end{bmatrix}']\n",
    "    return '\\n'.join(rv)\n",
    "\n",
    "from IPython.display import display,Latex\n",
    "display(Latex(bmatrix(sys.A)))\n",
    "display(Latex(bmatrix(sys.B)))\n",
    "display(Latex(bmatrix(sys.C)))\n",
    "display(Latex(bmatrix(sys.D)))"
   ]
  },
  {
   "cell_type": "markdown",
   "metadata": {
    "slideshow": {
     "slide_type": "slide"
    }
   },
   "source": [
    "In the `control` diagrams below, `**kwargs` can be passed in to style the matplotlib figure further. It would be handy if could get access the the figure object too? The plotting routines themselves are in [`control/freqplot.py`](https://github.com/python-control/python-control/blob/master/control/freqplot.py)."
   ]
  },
  {
   "cell_type": "markdown",
   "metadata": {},
   "source": [
    "### Nyquist diagrams"
   ]
  },
  {
   "cell_type": "code",
   "execution_count": 10,
   "metadata": {},
   "outputs": [
    {
     "data": {
      "image/png": "[encoded data removed]",
      "text/plain": [
       "<Figure size 432x288 with 1 Axes>"
      ]
     },
     "metadata": {},
     "output_type": "display_data"
    }
   ],
   "source": [
    "real, imag, freq = control.nyquist_plot(sys, omega=None, Plot=True, color='b', labelFreq=0)"
   ]
  },
  {
   "cell_type": "markdown",
   "metadata": {},
   "source": [
    "### Bode plots"
   ]
  },
  {
   "cell_type": "code",
   "execution_count": 8,
   "metadata": {},
   "outputs": [
    {
     "data": {
      "image/png": "[encoded data removed]",
      "text/plain": [
       "<Figure size 432x288 with 2 Axes>"
      ]
     },
     "metadata": {},
     "output_type": "display_data"
    }
   ],
   "source": [
    "#sys = ss(\"1. -2; 3. -4\", \"5.; 7\", \"6. 8\", \"9.\")\n",
    "mag, phase, omega = control.bode(sys)"
   ]
  },
  {
   "cell_type": "markdown",
   "metadata": {},
   "source": [
    "## *Circuit Sandbox*\n",
    "\n",
    "The [Circuit Sandbox](https://github.com/willymcallister/circuit-sandbox) is a simple, standalone Javascript circuit simulator that we can embed in a notebook or [run in its own browser tab](js/circuit-sandbox-master/index.html).\n",
    "\n",
    "The *Circuit Sandbox* can save and load simple netlists (*I don't know if these can then be used by other packages?*)"
   ]
  },
  {
   "cell_type": "code",
   "execution_count": 63,
   "metadata": {
    "scrolled": false
   },
   "outputs": [
    {
     "data": {
      "text/html": [
       "\n",
       "        <iframe\n",
       "            width=\"1000\"\n",
       "            height=\"600\"\n",
       "            src=\"js/circuit-sandbox-master/index-mobile.html\"\n",
       "            frameborder=\"0\"\n",
       "            allowfullscreen\n",
       "        ></iframe>\n",
       "        "
      ],
      "text/plain": [
       "<IPython.lib.display.IFrame at 0x7f7f91365208>"
      ]
     },
     "execution_count": 63,
     "metadata": {},
     "output_type": "execute_result"
    }
   ],
   "source": [
    "from IPython.display import IFrame\n",
    "IFrame('js/circuit-sandbox-master/index-mobile.html', width=1000,height=600)"
   ]
  },
  {
   "cell_type": "markdown",
   "metadata": {},
   "source": [
    "## Digital Circuit Simulator\n",
    "\n",
    "`simcirjs` [[docs](https://github.com/kazuhikoarase/simcirjs)) is a syandalone Javascript digital circuit simulator that we can embed in a notebook or [run in its own browser tab](js/simcirjs-master/sample.html)."
   ]
  },
  {
   "cell_type": "code",
   "execution_count": 64,
   "metadata": {},
   "outputs": [
    {
     "data": {
      "text/html": [
       "\n",
       "        <iframe\n",
       "            width=\"600\"\n",
       "            height=\"300\"\n",
       "            src=\"js/simcirjs-master/blank.html\"\n",
       "            frameborder=\"0\"\n",
       "            allowfullscreen\n",
       "        ></iframe>\n",
       "        "
      ],
      "text/plain": [
       "<IPython.lib.display.IFrame at 0x7f7f91313d30>"
      ]
     },
     "execution_count": 64,
     "metadata": {},
     "output_type": "execute_result"
    }
   ],
   "source": [
    "#!ls js/simcirjs-master/\n",
    "from IPython.display import IFrame\n",
    "IFrame('js/simcirjs-master/blank.html', width=600,height=300)"
   ]
  },
  {
   "cell_type": "markdown",
   "metadata": {},
   "source": [
    "### `ahkab`\n",
    "\n",
    "[`ahkab`](https://ahkab.readthedocs.io/en/latest/index.html) is an open-source SPICE-like interactive circuit simulator.\n",
    "\n",
    "*Unfortunately, it doesn't render the schematic diagram from the circuit description. It would be useful if we `ahkab` could work with something like `schemdraw` to support such a dual behaviour from the same circuit descrpition.*\n",
    "\n",
    "The examples below are based on the original documentation."
   ]
  },
  {
   "cell_type": "code",
   "execution_count": 65,
   "metadata": {
    "collapsed": true
   },
   "outputs": [],
   "source": [
    "import ahkab"
   ]
  },
  {
   "cell_type": "code",
   "execution_count": 66,
   "metadata": {},
   "outputs": [
    {
     "name": "stdout",
     "output_type": "stream",
     "text": [
      "OP simulation results for 'Simple Example Circuit'.\n",
      "Run on 2017-12-08 22:28:25, data file /tmp/tmp_k1yz97v.op.\n",
      "Variable    Units        Value         Error    %\n",
      "----------  -------  ---------  ------------  ---\n",
      "VN1         V        -3.86364    3.86358e-12    0\n",
      "VN2         V         4.13636   -4.13591e-12    0\n",
      "VN3         V         8.13636   -8.13602e-12    0\n",
      "VN4         V        10         -1.00027e-11    0\n",
      "I(V1)       A        -0.772727   0              0\n",
      "I(V2)       A        -0.170455   0              0\n",
      "I(V3)       A        -3.32955    0              0\n"
     ]
    }
   ],
   "source": [
    "cct = ahkab.Circuit('Simple Example Circuit')\n",
    "\n",
    "cct.add_resistor('R1', 'n1', cct.gnd, value=5)\n",
    "cct.add_vsource('V1', 'n2', 'n1', dc_value=8)\n",
    "cct.add_resistor('R2', 'n2', cct.gnd, value=2)\n",
    "cct.add_vsource('V2', 'n3', 'n2', dc_value=4)\n",
    "cct.add_resistor('R3', 'n3', cct.gnd, value=4)\n",
    "cct.add_resistor('R4', 'n3', 'n4', value=1)\n",
    "cct.add_vsource('V3', 'n4', cct.gnd, dc_value=10)\n",
    "cct.add_resistor('R5', 'n2', 'n4', value=4)\n",
    "\n",
    "opa = ahkab.new_op()\n",
    "r = ahkab.run(cct, opa)['op']\n",
    "print(r)"
   ]
  },
  {
   "cell_type": "markdown",
   "metadata": {
    "collapsed": true
   },
   "source": [
    "## Boolean Algebra - `PyEDA`\n",
    "\n",
    "`PyEDA` is a [Python package for exploring Boolean algebra](http://pyeda.readthedocs.io/en/latest/boolalg.html)."
   ]
  },
  {
   "cell_type": "code",
   "execution_count": 67,
   "metadata": {
    "collapsed": true
   },
   "outputs": [],
   "source": [
    "from pyeda.inter import *\n",
    "\n",
    "A = exprvar('A')\n",
    "B = exprvar('B')\n",
    "C = exprvar('C')"
   ]
  },
  {
   "cell_type": "code",
   "execution_count": 68,
   "metadata": {},
   "outputs": [
    {
     "data": {
      "text/plain": [
       "And(A, B)"
      ]
     },
     "execution_count": 68,
     "metadata": {},
     "output_type": "execute_result"
    }
   ],
   "source": [
    "A & B"
   ]
  },
  {
   "cell_type": "code",
   "execution_count": 69,
   "metadata": {},
   "outputs": [
    {
     "data": {
      "text/plain": [
       "And(A, ~B)"
      ]
     },
     "execution_count": 69,
     "metadata": {},
     "output_type": "execute_result"
    }
   ],
   "source": [
    "A & ~B"
   ]
  },
  {
   "cell_type": "code",
   "execution_count": 70,
   "metadata": {},
   "outputs": [
    {
     "data": {
      "text/plain": [
       "And(Or(A, B), C)"
      ]
     },
     "execution_count": 70,
     "metadata": {},
     "output_type": "execute_result"
    }
   ],
   "source": [
    "(A | B) & C"
   ]
  },
  {
   "cell_type": "code",
   "execution_count": 71,
   "metadata": {},
   "outputs": [
    {
     "data": {
      "text/plain": [
       "Xor(A, B)"
      ]
     },
     "execution_count": 71,
     "metadata": {},
     "output_type": "execute_result"
    }
   ],
   "source": [
    "A ^ B"
   ]
  },
  {
   "cell_type": "code",
   "execution_count": 72,
   "metadata": {},
   "outputs": [
    {
     "data": {
      "text/plain": [
       "B A\n",
       "0 0 : 0\n",
       "0 1 : 1\n",
       "1 0 : 0\n",
       "1 1 : 0"
      ]
     },
     "execution_count": 72,
     "metadata": {},
     "output_type": "execute_result"
    }
   ],
   "source": [
    "expr2truthtable(A & ~B)"
   ]
  },
  {
   "cell_type": "code",
   "execution_count": 73,
   "metadata": {},
   "outputs": [
    {
     "data": {
      "text/plain": [
       "C B A\n",
       "0 0 0 : 0\n",
       "0 0 1 : 0\n",
       "0 1 0 : 0\n",
       "0 1 1 : 1\n",
       "1 0 0 : 0\n",
       "1 0 1 : 1\n",
       "1 1 0 : 0\n",
       "1 1 1 : 1"
      ]
     },
     "execution_count": 73,
     "metadata": {},
     "output_type": "execute_result"
    }
   ],
   "source": [
    "expr2truthtable( Or(And(A, B), And(A, C)) )"
   ]
  },
  {
   "cell_type": "code",
   "execution_count": 74,
   "metadata": {},
   "outputs": [
    {
     "data": {
      "text/plain": [
       "Y X\n",
       "0 0 : 0\n",
       "0 1 : 0\n",
       "1 0 : 0\n",
       "1 1 : 1"
      ]
     },
     "execution_count": 74,
     "metadata": {},
     "output_type": "execute_result"
    }
   ],
   "source": [
    "expr2truthtable( And('X', 'Y') )"
   ]
  },
  {
   "cell_type": "code",
   "execution_count": 75,
   "metadata": {},
   "outputs": [
    {
     "data": {
      "text/plain": [
       "A B C\n",
       "0 0 0 : 0\n",
       "0 0 1 : 0\n",
       "0 1 0 : 0\n",
       "0 1 1 : 1\n",
       "1 0 0 : 0\n",
       "1 0 1 : 1\n",
       "1 1 0 : 1\n",
       "1 1 1 : 1"
      ]
     },
     "execution_count": 75,
     "metadata": {},
     "output_type": "execute_result"
    }
   ],
   "source": [
    "tt = truthtable(reversed([A,B,C]), \"00010111\")\n",
    "tt"
   ]
  },
  {
   "cell_type": "code",
   "execution_count": 76,
   "metadata": {},
   "outputs": [
    {
     "data": {
      "text/plain": [
       "Or(And(~A, B, C), And(A, ~B, C), And(A, B, ~C), And(A, B, C))"
      ]
     },
     "execution_count": 76,
     "metadata": {},
     "output_type": "execute_result"
    }
   ],
   "source": [
    "truthtable2expr( tt ) "
   ]
  },
  {
   "cell_type": "code",
   "execution_count": null,
   "metadata": {
    "collapsed": true
   },
   "outputs": [],
   "source": []
  }
 ],
 "metadata": {
  "hide_input": false,
  "kernelspec": {
   "display_name": "Python 3",
   "language": "python",
   "name": "python3"
  },
  "language_info": {
   "codemirror_mode": {
    "name": "ipython",
    "version": 3
   },
   "file_extension": ".py",
   "mimetype": "text/x-python",
   "name": "python",
   "nbconvert_exporter": "python",
   "pygments_lexer": "ipython3",
   "version": "3.6.5"
  }
 },
 "nbformat": 4,
 "nbformat_minor": 2
}

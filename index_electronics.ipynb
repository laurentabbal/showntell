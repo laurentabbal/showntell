{
 "cells": [
  {
   "cell_type": "markdown",
   "metadata": {},
   "source": [
    "# Jupyter Notebook - Electronics Demos\n",
    "This notebook demonstrates several packages that can be used to support the creation of assets relating to *electronics*."
   ]
  },
  {
   "cell_type": "code",
   "execution_count": 24,
   "metadata": {},
   "outputs": [],
   "source": [
    "%matplotlib inline"
   ]
  },
  {
   "cell_type": "markdown",
   "metadata": {},
   "source": [
    "## Drawing Electrical Circuit Diagrams / Schematics\n",
    "\n",
    "One way of using the notebooks is an an envionment to support the creation of schematic diagrams."
   ]
  },
  {
   "cell_type": "markdown",
   "metadata": {},
   "source": [
    "### `schemdraw`\n",
    "\n",
    "The `schemdraw` package can be used to write descriptions of electrical circuit diagrams.\n",
    "\n",
    "Examples: https://cdelker.bitbucket.io/SchemDraw/SchemDraw.html\n",
    "\n",
    "\n",
    "We can parameterise values to allow us to refer to diagrams in text using similar values."
   ]
  },
  {
   "cell_type": "code",
   "execution_count": 2,
   "metadata": {},
   "outputs": [],
   "source": [
    "import SchemDraw as schem\n",
    "import SchemDraw.elements as e"
   ]
  },
  {
   "cell_type": "code",
   "execution_count": 55,
   "metadata": {
    "collapsed": true
   },
   "outputs": [],
   "source": [
    "#Would be nice if we could find a way of handling units better?\n",
    "#Maybe a package that gets this from value and chooses unit modifier appropriately?\n",
    "\n",
    "R=100 * 10**3\n",
    "V=10\n",
    "C=0.1 * 10**-6\n",
    "\n",
    "V_str='{V}V'.format(V=V)\n",
    "R_str='{R}K$\\Omega$'.format(R=R/10**3)\n",
    "C_str='{C}$\\mu$F'.format(C=C/10**-6)\n",
    "    \n",
    "d = schem.Drawing()\n",
    "V1 = d.add(e.SOURCE_V, label=V_str)\n",
    "d.add(e.RES, d='right', label=R_str)\n",
    "d.add(e.CAP, d='down', botlabel=C_str)\n",
    "d.add(e.LINE, to=V1.start);"
   ]
  },
  {
   "cell_type": "markdown",
   "metadata": {},
   "source": [
    "The following circuit shows a {{print(V_str)}} source connected in series to a {{R_str}} resistor and a {{print(C_str)}} capacitor.\n",
    "\n",
    "{{d.draw()}}\n",
    "\n",
    "*Double click on the cell to see how the components are embedded.*"
   ]
  },
  {
   "cell_type": "markdown",
   "metadata": {},
   "source": [
    "We can also update diagrams dynamically:"
   ]
  },
  {
   "cell_type": "code",
   "execution_count": 3,
   "metadata": {},
   "outputs": [
    {
     "data": {
      "image/png": "[encoded data removed]",
      "text/plain": [
       "<Figure size 246.78x128.97 with 1 Axes>"
      ]
     },
     "metadata": {},
     "output_type": "display_data"
    }
   ],
   "source": [
    "from ipywidgets import interact\n",
    "import ipywidgets\n",
    "import matplotlib.pyplot as plt    \n",
    "\n",
    "@interact(V=ipywidgets.IntSlider(min=0,max=15,step=1,value=5),\n",
    "          R=ipywidgets.IntSlider(min=100,max=1500,step=100,value=100),\n",
    "          C=ipywidgets.IntSlider(min=0,max=15,step=1,value=1))\n",
    "def schem_demo(V, R, C, xkcdmode=False):\n",
    "    if xkcdmode: plt.xkcd()\n",
    "    d = schem.Drawing()\n",
    "    V1 = d.add(e.SOURCE_V, label='{}V'.format(V))\n",
    "    d.add(e.LINE, d='right', l=d.unit*.75)\n",
    "    S1 = d.add(e.SWITCH_SPDT2_CLOSE, d='up', anchor='b', rgtlabel='$t=0$')\n",
    "    d.add(e.LINE, d='right', xy=S1.c,  l=d.unit*.75)\n",
    "    d.add(e.RES, d='down', label='${}\\Omega$'.format(R), botlabel=['+','$v_o$','-'])\n",
    "    d.add(e.LINE, to=V1.start)\n",
    "    d.add(e.CAP, xy=S1.a, d='down', toy=V1.start, label='{}$\\mu$F'.format(C))\n",
    "    d.add(e.DOT)\n",
    "    d.draw(showplot=False)"
   ]
  },
  {
   "cell_type": "markdown",
   "metadata": {},
   "source": [
    "### `circuitikz`\n",
    "\n",
    "Draw circuits using `circuitikz`."
   ]
  },
  {
   "cell_type": "code",
   "execution_count": 4,
   "metadata": {},
   "outputs": [],
   "source": [
    "%load_ext tikz_magic"
   ]
  },
  {
   "cell_type": "code",
   "execution_count": 5,
   "metadata": {},
   "outputs": [
    {
     "data": {
      "image/png": "[encoded data removed]",
      "text/plain": [
       "<IPython.core.display.Image object>"
      ]
     },
     "execution_count": 5,
     "metadata": {},
     "output_type": "execute_result"
    }
   ],
   "source": [
    "%%tikz -p circuitikz,gnuplottex -s 0.3\n",
    "%Example circuit from: https://tex.stackexchange.com/a/379915\n",
    "[every pin/.append style={align=left, text=blue}]\n",
    "  \\draw\n",
    "  (0, 0) node[op amp] (opamp) {}\n",
    "  (opamp.-) to[short,-o] (-2, 0.5)\n",
    "  (opamp.-) to[short,*-] ++(0,1.5) coordinate (leftC)\n",
    "            to[C]           (leftC -| opamp.out)\n",
    "            to[short,-*]    (opamp.out)\n",
    "            to[short,-o] ++ (0.5,0)\n",
    "  (leftC)   to[short,*-] ++ (0,1)  coordinate (leftR) \n",
    "            to[R]           (leftR -| opamp.out)\n",
    "            to[short,-*]    (leftC -| opamp.out)\n",
    "   (opamp.+) -- ++ (0,-0.5) node[ground] {};"
   ]
  },
  {
   "cell_type": "code",
   "execution_count": 6,
   "metadata": {},
   "outputs": [
    {
     "data": {
      "image/png": "[encoded data removed]",
      "text/plain": [
       "<IPython.core.display.Image object>"
      ]
     },
     "execution_count": 6,
     "metadata": {},
     "output_type": "execute_result"
    }
   ],
   "source": [
    "cct=r'''\n",
    "  \\draw\n",
    "  (0, 0) node[op amp] (opamp) {}\n",
    "  (opamp.-) to[short,-o] (-2, 0.5)\n",
    "  (opamp.-) to[short,*-] ++(0,1.5) coordinate (leftC)\n",
    "            to[C]           (leftC -| opamp.out)\n",
    "            to[short,-*]    (opamp.out)\n",
    "            to[short,-o] ++ (0.5,0)\n",
    "  (leftC)   to[short,*-] ++ (0,1)  coordinate (leftR) \n",
    "            to[R]           (leftR -| opamp.out)\n",
    "            to[short,-*]    (leftC -| opamp.out)\n",
    "   (opamp.+) -- ++ (0,-0.5) node[ground] {};'''\n",
    "\n",
    "%tikz -p circuitikz -s 0.3 --var cct"
   ]
  },
  {
   "cell_type": "code",
   "execution_count": 7,
   "metadata": {},
   "outputs": [
    {
     "name": "stdout",
     "output_type": "stream",
     "text": [
      "/usr/share/texlive/texmf-dist/tex/latex/bodegraph/bodegraph.sty\r\n"
     ]
    }
   ],
   "source": [
    "!kpsewhich bodegraph.sty "
   ]
  },
  {
   "cell_type": "code",
   "execution_count": 61,
   "metadata": {},
   "outputs": [
    {
     "name": "stdout",
     "output_type": "stream",
     "text": [
      "/usr/share/texlive/texmf-dist/tex/latex/circuitikz/circuitikz.sty\r\n"
     ]
    }
   ],
   "source": [
    "!kpsewhich circuitikz.sty"
   ]
  },
  {
   "cell_type": "markdown",
   "metadata": {},
   "source": [
    "## Simulating Circuits\n",
    "\n",
    "As well as drawing circuits, there several different approaches to simulating circuit behaviour."
   ]
  },
  {
   "cell_type": "markdown",
   "metadata": {},
   "source": [
    "### Circuit Analysis - `lcapy`\n",
    "\n",
    "`lcapy` is a linear circuit analysis package.\n",
    "\n",
    "Whilst the analysis seems buggy at the moment, we can still render circuits."
   ]
  },
  {
   "cell_type": "code",
   "execution_count": 2,
   "metadata": {},
   "outputs": [],
   "source": [
    "%%capture\n",
    "#It seems as if lcapy, as of 7/9/18 doesn't work with current symp 1.2+\n",
    "!pip install --upgrade sympy==1.1"
   ]
  },
  {
   "cell_type": "code",
   "execution_count": 25,
   "metadata": {},
   "outputs": [
    {
     "data": {
      "image/png": "[encoded data removed]"
     },
     "metadata": {
      "image/png": {
       "height": 100,
       "width": 200
      }
     },
     "output_type": "display_data"
    }
   ],
   "source": [
    "from lcapy import Circuit, j, omega\n",
    "\n",
    "cct = Circuit()\n",
    "cct.add(\"\"\"\n",
    "Vi 1 0_1 step 20; down\n",
    "C 1 2; right, size=1.5\n",
    "R 2 0; down\n",
    "W 0_1 0; right\n",
    "W 0 0_2; right, size=0.5\n",
    "P1 2_2 0_2; down\n",
    "W 2 2_2;right, size=0.5\"\"\")\n",
    "\n",
    "cct.draw()"
   ]
  },
  {
   "cell_type": "code",
   "execution_count": 26,
   "metadata": {},
   "outputs": [
    {
     "data": {
      "text/latex": [
       "$\\frac{C R s}{C R s + 1}$"
      ],
      "text/plain": [
       "  C⋅R⋅s  \n",
       "─────────\n",
       "C⋅R⋅s + 1"
      ]
     },
     "execution_count": 26,
     "metadata": {},
     "output_type": "execute_result"
    }
   ],
   "source": [
    "H = (cct.R.V('s') / cct.Vi.V('s')).simplify()\n",
    "H"
   ]
  },
  {
   "cell_type": "code",
   "execution_count": 27,
   "metadata": {},
   "outputs": [
    {
     "name": "stdout",
     "output_type": "stream",
     "text": [
      "Enabling notebook extension jupyter-js-widgets/extension...\r\n",
      "      - Validating: \u001b[32mOK\u001b[0m\r\n"
     ]
    }
   ],
   "source": [
    "!jupyter nbextension enable --py widgetsnbextension"
   ]
  },
  {
   "cell_type": "code",
   "execution_count": 42,
   "metadata": {
    "scrolled": false
   },
   "outputs": [
    {
     "data": {
      "application/vnd.jupyter.widget-view+json": {
       "model_id": "ae697f31999e45b9a73022d93f4b9bb3",
       "version_major": 2,
       "version_minor": 0
      },
      "text/plain": [
       "A Jupyter Widget"
      ]
     },
     "metadata": {},
     "output_type": "display_data"
    }
   ],
   "source": [
    "from ipywidgets import interact\n",
    "from lcapy import Circuit\n",
    "\n",
    "@interact(R=(1,10,1))\n",
    "def response(R=1):\n",
    "    cct = Circuit()\n",
    "\n",
    "    cct.add('V 0_1 0 step 10;down')\n",
    "    cct.add('L 0_1 0_2 1e-3;right')\n",
    "    cct.add('C 0_2 1 1e-4;right')\n",
    "    cct.add('R 1 0_4 {R};down'.format(R=R))\n",
    "    cct.add('W 0_4 0; left')\n",
    "\n",
    "    import numpy as np\n",
    "    t = np.linspace(0, 0.01, 1000)\n",
    "    vr = cct.R.v.evaluate(t)\n",
    "\n",
    "    from matplotlib.pyplot import figure, savefig\n",
    "    fig = figure()\n",
    "    ax = fig.add_subplot(111, title='Resistor voltage (R={}$\\Omega$)'.format(R))\n",
    "    ax.plot(t, vr, linewidth=2)\n",
    "    ax.set_xlabel('Time (s)')\n",
    "    ax.set_ylabel('Resistor voltage (V)')\n",
    "    ax.grid(True)\n",
    "    \n",
    "    cct.draw()"
   ]
  },
  {
   "cell_type": "markdown",
   "metadata": {},
   "source": [
    "## *Circuit Sandbox*\n",
    "\n",
    "The [Circuit Sandbox](https://github.com/willymcallister/circuit-sandbox) is a simple, standalone Javascript circuit simulator that we can embed in a notebook or [run in its own browser tab](js/circuit-sandbox-master/index.html).\n",
    "\n",
    "The *Circuit Sandbox* can save and load simple netlists (*I don't know if these can then be used by other packages?*)"
   ]
  },
  {
   "cell_type": "code",
   "execution_count": 63,
   "metadata": {
    "scrolled": false
   },
   "outputs": [
    {
     "data": {
      "text/html": [
       "\n",
       "        <iframe\n",
       "            width=\"1000\"\n",
       "            height=\"600\"\n",
       "            src=\"js/circuit-sandbox-master/index-mobile.html\"\n",
       "            frameborder=\"0\"\n",
       "            allowfullscreen\n",
       "        ></iframe>\n",
       "        "
      ],
      "text/plain": [
       "<IPython.lib.display.IFrame at 0x7f7f91365208>"
      ]
     },
     "execution_count": 63,
     "metadata": {},
     "output_type": "execute_result"
    }
   ],
   "source": [
    "from IPython.display import IFrame\n",
    "IFrame('js/circuit-sandbox-master/index-mobile.html', width=1000,height=600)"
   ]
  },
  {
   "cell_type": "markdown",
   "metadata": {},
   "source": [
    "## Digital Circuit Simulator\n",
    "\n",
    "`simcirjs` [[docs](https://github.com/kazuhikoarase/simcirjs)) is a syandalone Javascript digital circuit simulator that we can embed in a notebook or [run in its own browser tab](js/simcirjs-master/sample.html)."
   ]
  },
  {
   "cell_type": "code",
   "execution_count": 64,
   "metadata": {},
   "outputs": [
    {
     "data": {
      "text/html": [
       "\n",
       "        <iframe\n",
       "            width=\"600\"\n",
       "            height=\"300\"\n",
       "            src=\"js/simcirjs-master/blank.html\"\n",
       "            frameborder=\"0\"\n",
       "            allowfullscreen\n",
       "        ></iframe>\n",
       "        "
      ],
      "text/plain": [
       "<IPython.lib.display.IFrame at 0x7f7f91313d30>"
      ]
     },
     "execution_count": 64,
     "metadata": {},
     "output_type": "execute_result"
    }
   ],
   "source": [
    "#!ls js/simcirjs-master/\n",
    "from IPython.display import IFrame\n",
    "IFrame('js/simcirjs-master/blank.html', width=600,height=300)"
   ]
  },
  {
   "cell_type": "markdown",
   "metadata": {},
   "source": [
    "### `ahkab`\n",
    "\n",
    "[`ahkab`](https://ahkab.readthedocs.io/en/latest/index.html) is an open-source SPICE-like interactive circuit simulator.\n",
    "\n",
    "*Unfortunately, it doesn't render the schematic diagram from the circuit description. It would be useful if we `ahkab` could work with something like `schemdraw` to support such a dual behaviour from the same circuit descrpition.*\n",
    "\n",
    "The examples below are based on the original documentation."
   ]
  },
  {
   "cell_type": "code",
   "execution_count": 65,
   "metadata": {
    "collapsed": true
   },
   "outputs": [],
   "source": [
    "import ahkab"
   ]
  },
  {
   "cell_type": "code",
   "execution_count": 66,
   "metadata": {},
   "outputs": [
    {
     "name": "stdout",
     "output_type": "stream",
     "text": [
      "OP simulation results for 'Simple Example Circuit'.\n",
      "Run on 2017-12-08 22:28:25, data file /tmp/tmp_k1yz97v.op.\n",
      "Variable    Units        Value         Error    %\n",
      "----------  -------  ---------  ------------  ---\n",
      "VN1         V        -3.86364    3.86358e-12    0\n",
      "VN2         V         4.13636   -4.13591e-12    0\n",
      "VN3         V         8.13636   -8.13602e-12    0\n",
      "VN4         V        10         -1.00027e-11    0\n",
      "I(V1)       A        -0.772727   0              0\n",
      "I(V2)       A        -0.170455   0              0\n",
      "I(V3)       A        -3.32955    0              0\n"
     ]
    }
   ],
   "source": [
    "cct = ahkab.Circuit('Simple Example Circuit')\n",
    "\n",
    "cct.add_resistor('R1', 'n1', cct.gnd, value=5)\n",
    "cct.add_vsource('V1', 'n2', 'n1', dc_value=8)\n",
    "cct.add_resistor('R2', 'n2', cct.gnd, value=2)\n",
    "cct.add_vsource('V2', 'n3', 'n2', dc_value=4)\n",
    "cct.add_resistor('R3', 'n3', cct.gnd, value=4)\n",
    "cct.add_resistor('R4', 'n3', 'n4', value=1)\n",
    "cct.add_vsource('V3', 'n4', cct.gnd, dc_value=10)\n",
    "cct.add_resistor('R5', 'n2', 'n4', value=4)\n",
    "\n",
    "opa = ahkab.new_op()\n",
    "r = ahkab.run(cct, opa)['op']\n",
    "print(r)"
   ]
  },
  {
   "cell_type": "markdown",
   "metadata": {
    "collapsed": true
   },
   "source": [
    "## Boolean Algebra - `PyEDA`\n",
    "\n",
    "`PyEDA` is a [Python package for exploring Boolean algebra](http://pyeda.readthedocs.io/en/latest/boolalg.html)."
   ]
  },
  {
   "cell_type": "code",
   "execution_count": 67,
   "metadata": {
    "collapsed": true
   },
   "outputs": [],
   "source": [
    "from pyeda.inter import *\n",
    "\n",
    "A = exprvar('A')\n",
    "B = exprvar('B')\n",
    "C = exprvar('C')"
   ]
  },
  {
   "cell_type": "code",
   "execution_count": 68,
   "metadata": {},
   "outputs": [
    {
     "data": {
      "text/plain": [
       "And(A, B)"
      ]
     },
     "execution_count": 68,
     "metadata": {},
     "output_type": "execute_result"
    }
   ],
   "source": [
    "A & B"
   ]
  },
  {
   "cell_type": "code",
   "execution_count": 69,
   "metadata": {},
   "outputs": [
    {
     "data": {
      "text/plain": [
       "And(A, ~B)"
      ]
     },
     "execution_count": 69,
     "metadata": {},
     "output_type": "execute_result"
    }
   ],
   "source": [
    "A & ~B"
   ]
  },
  {
   "cell_type": "code",
   "execution_count": 70,
   "metadata": {},
   "outputs": [
    {
     "data": {
      "text/plain": [
       "And(Or(A, B), C)"
      ]
     },
     "execution_count": 70,
     "metadata": {},
     "output_type": "execute_result"
    }
   ],
   "source": [
    "(A | B) & C"
   ]
  },
  {
   "cell_type": "code",
   "execution_count": 71,
   "metadata": {},
   "outputs": [
    {
     "data": {
      "text/plain": [
       "Xor(A, B)"
      ]
     },
     "execution_count": 71,
     "metadata": {},
     "output_type": "execute_result"
    }
   ],
   "source": [
    "A ^ B"
   ]
  },
  {
   "cell_type": "code",
   "execution_count": 72,
   "metadata": {},
   "outputs": [
    {
     "data": {
      "text/plain": [
       "B A\n",
       "0 0 : 0\n",
       "0 1 : 1\n",
       "1 0 : 0\n",
       "1 1 : 0"
      ]
     },
     "execution_count": 72,
     "metadata": {},
     "output_type": "execute_result"
    }
   ],
   "source": [
    "expr2truthtable(A & ~B)"
   ]
  },
  {
   "cell_type": "code",
   "execution_count": 73,
   "metadata": {},
   "outputs": [
    {
     "data": {
      "text/plain": [
       "C B A\n",
       "0 0 0 : 0\n",
       "0 0 1 : 0\n",
       "0 1 0 : 0\n",
       "0 1 1 : 1\n",
       "1 0 0 : 0\n",
       "1 0 1 : 1\n",
       "1 1 0 : 0\n",
       "1 1 1 : 1"
      ]
     },
     "execution_count": 73,
     "metadata": {},
     "output_type": "execute_result"
    }
   ],
   "source": [
    "expr2truthtable( Or(And(A, B), And(A, C)) )"
   ]
  },
  {
   "cell_type": "code",
   "execution_count": 74,
   "metadata": {},
   "outputs": [
    {
     "data": {
      "text/plain": [
       "Y X\n",
       "0 0 : 0\n",
       "0 1 : 0\n",
       "1 0 : 0\n",
       "1 1 : 1"
      ]
     },
     "execution_count": 74,
     "metadata": {},
     "output_type": "execute_result"
    }
   ],
   "source": [
    "expr2truthtable( And('X', 'Y') )"
   ]
  },
  {
   "cell_type": "code",
   "execution_count": 75,
   "metadata": {},
   "outputs": [
    {
     "data": {
      "text/plain": [
       "A B C\n",
       "0 0 0 : 0\n",
       "0 0 1 : 0\n",
       "0 1 0 : 0\n",
       "0 1 1 : 1\n",
       "1 0 0 : 0\n",
       "1 0 1 : 1\n",
       "1 1 0 : 1\n",
       "1 1 1 : 1"
      ]
     },
     "execution_count": 75,
     "metadata": {},
     "output_type": "execute_result"
    }
   ],
   "source": [
    "tt = truthtable(reversed([A,B,C]), \"00010111\")\n",
    "tt"
   ]
  },
  {
   "cell_type": "code",
   "execution_count": 76,
   "metadata": {},
   "outputs": [
    {
     "data": {
      "text/plain": [
       "Or(And(~A, B, C), And(A, ~B, C), And(A, B, ~C), And(A, B, C))"
      ]
     },
     "execution_count": 76,
     "metadata": {},
     "output_type": "execute_result"
    }
   ],
   "source": [
    "truthtable2expr( tt ) "
   ]
  },
  {
   "cell_type": "code",
   "execution_count": null,
   "metadata": {
    "collapsed": true
   },
   "outputs": [],
   "source": []
  }
 ],
 "metadata": {
  "hide_input": false,
  "kernelspec": {
   "display_name": "Python 3",
   "language": "python",
   "name": "python3"
  },
  "language_info": {
   "codemirror_mode": {
    "name": "ipython",
    "version": 3
   },
   "file_extension": ".py",
   "mimetype": "text/x-python",
   "name": "python",
   "nbconvert_exporter": "python",
   "pygments_lexer": "ipython3",
   "version": "3.6.5"
  }
 },
 "nbformat": 4,
 "nbformat_minor": 2
}

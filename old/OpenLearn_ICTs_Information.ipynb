{
 "cells": [
  {
   "cell_type": "markdown",
   "metadata": {},
   "source": [
    "# Jupyter Notebook Demo - `electronics`\n",
    "\n",
    "This notebook demonstrates how it is possible to use Jupyter Notebooks to create rich instructional materials in the *electroncs* subject area.\n",
    "\n",
    "The notebook includes reworked examples taken from the OpenLearn course [ICTs: Information](http://www.open.edu/openlearn/science-maths-technology/computing-and-ict/information-and-communication-technologies/icts-information/content-section-0?active-tab=content-tab), and in particular the section on [4.4.1 Voltage, current and resistance](http://www.open.edu/openlearn/science-maths-technology/computing-and-ict/information-and-communication-technologies/icts-information/content-section-4.4.1)\n",
    "\n",
    "---\n"
   ]
  },
  {
   "cell_type": "code",
   "execution_count": 4,
   "metadata": {},
   "outputs": [],
   "source": [
    "from sympy import *\n",
    "from sympy import init_printing\n",
    "init_printing()"
   ]
  },
  {
   "cell_type": "code",
   "execution_count": 5,
   "metadata": {},
   "outputs": [],
   "source": [
    "i,v,r=symbols(['i','v','r'])\n",
    "\n",
    "#How do we write the equation just once for same effect?\n",
    "exp=Eq(i,v/r)\n",
    "i=v/r"
   ]
  },
  {
   "cell_type": "markdown",
   "metadata": {
    "variables": {
     "exp": "$$i = \\frac{v}{r}$$"
    }
   },
   "source": [
    "## 4.4.1 Voltage, current and resistance\n",
    "*Voltage* (or, more correctly, electromotive force, emf – but I shall follow common practice and just say voltage) is a measure of the force with which electricity is 'pushed'. Nothing happens, however, unless there is an electric circuit, which is a path from one terminal of a voltage source (the battery, in this case) to the other, along which the electricity can flow (Figure 12).\n",
    "\n",
    "An electric circuit\n",
    "Figure 12 An electric circuit\n",
    "If there is an electric circuit, the rate at which electricity flows is determined by the nature of the circuit and the value of the battery's voltage. To quantify the rate at which electricity flows we need to know how much the circuit allows or resists the flow of electricity, and this is determined by a measure known as *resistance*.\n",
    "\n",
    "If a circuit has a high resistance, little electricity flows for a given voltage. If it has a low resistance, a lot of electricity flows. Resistance is measured in units called ohms, and the rate of flow of electricity is measured in units called amps. The rate of electricity flow, which we call the electric current, in amps is calculated by dividing the battery voltage in volts by the circuit resistance in ohms.\n",
    "\n",
    "That is:\n",
    "\n",
    "$\\text{Current in amps}=\\frac{\\text{voltage in volts}}{\\text{resistance in ohms}}$\n",
    "\n",
    "Qualitatively, you might be able to see that this is plausible. The bigger the voltage (the stronger the push), the more current will flow. The bigger the resistance, on the other hand, the smaller the current.\n",
    "\n",
    "The convention is to use symbols, $i$ for current, $v$ for voltage and $r$ for resistance, so we write:\n",
    "\n",
    "{{exp}}"
   ]
  },
  {
   "cell_type": "code",
   "execution_count": 6,
   "metadata": {},
   "outputs": [],
   "source": [
    "v_val=3\n",
    "r_val=10"
   ]
  },
  {
   "cell_type": "code",
   "execution_count": 7,
   "metadata": {},
   "outputs": [],
   "source": [
    "##inline markdown not working properly when sympy init_printing() enabled? Adds linebreak rather inline?"
   ]
  },
  {
   "cell_type": "markdown",
   "metadata": {
    "variables": {
     "Eq(exp,Float(i.subs({v:v_val,r:r_val})))": "$$i = \\frac{v}{r} = 0.3$$",
     "Eq(exp,i.subs({v:v_val,r:r_val}))": "$$i = \\frac{v}{r} = \\frac{3}{10}$$",
     "str(Float(i.subs({v:v_val,r:r_val})))": "0.300000000000000",
     "str(r_val)": "10",
     "str(v_val)": "3"
    }
   },
   "source": [
    "For example, if a battery voltage is {{str(v_val)}} volts and the circuit resistance is {{str(r_val)}} ohms the current flowing is:\n",
    "\n",
    "\n",
    "{{Eq(exp,i.subs({v:v_val,r:r_val}))}}\n",
    "\n",
    "*or*\n",
    "\n",
    "{{Eq(exp,Float(i.subs({v:v_val,r:r_val})))}}\n",
    "\n",
    "\n",
    "*Could we display units somehow?*\n",
    "\n",
    "The symbol for amps is a capital A, so this is written as {{str(Float(i.subs({v:v_val,r:r_val})))}} A. The symbol for volts is a capital V and for ohms is the capital Greek letter omega, Ω.\n",
    "\n",
    "One amp is a fairly large current flow for electronic equipment, and quite often it is easier to work in units of 1/1000 of an amp which is 1 milliamp, written as 1 mA. Similarly, a resistance of 1 ohm is very small for electronic equipment and often resistance will be expressed in units of kilohms, kΩ, which are thousands of ohms."
   ]
  },
  {
   "cell_type": "markdown",
   "metadata": {},
   "source": [
    "### Activity 18\n",
    "\n",
    "If the battery voltage is 1 V and the circuit resistance 1 kΩ, what is the current flow in mA?"
   ]
  },
  {
   "cell_type": "markdown",
   "metadata": {},
   "source": [
    "#### Reveal discussion\n",
    "The formula triangle that I introduced earlier can be used with the equation for v, i, and r This time because v is on the top of the fraction, v goes at the top of the triangle, with i and r in the bottom corners (again it does not matter which way around), resulting in a formula triangle as shown in Figure 13. The relationship between voltage, current and resistance represented by this triangle has a special name: it is known as Ohm's law. (Georg Simon Ohm, 1789–1854, was the German physicist who first described this relationship.)\n",
    "\n",
    "The formula triangle for Ohm's law\n",
    "Figure 13 The formula triangle for Ohm's law"
   ]
  },
  {
   "cell_type": "code",
   "execution_count": 18,
   "metadata": {},
   "outputs": [],
   "source": [
    "#Solve the original equation for r\n",
    "exp2=Eq(r,solve(exp, r)[0])"
   ]
  },
  {
   "cell_type": "code",
   "execution_count": 19,
   "metadata": {},
   "outputs": [],
   "source": [
    "v=1\n",
    "i=1000"
   ]
  },
  {
   "cell_type": "code",
   "execution_count": 20,
   "metadata": {},
   "outputs": [
    {
     "data": {
      "image/png": "[encoded data removed]",
      "text/latex": [
       "$$r = \\frac{v}{i} = 0.001$$"
      ],
      "text/plain": [
       "    v        \n",
       "r = ─ = 0.001\n",
       "    i        "
      ]
     },
     "execution_count": 20,
     "metadata": {},
     "output_type": "execute_result"
    }
   ],
   "source": [
    "Eq(exp2,v/i)"
   ]
  },
  {
   "cell_type": "code",
   "execution_count": null,
   "metadata": {},
   "outputs": [],
   "source": []
  }
 ],
 "metadata": {
  "kernelspec": {
   "display_name": "Python 3",
   "language": "python",
   "name": "python3"
  },
  "language_info": {
   "codemirror_mode": {
    "name": "ipython",
    "version": 3
   },
   "file_extension": ".py",
   "mimetype": "text/x-python",
   "name": "python",
   "nbconvert_exporter": "python",
   "pygments_lexer": "ipython3",
   "version": "3.5.3"
  }
 },
 "nbformat": 4,
 "nbformat_minor": 2
}
